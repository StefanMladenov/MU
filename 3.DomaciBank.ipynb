{
 "cells": [
  {
   "cell_type": "code",
   "execution_count": 96,
   "id": "worth-suffering",
   "metadata": {},
   "outputs": [],
   "source": [
    "import pandas as pd\n",
    "import numpy as np\n",
    "from keras.models import Sequential\n",
    "from keras.layers import Dense, Dropout\n",
    "from sklearn.utils import shuffle\n",
    "from sklearn.preprocessing import MinMaxScaler\n",
    "from sklearn.model_selection import train_test_split\n",
    "from sklearn.metrics import confusion_matrix, classification_report, accuracy_score\n",
    "from tensorflow.keras.optimizers import Adam, SGD\n",
    "import matplotlib.pyplot as plt\n",
    "import seaborn as sns"
   ]
  },
  {
   "cell_type": "code",
   "execution_count": 2,
   "id": "abroad-radical",
   "metadata": {},
   "outputs": [
    {
     "data": {
      "text/html": [
       "<div>\n",
       "<style scoped>\n",
       "    .dataframe tbody tr th:only-of-type {\n",
       "        vertical-align: middle;\n",
       "    }\n",
       "\n",
       "    .dataframe tbody tr th {\n",
       "        vertical-align: top;\n",
       "    }\n",
       "\n",
       "    .dataframe thead th {\n",
       "        text-align: right;\n",
       "    }\n",
       "</style>\n",
       "<table border=\"1\" class=\"dataframe\">\n",
       "  <thead>\n",
       "    <tr style=\"text-align: right;\">\n",
       "      <th></th>\n",
       "      <th>RowNumber</th>\n",
       "      <th>CustomerId</th>\n",
       "      <th>Surname</th>\n",
       "      <th>CreditScore</th>\n",
       "      <th>Geography</th>\n",
       "      <th>Gender</th>\n",
       "      <th>Age</th>\n",
       "      <th>Tenure</th>\n",
       "      <th>Balance</th>\n",
       "      <th>NumOfProducts</th>\n",
       "      <th>HasCrCard</th>\n",
       "      <th>IsActiveMember</th>\n",
       "      <th>EstimatedSalary</th>\n",
       "      <th>Exited</th>\n",
       "    </tr>\n",
       "  </thead>\n",
       "  <tbody>\n",
       "    <tr>\n",
       "      <th>0</th>\n",
       "      <td>1</td>\n",
       "      <td>15634602</td>\n",
       "      <td>Hargrave</td>\n",
       "      <td>619</td>\n",
       "      <td>France</td>\n",
       "      <td>Female</td>\n",
       "      <td>42</td>\n",
       "      <td>2</td>\n",
       "      <td>0.00</td>\n",
       "      <td>1</td>\n",
       "      <td>1</td>\n",
       "      <td>1</td>\n",
       "      <td>101348.88</td>\n",
       "      <td>1</td>\n",
       "    </tr>\n",
       "    <tr>\n",
       "      <th>1</th>\n",
       "      <td>2</td>\n",
       "      <td>15647311</td>\n",
       "      <td>Hill</td>\n",
       "      <td>608</td>\n",
       "      <td>Spain</td>\n",
       "      <td>Female</td>\n",
       "      <td>41</td>\n",
       "      <td>1</td>\n",
       "      <td>83807.86</td>\n",
       "      <td>1</td>\n",
       "      <td>0</td>\n",
       "      <td>1</td>\n",
       "      <td>112542.58</td>\n",
       "      <td>0</td>\n",
       "    </tr>\n",
       "    <tr>\n",
       "      <th>2</th>\n",
       "      <td>3</td>\n",
       "      <td>15619304</td>\n",
       "      <td>Onio</td>\n",
       "      <td>502</td>\n",
       "      <td>France</td>\n",
       "      <td>Female</td>\n",
       "      <td>42</td>\n",
       "      <td>8</td>\n",
       "      <td>159660.80</td>\n",
       "      <td>3</td>\n",
       "      <td>1</td>\n",
       "      <td>0</td>\n",
       "      <td>113931.57</td>\n",
       "      <td>1</td>\n",
       "    </tr>\n",
       "    <tr>\n",
       "      <th>3</th>\n",
       "      <td>4</td>\n",
       "      <td>15701354</td>\n",
       "      <td>Boni</td>\n",
       "      <td>699</td>\n",
       "      <td>France</td>\n",
       "      <td>Female</td>\n",
       "      <td>39</td>\n",
       "      <td>1</td>\n",
       "      <td>0.00</td>\n",
       "      <td>2</td>\n",
       "      <td>0</td>\n",
       "      <td>0</td>\n",
       "      <td>93826.63</td>\n",
       "      <td>0</td>\n",
       "    </tr>\n",
       "    <tr>\n",
       "      <th>4</th>\n",
       "      <td>5</td>\n",
       "      <td>15737888</td>\n",
       "      <td>Mitchell</td>\n",
       "      <td>850</td>\n",
       "      <td>Spain</td>\n",
       "      <td>Female</td>\n",
       "      <td>43</td>\n",
       "      <td>2</td>\n",
       "      <td>125510.82</td>\n",
       "      <td>1</td>\n",
       "      <td>1</td>\n",
       "      <td>1</td>\n",
       "      <td>79084.10</td>\n",
       "      <td>0</td>\n",
       "    </tr>\n",
       "    <tr>\n",
       "      <th>...</th>\n",
       "      <td>...</td>\n",
       "      <td>...</td>\n",
       "      <td>...</td>\n",
       "      <td>...</td>\n",
       "      <td>...</td>\n",
       "      <td>...</td>\n",
       "      <td>...</td>\n",
       "      <td>...</td>\n",
       "      <td>...</td>\n",
       "      <td>...</td>\n",
       "      <td>...</td>\n",
       "      <td>...</td>\n",
       "      <td>...</td>\n",
       "      <td>...</td>\n",
       "    </tr>\n",
       "    <tr>\n",
       "      <th>9995</th>\n",
       "      <td>9996</td>\n",
       "      <td>15606229</td>\n",
       "      <td>Obijiaku</td>\n",
       "      <td>771</td>\n",
       "      <td>France</td>\n",
       "      <td>Male</td>\n",
       "      <td>39</td>\n",
       "      <td>5</td>\n",
       "      <td>0.00</td>\n",
       "      <td>2</td>\n",
       "      <td>1</td>\n",
       "      <td>0</td>\n",
       "      <td>96270.64</td>\n",
       "      <td>0</td>\n",
       "    </tr>\n",
       "    <tr>\n",
       "      <th>9996</th>\n",
       "      <td>9997</td>\n",
       "      <td>15569892</td>\n",
       "      <td>Johnstone</td>\n",
       "      <td>516</td>\n",
       "      <td>France</td>\n",
       "      <td>Male</td>\n",
       "      <td>35</td>\n",
       "      <td>10</td>\n",
       "      <td>57369.61</td>\n",
       "      <td>1</td>\n",
       "      <td>1</td>\n",
       "      <td>1</td>\n",
       "      <td>101699.77</td>\n",
       "      <td>0</td>\n",
       "    </tr>\n",
       "    <tr>\n",
       "      <th>9997</th>\n",
       "      <td>9998</td>\n",
       "      <td>15584532</td>\n",
       "      <td>Liu</td>\n",
       "      <td>709</td>\n",
       "      <td>France</td>\n",
       "      <td>Female</td>\n",
       "      <td>36</td>\n",
       "      <td>7</td>\n",
       "      <td>0.00</td>\n",
       "      <td>1</td>\n",
       "      <td>0</td>\n",
       "      <td>1</td>\n",
       "      <td>42085.58</td>\n",
       "      <td>1</td>\n",
       "    </tr>\n",
       "    <tr>\n",
       "      <th>9998</th>\n",
       "      <td>9999</td>\n",
       "      <td>15682355</td>\n",
       "      <td>Sabbatini</td>\n",
       "      <td>772</td>\n",
       "      <td>Germany</td>\n",
       "      <td>Male</td>\n",
       "      <td>42</td>\n",
       "      <td>3</td>\n",
       "      <td>75075.31</td>\n",
       "      <td>2</td>\n",
       "      <td>1</td>\n",
       "      <td>0</td>\n",
       "      <td>92888.52</td>\n",
       "      <td>1</td>\n",
       "    </tr>\n",
       "    <tr>\n",
       "      <th>9999</th>\n",
       "      <td>10000</td>\n",
       "      <td>15628319</td>\n",
       "      <td>Walker</td>\n",
       "      <td>792</td>\n",
       "      <td>France</td>\n",
       "      <td>Female</td>\n",
       "      <td>28</td>\n",
       "      <td>4</td>\n",
       "      <td>130142.79</td>\n",
       "      <td>1</td>\n",
       "      <td>1</td>\n",
       "      <td>0</td>\n",
       "      <td>38190.78</td>\n",
       "      <td>0</td>\n",
       "    </tr>\n",
       "  </tbody>\n",
       "</table>\n",
       "<p>10000 rows × 14 columns</p>\n",
       "</div>"
      ],
      "text/plain": [
       "      RowNumber  CustomerId    Surname  CreditScore Geography  Gender  Age  \\\n",
       "0             1    15634602   Hargrave          619    France  Female   42   \n",
       "1             2    15647311       Hill          608     Spain  Female   41   \n",
       "2             3    15619304       Onio          502    France  Female   42   \n",
       "3             4    15701354       Boni          699    France  Female   39   \n",
       "4             5    15737888   Mitchell          850     Spain  Female   43   \n",
       "...         ...         ...        ...          ...       ...     ...  ...   \n",
       "9995       9996    15606229   Obijiaku          771    France    Male   39   \n",
       "9996       9997    15569892  Johnstone          516    France    Male   35   \n",
       "9997       9998    15584532        Liu          709    France  Female   36   \n",
       "9998       9999    15682355  Sabbatini          772   Germany    Male   42   \n",
       "9999      10000    15628319     Walker          792    France  Female   28   \n",
       "\n",
       "      Tenure    Balance  NumOfProducts  HasCrCard  IsActiveMember  \\\n",
       "0          2       0.00              1          1               1   \n",
       "1          1   83807.86              1          0               1   \n",
       "2          8  159660.80              3          1               0   \n",
       "3          1       0.00              2          0               0   \n",
       "4          2  125510.82              1          1               1   \n",
       "...      ...        ...            ...        ...             ...   \n",
       "9995       5       0.00              2          1               0   \n",
       "9996      10   57369.61              1          1               1   \n",
       "9997       7       0.00              1          0               1   \n",
       "9998       3   75075.31              2          1               0   \n",
       "9999       4  130142.79              1          1               0   \n",
       "\n",
       "      EstimatedSalary  Exited  \n",
       "0           101348.88       1  \n",
       "1           112542.58       0  \n",
       "2           113931.57       1  \n",
       "3            93826.63       0  \n",
       "4            79084.10       0  \n",
       "...               ...     ...  \n",
       "9995         96270.64       0  \n",
       "9996        101699.77       0  \n",
       "9997         42085.58       1  \n",
       "9998         92888.52       1  \n",
       "9999         38190.78       0  \n",
       "\n",
       "[10000 rows x 14 columns]"
      ]
     },
     "execution_count": 2,
     "metadata": {},
     "output_type": "execute_result"
    }
   ],
   "source": [
    "dataset = pd.read_csv('DataSets/Churn_Modelling.csv')\n",
    "dataset"
   ]
  },
  {
   "cell_type": "code",
   "execution_count": 3,
   "id": "cathedral-gibraltar",
   "metadata": {},
   "outputs": [
    {
     "name": "stdout",
     "output_type": "stream",
     "text": [
      "<class 'pandas.core.frame.DataFrame'>\n",
      "RangeIndex: 10000 entries, 0 to 9999\n",
      "Data columns (total 14 columns):\n",
      " #   Column           Non-Null Count  Dtype  \n",
      "---  ------           --------------  -----  \n",
      " 0   RowNumber        10000 non-null  int64  \n",
      " 1   CustomerId       10000 non-null  int64  \n",
      " 2   Surname          10000 non-null  object \n",
      " 3   CreditScore      10000 non-null  int64  \n",
      " 4   Geography        10000 non-null  object \n",
      " 5   Gender           10000 non-null  object \n",
      " 6   Age              10000 non-null  int64  \n",
      " 7   Tenure           10000 non-null  int64  \n",
      " 8   Balance          10000 non-null  float64\n",
      " 9   NumOfProducts    10000 non-null  int64  \n",
      " 10  HasCrCard        10000 non-null  int64  \n",
      " 11  IsActiveMember   10000 non-null  int64  \n",
      " 12  EstimatedSalary  10000 non-null  float64\n",
      " 13  Exited           10000 non-null  int64  \n",
      "dtypes: float64(2), int64(9), object(3)\n",
      "memory usage: 1.1+ MB\n"
     ]
    }
   ],
   "source": [
    "dataset.info()"
   ]
  },
  {
   "cell_type": "code",
   "execution_count": 4,
   "id": "indie-relaxation",
   "metadata": {},
   "outputs": [
    {
     "data": {
      "text/plain": [
       "(10000, 14)"
      ]
     },
     "execution_count": 4,
     "metadata": {},
     "output_type": "execute_result"
    }
   ],
   "source": [
    "dataset.values.shape"
   ]
  },
  {
   "cell_type": "code",
   "execution_count": 5,
   "id": "defensive-barrier",
   "metadata": {},
   "outputs": [
    {
     "data": {
      "text/plain": [
       "<AxesSubplot:>"
      ]
     },
     "execution_count": 5,
     "metadata": {},
     "output_type": "execute_result"
    },
    {
     "data": {
      "image/png": "[encoded data removed]",
      "text/plain": [
       "<Figure size 1296x1296 with 2 Axes>"
      ]
     },
     "metadata": {
      "needs_background": "light"
     },
     "output_type": "display_data"
    }
   ],
   "source": [
    "#korelacija podataka\n",
    "corrmat = dataset.corr()\n",
    "cmap = sns.diverging_palette(260,-10,s=50, l=75, n=6, as_cmap=True)\n",
    "plt.subplots(figsize=(18,18))\n",
    "sns.heatmap(corrmat,cmap= cmap,annot=True, square=True)"
   ]
  },
  {
   "cell_type": "code",
   "execution_count": 6,
   "id": "accessory-darkness",
   "metadata": {},
   "outputs": [],
   "source": [
    "categorical = []\n",
    "numerical = []\n",
    "\n",
    "for feature in dataset.columns:\n",
    "    if dataset[feature].dtype == 'object':\n",
    "        categorical.append(feature)\n",
    "    else:\n",
    "        numerical.append(feature)"
   ]
  },
  {
   "cell_type": "code",
   "execution_count": 7,
   "id": "every-toner",
   "metadata": {},
   "outputs": [
    {
     "name": "stdout",
     "output_type": "stream",
     "text": [
      "['RowNumber', 'CustomerId', 'CreditScore', 'Age', 'Tenure', 'Balance', 'NumOfProducts', 'HasCrCard', 'IsActiveMember', 'EstimatedSalary', 'Exited']\n",
      "Ukupan broj numerickih atributa: 11\n"
     ]
    }
   ],
   "source": [
    "print(numerical)\n",
    "print('Ukupan broj numerickih atributa:', len(numerical))"
   ]
  },
  {
   "cell_type": "code",
   "execution_count": 8,
   "id": "talented-tokyo",
   "metadata": {},
   "outputs": [
    {
     "name": "stdout",
     "output_type": "stream",
     "text": [
      "['Surname', 'Geography', 'Gender']\n",
      "Ukupan broj kategorickih atributa: 3\n"
     ]
    }
   ],
   "source": [
    "print(categorical)\n",
    "print('Ukupan broj kategorickih atributa:', len(categorical))"
   ]
  },
  {
   "cell_type": "markdown",
   "id": "recent-background",
   "metadata": {},
   "source": [
    "Podatak koji se predvidja - exited kolona koja oznacava da li je korisnik aktuelni - vrednost 0 ili je korisnik zatvorio racun u banci - vrednost 1"
   ]
  },
  {
   "cell_type": "code",
   "execution_count": 9,
   "id": "normal-match",
   "metadata": {},
   "outputs": [
    {
     "data": {
      "text/plain": [
       "<AxesSubplot:xlabel='Exited', ylabel='count'>"
      ]
     },
     "execution_count": 9,
     "metadata": {},
     "output_type": "execute_result"
    },
    {
     "data": {
      "image/png": "[encoded data removed]",
      "text/plain": [
       "<Figure size 432x288 with 1 Axes>"
      ]
     },
     "metadata": {
      "needs_background": "light"
     },
     "output_type": "display_data"
    }
   ],
   "source": [
    "cols= [\"#C2C4E2\",\"#EED4E5\"]\n",
    "sns.countplot(x= dataset[\"Exited\"], palette= cols)"
   ]
  },
  {
   "cell_type": "code",
   "execution_count": 10,
   "id": "editorial-badge",
   "metadata": {},
   "outputs": [
    {
     "name": "stdout",
     "output_type": "stream",
     "text": [
      "Broj korisnika koji je zatvorio racun: 2037\n",
      "U procentima:  20.369999999999997 %\n"
     ]
    }
   ],
   "source": [
    "print('Broj korisnika koji je zatvorio racun:', len(dataset.loc[dataset['Exited'] == 1]))\n",
    "print(f'U procentima: ', (len(dataset.loc[dataset['Exited'] == 1]) / len(dataset)) * 100, '%')"
   ]
  },
  {
   "cell_type": "markdown",
   "id": "foster-wright",
   "metadata": {},
   "source": [
    "Skaliranje numerickih atributa i uklanjanje irelevantnih vrednosti poput rednog broja i identifikatora korisnika"
   ]
  },
  {
   "cell_type": "code",
   "execution_count": 11,
   "id": "educated-fever",
   "metadata": {},
   "outputs": [
    {
     "data": {
      "text/html": [
       "<div>\n",
       "<style scoped>\n",
       "    .dataframe tbody tr th:only-of-type {\n",
       "        vertical-align: middle;\n",
       "    }\n",
       "\n",
       "    .dataframe tbody tr th {\n",
       "        vertical-align: top;\n",
       "    }\n",
       "\n",
       "    .dataframe thead th {\n",
       "        text-align: right;\n",
       "    }\n",
       "</style>\n",
       "<table border=\"1\" class=\"dataframe\">\n",
       "  <thead>\n",
       "    <tr style=\"text-align: right;\">\n",
       "      <th></th>\n",
       "      <th>CreditScore</th>\n",
       "      <th>Age</th>\n",
       "      <th>Tenure</th>\n",
       "      <th>Balance</th>\n",
       "      <th>NumOfProducts</th>\n",
       "      <th>HasCrCard</th>\n",
       "      <th>IsActiveMember</th>\n",
       "      <th>EstimatedSalary</th>\n",
       "    </tr>\n",
       "  </thead>\n",
       "  <tbody>\n",
       "    <tr>\n",
       "      <th>0</th>\n",
       "      <td>0.538</td>\n",
       "      <td>0.324324</td>\n",
       "      <td>0.2</td>\n",
       "      <td>0.000000</td>\n",
       "      <td>0.000000</td>\n",
       "      <td>1.0</td>\n",
       "      <td>1.0</td>\n",
       "      <td>0.506735</td>\n",
       "    </tr>\n",
       "    <tr>\n",
       "      <th>1</th>\n",
       "      <td>0.516</td>\n",
       "      <td>0.310811</td>\n",
       "      <td>0.1</td>\n",
       "      <td>0.334031</td>\n",
       "      <td>0.000000</td>\n",
       "      <td>0.0</td>\n",
       "      <td>1.0</td>\n",
       "      <td>0.562709</td>\n",
       "    </tr>\n",
       "    <tr>\n",
       "      <th>2</th>\n",
       "      <td>0.304</td>\n",
       "      <td>0.324324</td>\n",
       "      <td>0.8</td>\n",
       "      <td>0.636357</td>\n",
       "      <td>0.666667</td>\n",
       "      <td>1.0</td>\n",
       "      <td>0.0</td>\n",
       "      <td>0.569654</td>\n",
       "    </tr>\n",
       "    <tr>\n",
       "      <th>3</th>\n",
       "      <td>0.698</td>\n",
       "      <td>0.283784</td>\n",
       "      <td>0.1</td>\n",
       "      <td>0.000000</td>\n",
       "      <td>0.333333</td>\n",
       "      <td>0.0</td>\n",
       "      <td>0.0</td>\n",
       "      <td>0.469120</td>\n",
       "    </tr>\n",
       "    <tr>\n",
       "      <th>4</th>\n",
       "      <td>1.000</td>\n",
       "      <td>0.337838</td>\n",
       "      <td>0.2</td>\n",
       "      <td>0.500246</td>\n",
       "      <td>0.000000</td>\n",
       "      <td>1.0</td>\n",
       "      <td>1.0</td>\n",
       "      <td>0.395400</td>\n",
       "    </tr>\n",
       "  </tbody>\n",
       "</table>\n",
       "</div>"
      ],
      "text/plain": [
       "   CreditScore       Age  Tenure   Balance  NumOfProducts  HasCrCard  \\\n",
       "0        0.538  0.324324     0.2  0.000000       0.000000        1.0   \n",
       "1        0.516  0.310811     0.1  0.334031       0.000000        0.0   \n",
       "2        0.304  0.324324     0.8  0.636357       0.666667        1.0   \n",
       "3        0.698  0.283784     0.1  0.000000       0.333333        0.0   \n",
       "4        1.000  0.337838     0.2  0.500246       0.000000        1.0   \n",
       "\n",
       "   IsActiveMember  EstimatedSalary  \n",
       "0             1.0         0.506735  \n",
       "1             1.0         0.562709  \n",
       "2             0.0         0.569654  \n",
       "3             0.0         0.469120  \n",
       "4             1.0         0.395400  "
      ]
     },
     "execution_count": 11,
     "metadata": {},
     "output_type": "execute_result"
    }
   ],
   "source": [
    "scaler = MinMaxScaler()\n",
    "numerical.remove(\"RowNumber\")\n",
    "numerical.remove(\"CustomerId\")\n",
    "numerical.remove(\"Exited\")\n",
    "\n",
    "for record in numerical:\n",
    "    dataset[record] = scaler.fit_transform(dataset[[record]])\n",
    "    \n",
    "dataset[numerical].head()"
   ]
  },
  {
   "cell_type": "code",
   "execution_count": 12,
   "id": "latest-newfoundland",
   "metadata": {},
   "outputs": [],
   "source": [
    "X_train, X_test, Y_train, Y_test = train_test_split(dataset[numerical], dataset['Exited'], test_size=0.2)"
   ]
  },
  {
   "cell_type": "code",
   "execution_count": 13,
   "id": "geological-failure",
   "metadata": {},
   "outputs": [
    {
     "data": {
      "text/plain": [
       "0       1\n",
       "1       0\n",
       "2       1\n",
       "3       0\n",
       "4       0\n",
       "       ..\n",
       "9995    0\n",
       "9996    0\n",
       "9997    1\n",
       "9998    1\n",
       "9999    0\n",
       "Name: Exited, Length: 10000, dtype: int64"
      ]
     },
     "execution_count": 13,
     "metadata": {},
     "output_type": "execute_result"
    }
   ],
   "source": [
    "dataset['Exited']"
   ]
  },
  {
   "cell_type": "code",
   "execution_count": 14,
   "id": "seven-bangkok",
   "metadata": {},
   "outputs": [
    {
     "data": {
      "text/plain": [
       "(8000, 8)"
      ]
     },
     "execution_count": 14,
     "metadata": {},
     "output_type": "execute_result"
    }
   ],
   "source": [
    "X_train.shape"
   ]
  },
  {
   "cell_type": "code",
   "execution_count": 15,
   "id": "beneficial-commissioner",
   "metadata": {},
   "outputs": [],
   "source": [
    "model = Sequential([\n",
    "    Dense(units=4, input_dim=8, activation='relu'),\n",
    "    Dense(units=1, activation='sigmoid')\n",
    "])"
   ]
  },
  {
   "cell_type": "code",
   "execution_count": 16,
   "id": "primary-stroke",
   "metadata": {},
   "outputs": [],
   "source": [
    "model.compile(optimizer='adam', loss='binary_crossentropy', metrics=['accuracy'])"
   ]
  },
  {
   "cell_type": "code",
   "execution_count": 17,
   "id": "municipal-senator",
   "metadata": {},
   "outputs": [
    {
     "name": "stdout",
     "output_type": "stream",
     "text": [
      "Epoch 1/50\n",
      "640/640 - 2s - loss: 0.5944 - accuracy: 0.7203 - val_loss: 0.5095 - val_accuracy: 0.8119\n",
      "Epoch 2/50\n",
      "640/640 - 0s - loss: 0.5196 - accuracy: 0.7884 - val_loss: 0.4768 - val_accuracy: 0.8119\n",
      "Epoch 3/50\n",
      "640/640 - 0s - loss: 0.4948 - accuracy: 0.7884 - val_loss: 0.4637 - val_accuracy: 0.8119\n",
      "Epoch 4/50\n",
      "640/640 - 0s - loss: 0.4816 - accuracy: 0.7884 - val_loss: 0.4536 - val_accuracy: 0.8119\n",
      "Epoch 5/50\n",
      "640/640 - 0s - loss: 0.4719 - accuracy: 0.7923 - val_loss: 0.4460 - val_accuracy: 0.8206\n",
      "Epoch 6/50\n",
      "640/640 - 0s - loss: 0.4640 - accuracy: 0.7972 - val_loss: 0.4420 - val_accuracy: 0.8306\n",
      "Epoch 7/50\n",
      "640/640 - 0s - loss: 0.4571 - accuracy: 0.8034 - val_loss: 0.4382 - val_accuracy: 0.8356\n",
      "Epoch 8/50\n",
      "640/640 - 0s - loss: 0.4519 - accuracy: 0.8097 - val_loss: 0.4317 - val_accuracy: 0.8344\n",
      "Epoch 9/50\n",
      "640/640 - 0s - loss: 0.4465 - accuracy: 0.8089 - val_loss: 0.4332 - val_accuracy: 0.8344\n",
      "Epoch 10/50\n",
      "640/640 - 0s - loss: 0.4427 - accuracy: 0.8095 - val_loss: 0.4206 - val_accuracy: 0.8331\n",
      "Epoch 11/50\n",
      "640/640 - 0s - loss: 0.4392 - accuracy: 0.8083 - val_loss: 0.4179 - val_accuracy: 0.8350\n",
      "Epoch 12/50\n",
      "640/640 - 0s - loss: 0.4356 - accuracy: 0.8077 - val_loss: 0.4170 - val_accuracy: 0.8381\n",
      "Epoch 13/50\n",
      "640/640 - 0s - loss: 0.4328 - accuracy: 0.8105 - val_loss: 0.4139 - val_accuracy: 0.8356\n",
      "Epoch 14/50\n",
      "640/640 - 0s - loss: 0.4300 - accuracy: 0.8127 - val_loss: 0.4155 - val_accuracy: 0.8381\n",
      "Epoch 15/50\n",
      "640/640 - 0s - loss: 0.4277 - accuracy: 0.8102 - val_loss: 0.4073 - val_accuracy: 0.8356\n",
      "Epoch 16/50\n",
      "640/640 - 0s - loss: 0.4253 - accuracy: 0.8122 - val_loss: 0.4090 - val_accuracy: 0.8413\n",
      "Epoch 17/50\n",
      "640/640 - 0s - loss: 0.4229 - accuracy: 0.8122 - val_loss: 0.4033 - val_accuracy: 0.8394\n",
      "Epoch 18/50\n",
      "640/640 - 0s - loss: 0.4209 - accuracy: 0.8152 - val_loss: 0.4005 - val_accuracy: 0.8400\n",
      "Epoch 19/50\n",
      "640/640 - 0s - loss: 0.4188 - accuracy: 0.8128 - val_loss: 0.4033 - val_accuracy: 0.8425\n",
      "Epoch 20/50\n",
      "640/640 - 0s - loss: 0.4171 - accuracy: 0.8166 - val_loss: 0.3973 - val_accuracy: 0.8431\n",
      "Epoch 21/50\n",
      "640/640 - 0s - loss: 0.4156 - accuracy: 0.8177 - val_loss: 0.3956 - val_accuracy: 0.8444\n",
      "Epoch 22/50\n",
      "640/640 - 0s - loss: 0.4133 - accuracy: 0.8169 - val_loss: 0.4044 - val_accuracy: 0.8369\n",
      "Epoch 23/50\n",
      "640/640 - 0s - loss: 0.4127 - accuracy: 0.8198 - val_loss: 0.3940 - val_accuracy: 0.8438\n",
      "Epoch 24/50\n",
      "640/640 - 0s - loss: 0.4103 - accuracy: 0.8216 - val_loss: 0.3946 - val_accuracy: 0.8462\n",
      "Epoch 25/50\n",
      "640/640 - 0s - loss: 0.4099 - accuracy: 0.8214 - val_loss: 0.3950 - val_accuracy: 0.8438\n",
      "Epoch 26/50\n",
      "640/640 - 0s - loss: 0.4085 - accuracy: 0.8231 - val_loss: 0.3914 - val_accuracy: 0.8456\n",
      "Epoch 27/50\n",
      "640/640 - 0s - loss: 0.4069 - accuracy: 0.8219 - val_loss: 0.3874 - val_accuracy: 0.8444\n",
      "Epoch 28/50\n",
      "640/640 - 0s - loss: 0.4060 - accuracy: 0.8245 - val_loss: 0.3901 - val_accuracy: 0.8475\n",
      "Epoch 29/50\n",
      "640/640 - 0s - loss: 0.4052 - accuracy: 0.8244 - val_loss: 0.3856 - val_accuracy: 0.8450\n",
      "Epoch 30/50\n",
      "640/640 - 0s - loss: 0.4039 - accuracy: 0.8259 - val_loss: 0.3885 - val_accuracy: 0.8469\n",
      "Epoch 31/50\n",
      "640/640 - 0s - loss: 0.4026 - accuracy: 0.8256 - val_loss: 0.3830 - val_accuracy: 0.8494\n",
      "Epoch 32/50\n",
      "640/640 - 0s - loss: 0.4014 - accuracy: 0.8269 - val_loss: 0.3856 - val_accuracy: 0.8469\n",
      "Epoch 33/50\n",
      "640/640 - 0s - loss: 0.4011 - accuracy: 0.8272 - val_loss: 0.3828 - val_accuracy: 0.8469\n",
      "Epoch 34/50\n",
      "640/640 - 0s - loss: 0.4001 - accuracy: 0.8281 - val_loss: 0.3868 - val_accuracy: 0.8494\n",
      "Epoch 35/50\n",
      "640/640 - 0s - loss: 0.3993 - accuracy: 0.8278 - val_loss: 0.3807 - val_accuracy: 0.8481\n",
      "Epoch 36/50\n",
      "640/640 - 0s - loss: 0.3982 - accuracy: 0.8292 - val_loss: 0.3802 - val_accuracy: 0.8456\n",
      "Epoch 37/50\n",
      "640/640 - 0s - loss: 0.3980 - accuracy: 0.8273 - val_loss: 0.3793 - val_accuracy: 0.8462\n",
      "Epoch 38/50\n",
      "640/640 - 0s - loss: 0.3971 - accuracy: 0.8294 - val_loss: 0.3778 - val_accuracy: 0.8475\n",
      "Epoch 39/50\n",
      "640/640 - 0s - loss: 0.3967 - accuracy: 0.8317 - val_loss: 0.3811 - val_accuracy: 0.8487\n",
      "Epoch 40/50\n",
      "640/640 - 0s - loss: 0.3961 - accuracy: 0.8291 - val_loss: 0.3831 - val_accuracy: 0.8500\n",
      "Epoch 41/50\n",
      "640/640 - 0s - loss: 0.3950 - accuracy: 0.8286 - val_loss: 0.3765 - val_accuracy: 0.8462\n",
      "Epoch 42/50\n",
      "640/640 - 0s - loss: 0.3954 - accuracy: 0.8298 - val_loss: 0.3758 - val_accuracy: 0.8494\n",
      "Epoch 43/50\n",
      "640/640 - 0s - loss: 0.3941 - accuracy: 0.8309 - val_loss: 0.3754 - val_accuracy: 0.8506\n",
      "Epoch 44/50\n",
      "640/640 - 0s - loss: 0.3938 - accuracy: 0.8316 - val_loss: 0.3757 - val_accuracy: 0.8512\n",
      "Epoch 45/50\n",
      "640/640 - 0s - loss: 0.3932 - accuracy: 0.8319 - val_loss: 0.3800 - val_accuracy: 0.8487\n",
      "Epoch 46/50\n",
      "640/640 - 0s - loss: 0.3927 - accuracy: 0.8314 - val_loss: 0.3794 - val_accuracy: 0.8494\n",
      "Epoch 47/50\n",
      "640/640 - 0s - loss: 0.3927 - accuracy: 0.8327 - val_loss: 0.3759 - val_accuracy: 0.8519\n",
      "Epoch 48/50\n",
      "640/640 - 0s - loss: 0.3921 - accuracy: 0.8339 - val_loss: 0.3778 - val_accuracy: 0.8494\n",
      "Epoch 49/50\n",
      "640/640 - 0s - loss: 0.3917 - accuracy: 0.8319 - val_loss: 0.3773 - val_accuracy: 0.8525\n",
      "Epoch 50/50\n",
      "640/640 - 0s - loss: 0.3915 - accuracy: 0.8348 - val_loss: 0.3757 - val_accuracy: 0.8525\n"
     ]
    }
   ],
   "source": [
    "model_history = model.fit(x=X_train, y=Y_train, validation_split=0.2, batch_size=10, epochs=50, verbose=2)"
   ]
  },
  {
   "cell_type": "code",
   "execution_count": 18,
   "id": "blind-continuity",
   "metadata": {},
   "outputs": [
    {
     "data": {
      "text/plain": [
       "array([[0.20115334],\n",
       "       [0.42438784],\n",
       "       [0.29996347],\n",
       "       ...,\n",
       "       [0.02308288],\n",
       "       [0.4962027 ],\n",
       "       [0.19458884]], dtype=float32)"
      ]
     },
     "execution_count": 18,
     "metadata": {},
     "output_type": "execute_result"
    }
   ],
   "source": [
    "predicted_values = model.predict(X_test)\n",
    "predicted_values"
   ]
  },
  {
   "cell_type": "code",
   "execution_count": 19,
   "id": "hawaiian-seeker",
   "metadata": {},
   "outputs": [
    {
     "data": {
      "text/plain": [
       "array([[False],\n",
       "       [False],\n",
       "       [False],\n",
       "       ...,\n",
       "       [False],\n",
       "       [False],\n",
       "       [False]])"
      ]
     },
     "execution_count": 19,
     "metadata": {},
     "output_type": "execute_result"
    }
   ],
   "source": [
    "predicted_values = (predicted_values > 0.5)\n",
    "predicted_values"
   ]
  },
  {
   "cell_type": "code",
   "execution_count": 20,
   "id": "medieval-brisbane",
   "metadata": {},
   "outputs": [
    {
     "data": {
      "image/png": "[encoded data removed]",
      "text/plain": [
       "<Figure size 432x288 with 1 Axes>"
      ]
     },
     "metadata": {
      "needs_background": "light"
     },
     "output_type": "display_data"
    }
   ],
   "source": [
    "conf_mat = confusion_matrix(Y_test, predicted_values)\n",
    "conf_mat_df = pd.DataFrame(conf_mat, index=[0, 1], columns=[0, 1])\n",
    "cmap = sns.cubehelix_palette(light=1, as_cmap=True)\n",
    "h_map = sns.heatmap(conf_mat, annot=True, cbar=False, fmt='d', cmap=cmap)\n",
    "h_map.invert_yaxis()\n",
    "h_map.invert_xaxis()"
   ]
  },
  {
   "cell_type": "code",
   "execution_count": 21,
   "id": "signed-cabin",
   "metadata": {},
   "outputs": [
    {
     "name": "stdout",
     "output_type": "stream",
     "text": [
      "              precision    recall  f1-score   support\n",
      "\n",
      "           0       0.87      0.95      0.91      1618\n",
      "           1       0.65      0.37      0.47       382\n",
      "\n",
      "    accuracy                           0.84      2000\n",
      "   macro avg       0.76      0.66      0.69      2000\n",
      "weighted avg       0.82      0.84      0.82      2000\n",
      "\n"
     ]
    }
   ],
   "source": [
    "class_report = classification_report(Y_test, predicted_values)\n",
    "print(class_report)"
   ]
  },
  {
   "cell_type": "code",
   "execution_count": 22,
   "id": "sapphire-reward",
   "metadata": {},
   "outputs": [
    {
     "data": {
      "text/plain": [
       "0.841"
      ]
     },
     "execution_count": 22,
     "metadata": {},
     "output_type": "execute_result"
    }
   ],
   "source": [
    "accuracy = accuracy_score(Y_test, predicted_values)\n",
    "accuracy"
   ]
  },
  {
   "cell_type": "code",
   "execution_count": 23,
   "id": "shared-sheep",
   "metadata": {},
   "outputs": [
    {
     "data": {
      "text/plain": [
       "<matplotlib.legend.Legend at 0x250b454ce20>"
      ]
     },
     "execution_count": 23,
     "metadata": {},
     "output_type": "execute_result"
    },
    {
     "data": {
      "image/png": "[encoded data removed]",
      "text/plain": [
       "<Figure size 432x288 with 1 Axes>"
      ]
     },
     "metadata": {
      "needs_background": "light"
     },
     "output_type": "display_data"
    }
   ],
   "source": [
    "plt.subplot(211)\n",
    "plt.title('Accuracy')\n",
    "plt.plot(model_history.history['accuracy'], label='train')\n",
    "plt.plot(model_history.history['val_accuracy'], label='test')\n",
    "plt.legend()"
   ]
  },
  {
   "cell_type": "code",
   "execution_count": 24,
   "id": "final-revision",
   "metadata": {},
   "outputs": [
    {
     "data": {
      "text/plain": [
       "<matplotlib.legend.Legend at 0x250b45b4d30>"
      ]
     },
     "execution_count": 24,
     "metadata": {},
     "output_type": "execute_result"
    },
    {
     "data": {
      "image/png": "[encoded data removed]",
      "text/plain": [
       "<Figure size 432x288 with 1 Axes>"
      ]
     },
     "metadata": {
      "needs_background": "light"
     },
     "output_type": "display_data"
    }
   ],
   "source": [
    "plt.subplot(211)\n",
    "plt.title('Loss')\n",
    "plt.plot(model_history.history['loss'], label='train')\n",
    "plt.plot(model_history.history['val_loss'], label='test')\n",
    "plt.legend()"
   ]
  },
  {
   "cell_type": "markdown",
   "id": "freelance-conditions",
   "metadata": {},
   "source": [
    "Dodavanje jos jednog sloja u neuronskoj mrezi"
   ]
  },
  {
   "cell_type": "code",
   "execution_count": 25,
   "id": "provincial-porcelain",
   "metadata": {},
   "outputs": [
    {
     "name": "stdout",
     "output_type": "stream",
     "text": [
      "Epoch 1/50\n",
      "640/640 - 1s - loss: 0.5681 - accuracy: 0.7581 - val_loss: 0.4816 - val_accuracy: 0.8119\n",
      "Epoch 2/50\n",
      "640/640 - 0s - loss: 0.5016 - accuracy: 0.7884 - val_loss: 0.4664 - val_accuracy: 0.8119\n",
      "Epoch 3/50\n",
      "640/640 - 0s - loss: 0.4910 - accuracy: 0.7884 - val_loss: 0.4603 - val_accuracy: 0.8119\n",
      "Epoch 4/50\n",
      "640/640 - 0s - loss: 0.4843 - accuracy: 0.7884 - val_loss: 0.4594 - val_accuracy: 0.8119\n",
      "Epoch 5/50\n",
      "640/640 - 0s - loss: 0.4785 - accuracy: 0.7884 - val_loss: 0.4511 - val_accuracy: 0.8119\n",
      "Epoch 6/50\n",
      "640/640 - 0s - loss: 0.4724 - accuracy: 0.7884 - val_loss: 0.4437 - val_accuracy: 0.8119\n",
      "Epoch 7/50\n",
      "640/640 - 0s - loss: 0.4626 - accuracy: 0.7911 - val_loss: 0.4349 - val_accuracy: 0.8206\n",
      "Epoch 8/50\n",
      "640/640 - 0s - loss: 0.4531 - accuracy: 0.7983 - val_loss: 0.4303 - val_accuracy: 0.8281\n",
      "Epoch 9/50\n",
      "640/640 - 0s - loss: 0.4452 - accuracy: 0.8006 - val_loss: 0.4327 - val_accuracy: 0.8263\n",
      "Epoch 10/50\n",
      "640/640 - 0s - loss: 0.4392 - accuracy: 0.8031 - val_loss: 0.4140 - val_accuracy: 0.8294\n",
      "Epoch 11/50\n",
      "640/640 - 0s - loss: 0.4343 - accuracy: 0.8036 - val_loss: 0.4123 - val_accuracy: 0.8319\n",
      "Epoch 12/50\n",
      "640/640 - 0s - loss: 0.4302 - accuracy: 0.8050 - val_loss: 0.4086 - val_accuracy: 0.8300\n",
      "Epoch 13/50\n",
      "640/640 - 0s - loss: 0.4271 - accuracy: 0.8028 - val_loss: 0.4047 - val_accuracy: 0.8288\n",
      "Epoch 14/50\n",
      "640/640 - 0s - loss: 0.4241 - accuracy: 0.8039 - val_loss: 0.4014 - val_accuracy: 0.8300\n",
      "Epoch 15/50\n",
      "640/640 - 0s - loss: 0.4210 - accuracy: 0.8058 - val_loss: 0.4016 - val_accuracy: 0.8281\n",
      "Epoch 16/50\n",
      "640/640 - 1s - loss: 0.4191 - accuracy: 0.8052 - val_loss: 0.3962 - val_accuracy: 0.8306\n",
      "Epoch 17/50\n",
      "640/640 - 1s - loss: 0.4167 - accuracy: 0.8105 - val_loss: 0.3927 - val_accuracy: 0.8344\n",
      "Epoch 18/50\n",
      "640/640 - 0s - loss: 0.4153 - accuracy: 0.8123 - val_loss: 0.3937 - val_accuracy: 0.8381\n",
      "Epoch 19/50\n",
      "640/640 - 0s - loss: 0.4134 - accuracy: 0.8148 - val_loss: 0.3922 - val_accuracy: 0.8406\n",
      "Epoch 20/50\n",
      "640/640 - 0s - loss: 0.4110 - accuracy: 0.8153 - val_loss: 0.3879 - val_accuracy: 0.8400\n",
      "Epoch 21/50\n",
      "640/640 - 0s - loss: 0.4097 - accuracy: 0.8177 - val_loss: 0.3888 - val_accuracy: 0.8400\n",
      "Epoch 22/50\n",
      "640/640 - 0s - loss: 0.4067 - accuracy: 0.8217 - val_loss: 0.3856 - val_accuracy: 0.8400\n",
      "Epoch 23/50\n",
      "640/640 - 0s - loss: 0.4051 - accuracy: 0.8203 - val_loss: 0.3916 - val_accuracy: 0.8381\n",
      "Epoch 24/50\n",
      "640/640 - 0s - loss: 0.4032 - accuracy: 0.8242 - val_loss: 0.3822 - val_accuracy: 0.8413\n",
      "Epoch 25/50\n",
      "640/640 - 0s - loss: 0.3999 - accuracy: 0.8283 - val_loss: 0.3854 - val_accuracy: 0.8381\n",
      "Epoch 26/50\n",
      "640/640 - 0s - loss: 0.3987 - accuracy: 0.8266 - val_loss: 0.3785 - val_accuracy: 0.8413\n",
      "Epoch 27/50\n",
      "640/640 - 0s - loss: 0.3962 - accuracy: 0.8295 - val_loss: 0.3923 - val_accuracy: 0.8269\n",
      "Epoch 28/50\n",
      "640/640 - 0s - loss: 0.3945 - accuracy: 0.8270 - val_loss: 0.3759 - val_accuracy: 0.8456\n",
      "Epoch 29/50\n",
      "640/640 - 0s - loss: 0.3922 - accuracy: 0.8309 - val_loss: 0.3814 - val_accuracy: 0.8419\n",
      "Epoch 30/50\n",
      "640/640 - 1s - loss: 0.3911 - accuracy: 0.8316 - val_loss: 0.3792 - val_accuracy: 0.8425\n",
      "Epoch 31/50\n",
      "640/640 - 0s - loss: 0.3895 - accuracy: 0.8355 - val_loss: 0.3713 - val_accuracy: 0.8469\n",
      "Epoch 32/50\n",
      "640/640 - 0s - loss: 0.3885 - accuracy: 0.8350 - val_loss: 0.3673 - val_accuracy: 0.8487\n",
      "Epoch 33/50\n",
      "640/640 - 0s - loss: 0.3868 - accuracy: 0.8339 - val_loss: 0.3692 - val_accuracy: 0.8506\n",
      "Epoch 34/50\n",
      "640/640 - 0s - loss: 0.3851 - accuracy: 0.8353 - val_loss: 0.3653 - val_accuracy: 0.8537\n",
      "Epoch 35/50\n",
      "640/640 - 0s - loss: 0.3837 - accuracy: 0.8405 - val_loss: 0.3744 - val_accuracy: 0.8406\n",
      "Epoch 36/50\n",
      "640/640 - 0s - loss: 0.3823 - accuracy: 0.8377 - val_loss: 0.3629 - val_accuracy: 0.8544\n",
      "Epoch 37/50\n",
      "640/640 - 0s - loss: 0.3811 - accuracy: 0.8395 - val_loss: 0.3764 - val_accuracy: 0.8363\n",
      "Epoch 38/50\n",
      "640/640 - 0s - loss: 0.3804 - accuracy: 0.8392 - val_loss: 0.3607 - val_accuracy: 0.8544\n",
      "Epoch 39/50\n",
      "640/640 - 0s - loss: 0.3793 - accuracy: 0.8411 - val_loss: 0.3629 - val_accuracy: 0.8587\n",
      "Epoch 40/50\n",
      "640/640 - 0s - loss: 0.3783 - accuracy: 0.8403 - val_loss: 0.3611 - val_accuracy: 0.8587\n",
      "Epoch 41/50\n",
      "640/640 - 0s - loss: 0.3781 - accuracy: 0.8414 - val_loss: 0.3689 - val_accuracy: 0.8444\n",
      "Epoch 42/50\n",
      "640/640 - 0s - loss: 0.3778 - accuracy: 0.8430 - val_loss: 0.3619 - val_accuracy: 0.8537\n",
      "Epoch 43/50\n",
      "640/640 - 0s - loss: 0.3752 - accuracy: 0.8423 - val_loss: 0.3589 - val_accuracy: 0.8575\n",
      "Epoch 44/50\n",
      "640/640 - 0s - loss: 0.3752 - accuracy: 0.8447 - val_loss: 0.3609 - val_accuracy: 0.8562\n",
      "Epoch 45/50\n",
      "640/640 - 0s - loss: 0.3748 - accuracy: 0.8427 - val_loss: 0.3591 - val_accuracy: 0.8600\n",
      "Epoch 46/50\n",
      "640/640 - 0s - loss: 0.3748 - accuracy: 0.8430 - val_loss: 0.3611 - val_accuracy: 0.8569\n",
      "Epoch 47/50\n",
      "640/640 - 0s - loss: 0.3742 - accuracy: 0.8450 - val_loss: 0.3575 - val_accuracy: 0.8562\n",
      "Epoch 48/50\n",
      "640/640 - 1s - loss: 0.3746 - accuracy: 0.8420 - val_loss: 0.3596 - val_accuracy: 0.8600\n",
      "Epoch 49/50\n",
      "640/640 - 0s - loss: 0.3740 - accuracy: 0.8428 - val_loss: 0.3559 - val_accuracy: 0.8594\n",
      "Epoch 50/50\n",
      "640/640 - 0s - loss: 0.3725 - accuracy: 0.8462 - val_loss: 0.3602 - val_accuracy: 0.8581\n"
     ]
    }
   ],
   "source": [
    "model = Sequential([\n",
    "    Dense(units=4, input_shape=(8, ), activation='relu'),\n",
    "    Dense(units=4, activation='relu'),\n",
    "    Dense(units=1, activation='sigmoid')\n",
    "])\n",
    "model.compile(optimizer='adam', loss='binary_crossentropy', metrics=['accuracy'])\n",
    "model_history = model.fit(x=X_train, y=Y_train, validation_split=0.2, batch_size=10, epochs=50, verbose=2)"
   ]
  },
  {
   "cell_type": "code",
   "execution_count": 26,
   "id": "lightweight-yukon",
   "metadata": {},
   "outputs": [
    {
     "data": {
      "text/plain": [
       "array([[0.20265794],\n",
       "       [0.6815944 ],\n",
       "       [0.24863818],\n",
       "       ...,\n",
       "       [0.02559942],\n",
       "       [0.5151074 ],\n",
       "       [0.1383012 ]], dtype=float32)"
      ]
     },
     "execution_count": 26,
     "metadata": {},
     "output_type": "execute_result"
    }
   ],
   "source": [
    "predicted_values = model.predict(X_test)\n",
    "predicted_values"
   ]
  },
  {
   "cell_type": "code",
   "execution_count": 27,
   "id": "sound-change",
   "metadata": {},
   "outputs": [
    {
     "data": {
      "text/plain": [
       "0.8555"
      ]
     },
     "execution_count": 27,
     "metadata": {},
     "output_type": "execute_result"
    }
   ],
   "source": [
    "predicted_values = (predicted_values > 0.5)\n",
    "accuracy = accuracy_score(Y_test, predicted_values)\n",
    "accuracy"
   ]
  },
  {
   "cell_type": "markdown",
   "id": "oriental-forty",
   "metadata": {},
   "source": [
    "Ubacujemo kategoricke kolone"
   ]
  },
  {
   "cell_type": "code",
   "execution_count": 43,
   "id": "indie-affiliation",
   "metadata": {},
   "outputs": [
    {
     "data": {
      "text/html": [
       "<div>\n",
       "<style scoped>\n",
       "    .dataframe tbody tr th:only-of-type {\n",
       "        vertical-align: middle;\n",
       "    }\n",
       "\n",
       "    .dataframe tbody tr th {\n",
       "        vertical-align: top;\n",
       "    }\n",
       "\n",
       "    .dataframe thead th {\n",
       "        text-align: right;\n",
       "    }\n",
       "</style>\n",
       "<table border=\"1\" class=\"dataframe\">\n",
       "  <thead>\n",
       "    <tr style=\"text-align: right;\">\n",
       "      <th></th>\n",
       "      <th>RowNumber</th>\n",
       "      <th>CustomerId</th>\n",
       "      <th>Surname</th>\n",
       "      <th>CreditScore</th>\n",
       "      <th>Geography</th>\n",
       "      <th>Gender</th>\n",
       "      <th>Age</th>\n",
       "      <th>Tenure</th>\n",
       "      <th>Balance</th>\n",
       "      <th>NumOfProducts</th>\n",
       "      <th>HasCrCard</th>\n",
       "      <th>IsActiveMember</th>\n",
       "      <th>EstimatedSalary</th>\n",
       "      <th>Exited</th>\n",
       "    </tr>\n",
       "  </thead>\n",
       "  <tbody>\n",
       "    <tr>\n",
       "      <th>0</th>\n",
       "      <td>1</td>\n",
       "      <td>15634602</td>\n",
       "      <td>Hargrave</td>\n",
       "      <td>0.538</td>\n",
       "      <td>France</td>\n",
       "      <td>Female</td>\n",
       "      <td>0.324324</td>\n",
       "      <td>0.2</td>\n",
       "      <td>0.000000</td>\n",
       "      <td>0.000000</td>\n",
       "      <td>1.0</td>\n",
       "      <td>1.0</td>\n",
       "      <td>0.506735</td>\n",
       "      <td>1</td>\n",
       "    </tr>\n",
       "    <tr>\n",
       "      <th>1</th>\n",
       "      <td>2</td>\n",
       "      <td>15647311</td>\n",
       "      <td>Hill</td>\n",
       "      <td>0.516</td>\n",
       "      <td>Spain</td>\n",
       "      <td>Female</td>\n",
       "      <td>0.310811</td>\n",
       "      <td>0.1</td>\n",
       "      <td>0.334031</td>\n",
       "      <td>0.000000</td>\n",
       "      <td>0.0</td>\n",
       "      <td>1.0</td>\n",
       "      <td>0.562709</td>\n",
       "      <td>0</td>\n",
       "    </tr>\n",
       "    <tr>\n",
       "      <th>2</th>\n",
       "      <td>3</td>\n",
       "      <td>15619304</td>\n",
       "      <td>Onio</td>\n",
       "      <td>0.304</td>\n",
       "      <td>France</td>\n",
       "      <td>Female</td>\n",
       "      <td>0.324324</td>\n",
       "      <td>0.8</td>\n",
       "      <td>0.636357</td>\n",
       "      <td>0.666667</td>\n",
       "      <td>1.0</td>\n",
       "      <td>0.0</td>\n",
       "      <td>0.569654</td>\n",
       "      <td>1</td>\n",
       "    </tr>\n",
       "    <tr>\n",
       "      <th>3</th>\n",
       "      <td>4</td>\n",
       "      <td>15701354</td>\n",
       "      <td>Boni</td>\n",
       "      <td>0.698</td>\n",
       "      <td>France</td>\n",
       "      <td>Female</td>\n",
       "      <td>0.283784</td>\n",
       "      <td>0.1</td>\n",
       "      <td>0.000000</td>\n",
       "      <td>0.333333</td>\n",
       "      <td>0.0</td>\n",
       "      <td>0.0</td>\n",
       "      <td>0.469120</td>\n",
       "      <td>0</td>\n",
       "    </tr>\n",
       "    <tr>\n",
       "      <th>4</th>\n",
       "      <td>5</td>\n",
       "      <td>15737888</td>\n",
       "      <td>Mitchell</td>\n",
       "      <td>1.000</td>\n",
       "      <td>Spain</td>\n",
       "      <td>Female</td>\n",
       "      <td>0.337838</td>\n",
       "      <td>0.2</td>\n",
       "      <td>0.500246</td>\n",
       "      <td>0.000000</td>\n",
       "      <td>1.0</td>\n",
       "      <td>1.0</td>\n",
       "      <td>0.395400</td>\n",
       "      <td>0</td>\n",
       "    </tr>\n",
       "    <tr>\n",
       "      <th>...</th>\n",
       "      <td>...</td>\n",
       "      <td>...</td>\n",
       "      <td>...</td>\n",
       "      <td>...</td>\n",
       "      <td>...</td>\n",
       "      <td>...</td>\n",
       "      <td>...</td>\n",
       "      <td>...</td>\n",
       "      <td>...</td>\n",
       "      <td>...</td>\n",
       "      <td>...</td>\n",
       "      <td>...</td>\n",
       "      <td>...</td>\n",
       "      <td>...</td>\n",
       "    </tr>\n",
       "    <tr>\n",
       "      <th>9995</th>\n",
       "      <td>9996</td>\n",
       "      <td>15606229</td>\n",
       "      <td>Obijiaku</td>\n",
       "      <td>0.842</td>\n",
       "      <td>France</td>\n",
       "      <td>Male</td>\n",
       "      <td>0.283784</td>\n",
       "      <td>0.5</td>\n",
       "      <td>0.000000</td>\n",
       "      <td>0.333333</td>\n",
       "      <td>1.0</td>\n",
       "      <td>0.0</td>\n",
       "      <td>0.481341</td>\n",
       "      <td>0</td>\n",
       "    </tr>\n",
       "    <tr>\n",
       "      <th>9996</th>\n",
       "      <td>9997</td>\n",
       "      <td>15569892</td>\n",
       "      <td>Johnstone</td>\n",
       "      <td>0.332</td>\n",
       "      <td>France</td>\n",
       "      <td>Male</td>\n",
       "      <td>0.229730</td>\n",
       "      <td>1.0</td>\n",
       "      <td>0.228657</td>\n",
       "      <td>0.000000</td>\n",
       "      <td>1.0</td>\n",
       "      <td>1.0</td>\n",
       "      <td>0.508490</td>\n",
       "      <td>0</td>\n",
       "    </tr>\n",
       "    <tr>\n",
       "      <th>9997</th>\n",
       "      <td>9998</td>\n",
       "      <td>15584532</td>\n",
       "      <td>Liu</td>\n",
       "      <td>0.718</td>\n",
       "      <td>France</td>\n",
       "      <td>Female</td>\n",
       "      <td>0.243243</td>\n",
       "      <td>0.7</td>\n",
       "      <td>0.000000</td>\n",
       "      <td>0.000000</td>\n",
       "      <td>0.0</td>\n",
       "      <td>1.0</td>\n",
       "      <td>0.210390</td>\n",
       "      <td>1</td>\n",
       "    </tr>\n",
       "    <tr>\n",
       "      <th>9998</th>\n",
       "      <td>9999</td>\n",
       "      <td>15682355</td>\n",
       "      <td>Sabbatini</td>\n",
       "      <td>0.844</td>\n",
       "      <td>Germany</td>\n",
       "      <td>Male</td>\n",
       "      <td>0.324324</td>\n",
       "      <td>0.3</td>\n",
       "      <td>0.299226</td>\n",
       "      <td>0.333333</td>\n",
       "      <td>1.0</td>\n",
       "      <td>0.0</td>\n",
       "      <td>0.464429</td>\n",
       "      <td>1</td>\n",
       "    </tr>\n",
       "    <tr>\n",
       "      <th>9999</th>\n",
       "      <td>10000</td>\n",
       "      <td>15628319</td>\n",
       "      <td>Walker</td>\n",
       "      <td>0.884</td>\n",
       "      <td>France</td>\n",
       "      <td>Female</td>\n",
       "      <td>0.135135</td>\n",
       "      <td>0.4</td>\n",
       "      <td>0.518708</td>\n",
       "      <td>0.000000</td>\n",
       "      <td>1.0</td>\n",
       "      <td>0.0</td>\n",
       "      <td>0.190914</td>\n",
       "      <td>0</td>\n",
       "    </tr>\n",
       "  </tbody>\n",
       "</table>\n",
       "<p>10000 rows × 14 columns</p>\n",
       "</div>"
      ],
      "text/plain": [
       "      RowNumber  CustomerId    Surname  CreditScore Geography  Gender  \\\n",
       "0             1    15634602   Hargrave        0.538    France  Female   \n",
       "1             2    15647311       Hill        0.516     Spain  Female   \n",
       "2             3    15619304       Onio        0.304    France  Female   \n",
       "3             4    15701354       Boni        0.698    France  Female   \n",
       "4             5    15737888   Mitchell        1.000     Spain  Female   \n",
       "...         ...         ...        ...          ...       ...     ...   \n",
       "9995       9996    15606229   Obijiaku        0.842    France    Male   \n",
       "9996       9997    15569892  Johnstone        0.332    France    Male   \n",
       "9997       9998    15584532        Liu        0.718    France  Female   \n",
       "9998       9999    15682355  Sabbatini        0.844   Germany    Male   \n",
       "9999      10000    15628319     Walker        0.884    France  Female   \n",
       "\n",
       "           Age  Tenure   Balance  NumOfProducts  HasCrCard  IsActiveMember  \\\n",
       "0     0.324324     0.2  0.000000       0.000000        1.0             1.0   \n",
       "1     0.310811     0.1  0.334031       0.000000        0.0             1.0   \n",
       "2     0.324324     0.8  0.636357       0.666667        1.0             0.0   \n",
       "3     0.283784     0.1  0.000000       0.333333        0.0             0.0   \n",
       "4     0.337838     0.2  0.500246       0.000000        1.0             1.0   \n",
       "...        ...     ...       ...            ...        ...             ...   \n",
       "9995  0.283784     0.5  0.000000       0.333333        1.0             0.0   \n",
       "9996  0.229730     1.0  0.228657       0.000000        1.0             1.0   \n",
       "9997  0.243243     0.7  0.000000       0.000000        0.0             1.0   \n",
       "9998  0.324324     0.3  0.299226       0.333333        1.0             0.0   \n",
       "9999  0.135135     0.4  0.518708       0.000000        1.0             0.0   \n",
       "\n",
       "      EstimatedSalary  Exited  \n",
       "0            0.506735       1  \n",
       "1            0.562709       0  \n",
       "2            0.569654       1  \n",
       "3            0.469120       0  \n",
       "4            0.395400       0  \n",
       "...               ...     ...  \n",
       "9995         0.481341       0  \n",
       "9996         0.508490       0  \n",
       "9997         0.210390       1  \n",
       "9998         0.464429       1  \n",
       "9999         0.190914       0  \n",
       "\n",
       "[10000 rows x 14 columns]"
      ]
     },
     "execution_count": 43,
     "metadata": {},
     "output_type": "execute_result"
    }
   ],
   "source": [
    "dataset"
   ]
  },
  {
   "cell_type": "code",
   "execution_count": 66,
   "id": "southwest-permission",
   "metadata": {},
   "outputs": [
    {
     "data": {
      "text/html": [
       "<div>\n",
       "<style scoped>\n",
       "    .dataframe tbody tr th:only-of-type {\n",
       "        vertical-align: middle;\n",
       "    }\n",
       "\n",
       "    .dataframe tbody tr th {\n",
       "        vertical-align: top;\n",
       "    }\n",
       "\n",
       "    .dataframe thead th {\n",
       "        text-align: right;\n",
       "    }\n",
       "</style>\n",
       "<table border=\"1\" class=\"dataframe\">\n",
       "  <thead>\n",
       "    <tr style=\"text-align: right;\">\n",
       "      <th></th>\n",
       "      <th>RowNumber</th>\n",
       "      <th>CustomerId</th>\n",
       "      <th>Surname</th>\n",
       "      <th>CreditScore</th>\n",
       "      <th>Geography</th>\n",
       "      <th>Gender</th>\n",
       "      <th>Age</th>\n",
       "      <th>Tenure</th>\n",
       "      <th>Balance</th>\n",
       "      <th>NumOfProducts</th>\n",
       "      <th>HasCrCard</th>\n",
       "      <th>IsActiveMember</th>\n",
       "      <th>EstimatedSalary</th>\n",
       "      <th>Exited</th>\n",
       "    </tr>\n",
       "  </thead>\n",
       "  <tbody>\n",
       "    <tr>\n",
       "      <th>0</th>\n",
       "      <td>1</td>\n",
       "      <td>15634602</td>\n",
       "      <td>Hargrave</td>\n",
       "      <td>0.538</td>\n",
       "      <td>0.0</td>\n",
       "      <td>1</td>\n",
       "      <td>0.324324</td>\n",
       "      <td>0.2</td>\n",
       "      <td>0.000000</td>\n",
       "      <td>0.000000</td>\n",
       "      <td>1.0</td>\n",
       "      <td>1.0</td>\n",
       "      <td>0.506735</td>\n",
       "      <td>1</td>\n",
       "    </tr>\n",
       "    <tr>\n",
       "      <th>1</th>\n",
       "      <td>2</td>\n",
       "      <td>15647311</td>\n",
       "      <td>Hill</td>\n",
       "      <td>0.516</td>\n",
       "      <td>1.0</td>\n",
       "      <td>1</td>\n",
       "      <td>0.310811</td>\n",
       "      <td>0.1</td>\n",
       "      <td>0.334031</td>\n",
       "      <td>0.000000</td>\n",
       "      <td>0.0</td>\n",
       "      <td>1.0</td>\n",
       "      <td>0.562709</td>\n",
       "      <td>0</td>\n",
       "    </tr>\n",
       "    <tr>\n",
       "      <th>2</th>\n",
       "      <td>3</td>\n",
       "      <td>15619304</td>\n",
       "      <td>Onio</td>\n",
       "      <td>0.304</td>\n",
       "      <td>0.0</td>\n",
       "      <td>1</td>\n",
       "      <td>0.324324</td>\n",
       "      <td>0.8</td>\n",
       "      <td>0.636357</td>\n",
       "      <td>0.666667</td>\n",
       "      <td>1.0</td>\n",
       "      <td>0.0</td>\n",
       "      <td>0.569654</td>\n",
       "      <td>1</td>\n",
       "    </tr>\n",
       "    <tr>\n",
       "      <th>3</th>\n",
       "      <td>4</td>\n",
       "      <td>15701354</td>\n",
       "      <td>Boni</td>\n",
       "      <td>0.698</td>\n",
       "      <td>0.0</td>\n",
       "      <td>1</td>\n",
       "      <td>0.283784</td>\n",
       "      <td>0.1</td>\n",
       "      <td>0.000000</td>\n",
       "      <td>0.333333</td>\n",
       "      <td>0.0</td>\n",
       "      <td>0.0</td>\n",
       "      <td>0.469120</td>\n",
       "      <td>0</td>\n",
       "    </tr>\n",
       "    <tr>\n",
       "      <th>4</th>\n",
       "      <td>5</td>\n",
       "      <td>15737888</td>\n",
       "      <td>Mitchell</td>\n",
       "      <td>1.000</td>\n",
       "      <td>1.0</td>\n",
       "      <td>1</td>\n",
       "      <td>0.337838</td>\n",
       "      <td>0.2</td>\n",
       "      <td>0.500246</td>\n",
       "      <td>0.000000</td>\n",
       "      <td>1.0</td>\n",
       "      <td>1.0</td>\n",
       "      <td>0.395400</td>\n",
       "      <td>0</td>\n",
       "    </tr>\n",
       "    <tr>\n",
       "      <th>...</th>\n",
       "      <td>...</td>\n",
       "      <td>...</td>\n",
       "      <td>...</td>\n",
       "      <td>...</td>\n",
       "      <td>...</td>\n",
       "      <td>...</td>\n",
       "      <td>...</td>\n",
       "      <td>...</td>\n",
       "      <td>...</td>\n",
       "      <td>...</td>\n",
       "      <td>...</td>\n",
       "      <td>...</td>\n",
       "      <td>...</td>\n",
       "      <td>...</td>\n",
       "    </tr>\n",
       "    <tr>\n",
       "      <th>9995</th>\n",
       "      <td>9996</td>\n",
       "      <td>15606229</td>\n",
       "      <td>Obijiaku</td>\n",
       "      <td>0.842</td>\n",
       "      <td>0.0</td>\n",
       "      <td>0</td>\n",
       "      <td>0.283784</td>\n",
       "      <td>0.5</td>\n",
       "      <td>0.000000</td>\n",
       "      <td>0.333333</td>\n",
       "      <td>1.0</td>\n",
       "      <td>0.0</td>\n",
       "      <td>0.481341</td>\n",
       "      <td>0</td>\n",
       "    </tr>\n",
       "    <tr>\n",
       "      <th>9996</th>\n",
       "      <td>9997</td>\n",
       "      <td>15569892</td>\n",
       "      <td>Johnstone</td>\n",
       "      <td>0.332</td>\n",
       "      <td>0.0</td>\n",
       "      <td>0</td>\n",
       "      <td>0.229730</td>\n",
       "      <td>1.0</td>\n",
       "      <td>0.228657</td>\n",
       "      <td>0.000000</td>\n",
       "      <td>1.0</td>\n",
       "      <td>1.0</td>\n",
       "      <td>0.508490</td>\n",
       "      <td>0</td>\n",
       "    </tr>\n",
       "    <tr>\n",
       "      <th>9997</th>\n",
       "      <td>9998</td>\n",
       "      <td>15584532</td>\n",
       "      <td>Liu</td>\n",
       "      <td>0.718</td>\n",
       "      <td>0.0</td>\n",
       "      <td>1</td>\n",
       "      <td>0.243243</td>\n",
       "      <td>0.7</td>\n",
       "      <td>0.000000</td>\n",
       "      <td>0.000000</td>\n",
       "      <td>0.0</td>\n",
       "      <td>1.0</td>\n",
       "      <td>0.210390</td>\n",
       "      <td>1</td>\n",
       "    </tr>\n",
       "    <tr>\n",
       "      <th>9998</th>\n",
       "      <td>9999</td>\n",
       "      <td>15682355</td>\n",
       "      <td>Sabbatini</td>\n",
       "      <td>0.844</td>\n",
       "      <td>0.5</td>\n",
       "      <td>0</td>\n",
       "      <td>0.324324</td>\n",
       "      <td>0.3</td>\n",
       "      <td>0.299226</td>\n",
       "      <td>0.333333</td>\n",
       "      <td>1.0</td>\n",
       "      <td>0.0</td>\n",
       "      <td>0.464429</td>\n",
       "      <td>1</td>\n",
       "    </tr>\n",
       "    <tr>\n",
       "      <th>9999</th>\n",
       "      <td>10000</td>\n",
       "      <td>15628319</td>\n",
       "      <td>Walker</td>\n",
       "      <td>0.884</td>\n",
       "      <td>0.0</td>\n",
       "      <td>1</td>\n",
       "      <td>0.135135</td>\n",
       "      <td>0.4</td>\n",
       "      <td>0.518708</td>\n",
       "      <td>0.000000</td>\n",
       "      <td>1.0</td>\n",
       "      <td>0.0</td>\n",
       "      <td>0.190914</td>\n",
       "      <td>0</td>\n",
       "    </tr>\n",
       "  </tbody>\n",
       "</table>\n",
       "<p>10000 rows × 14 columns</p>\n",
       "</div>"
      ],
      "text/plain": [
       "      RowNumber  CustomerId    Surname  CreditScore  Geography  Gender  \\\n",
       "0             1    15634602   Hargrave        0.538        0.0       1   \n",
       "1             2    15647311       Hill        0.516        1.0       1   \n",
       "2             3    15619304       Onio        0.304        0.0       1   \n",
       "3             4    15701354       Boni        0.698        0.0       1   \n",
       "4             5    15737888   Mitchell        1.000        1.0       1   \n",
       "...         ...         ...        ...          ...        ...     ...   \n",
       "9995       9996    15606229   Obijiaku        0.842        0.0       0   \n",
       "9996       9997    15569892  Johnstone        0.332        0.0       0   \n",
       "9997       9998    15584532        Liu        0.718        0.0       1   \n",
       "9998       9999    15682355  Sabbatini        0.844        0.5       0   \n",
       "9999      10000    15628319     Walker        0.884        0.0       1   \n",
       "\n",
       "           Age  Tenure   Balance  NumOfProducts  HasCrCard  IsActiveMember  \\\n",
       "0     0.324324     0.2  0.000000       0.000000        1.0             1.0   \n",
       "1     0.310811     0.1  0.334031       0.000000        0.0             1.0   \n",
       "2     0.324324     0.8  0.636357       0.666667        1.0             0.0   \n",
       "3     0.283784     0.1  0.000000       0.333333        0.0             0.0   \n",
       "4     0.337838     0.2  0.500246       0.000000        1.0             1.0   \n",
       "...        ...     ...       ...            ...        ...             ...   \n",
       "9995  0.283784     0.5  0.000000       0.333333        1.0             0.0   \n",
       "9996  0.229730     1.0  0.228657       0.000000        1.0             1.0   \n",
       "9997  0.243243     0.7  0.000000       0.000000        0.0             1.0   \n",
       "9998  0.324324     0.3  0.299226       0.333333        1.0             0.0   \n",
       "9999  0.135135     0.4  0.518708       0.000000        1.0             0.0   \n",
       "\n",
       "      EstimatedSalary  Exited  \n",
       "0            0.506735       1  \n",
       "1            0.562709       0  \n",
       "2            0.569654       1  \n",
       "3            0.469120       0  \n",
       "4            0.395400       0  \n",
       "...               ...     ...  \n",
       "9995         0.481341       0  \n",
       "9996         0.508490       0  \n",
       "9997         0.210390       1  \n",
       "9998         0.464429       1  \n",
       "9999         0.190914       0  \n",
       "\n",
       "[10000 rows x 14 columns]"
      ]
     },
     "execution_count": 66,
     "metadata": {},
     "output_type": "execute_result"
    }
   ],
   "source": [
    "dataset['Gender'] = dataset['Gender'].replace(['Male'],int('0'))\n",
    "dataset['Gender'] = dataset['Gender'].replace(['Female'],int('1'))\n",
    "\n",
    "dataset['Geography'] = dataset['Geography'].replace(['France'],int('0'))\n",
    "dataset['Geography'] = dataset['Geography'].replace(['Germany'],int('1'))\n",
    "dataset['Geography'] = dataset['Geography'].replace(['Spain'],int('2'))\n",
    "\n",
    "dataset['Geography'] = scaler.fit_transform(dataset[['Geography']])\n",
    "\n",
    "dataset"
   ]
  },
  {
   "cell_type": "code",
   "execution_count": 67,
   "id": "aquatic-swift",
   "metadata": {},
   "outputs": [
    {
     "data": {
      "text/html": [
       "<div>\n",
       "<style scoped>\n",
       "    .dataframe tbody tr th:only-of-type {\n",
       "        vertical-align: middle;\n",
       "    }\n",
       "\n",
       "    .dataframe tbody tr th {\n",
       "        vertical-align: top;\n",
       "    }\n",
       "\n",
       "    .dataframe thead th {\n",
       "        text-align: right;\n",
       "    }\n",
       "</style>\n",
       "<table border=\"1\" class=\"dataframe\">\n",
       "  <thead>\n",
       "    <tr style=\"text-align: right;\">\n",
       "      <th></th>\n",
       "      <th>CreditScore</th>\n",
       "      <th>Geography</th>\n",
       "      <th>Gender</th>\n",
       "      <th>Age</th>\n",
       "      <th>Tenure</th>\n",
       "      <th>Balance</th>\n",
       "      <th>NumOfProducts</th>\n",
       "      <th>HasCrCard</th>\n",
       "      <th>IsActiveMember</th>\n",
       "      <th>EstimatedSalary</th>\n",
       "    </tr>\n",
       "  </thead>\n",
       "  <tbody>\n",
       "    <tr>\n",
       "      <th>0</th>\n",
       "      <td>0.538</td>\n",
       "      <td>0.0</td>\n",
       "      <td>1</td>\n",
       "      <td>0.324324</td>\n",
       "      <td>0.2</td>\n",
       "      <td>0.000000</td>\n",
       "      <td>0.000000</td>\n",
       "      <td>1.0</td>\n",
       "      <td>1.0</td>\n",
       "      <td>0.506735</td>\n",
       "    </tr>\n",
       "    <tr>\n",
       "      <th>1</th>\n",
       "      <td>0.516</td>\n",
       "      <td>1.0</td>\n",
       "      <td>1</td>\n",
       "      <td>0.310811</td>\n",
       "      <td>0.1</td>\n",
       "      <td>0.334031</td>\n",
       "      <td>0.000000</td>\n",
       "      <td>0.0</td>\n",
       "      <td>1.0</td>\n",
       "      <td>0.562709</td>\n",
       "    </tr>\n",
       "    <tr>\n",
       "      <th>2</th>\n",
       "      <td>0.304</td>\n",
       "      <td>0.0</td>\n",
       "      <td>1</td>\n",
       "      <td>0.324324</td>\n",
       "      <td>0.8</td>\n",
       "      <td>0.636357</td>\n",
       "      <td>0.666667</td>\n",
       "      <td>1.0</td>\n",
       "      <td>0.0</td>\n",
       "      <td>0.569654</td>\n",
       "    </tr>\n",
       "    <tr>\n",
       "      <th>3</th>\n",
       "      <td>0.698</td>\n",
       "      <td>0.0</td>\n",
       "      <td>1</td>\n",
       "      <td>0.283784</td>\n",
       "      <td>0.1</td>\n",
       "      <td>0.000000</td>\n",
       "      <td>0.333333</td>\n",
       "      <td>0.0</td>\n",
       "      <td>0.0</td>\n",
       "      <td>0.469120</td>\n",
       "    </tr>\n",
       "    <tr>\n",
       "      <th>4</th>\n",
       "      <td>1.000</td>\n",
       "      <td>1.0</td>\n",
       "      <td>1</td>\n",
       "      <td>0.337838</td>\n",
       "      <td>0.2</td>\n",
       "      <td>0.500246</td>\n",
       "      <td>0.000000</td>\n",
       "      <td>1.0</td>\n",
       "      <td>1.0</td>\n",
       "      <td>0.395400</td>\n",
       "    </tr>\n",
       "    <tr>\n",
       "      <th>...</th>\n",
       "      <td>...</td>\n",
       "      <td>...</td>\n",
       "      <td>...</td>\n",
       "      <td>...</td>\n",
       "      <td>...</td>\n",
       "      <td>...</td>\n",
       "      <td>...</td>\n",
       "      <td>...</td>\n",
       "      <td>...</td>\n",
       "      <td>...</td>\n",
       "    </tr>\n",
       "    <tr>\n",
       "      <th>9995</th>\n",
       "      <td>0.842</td>\n",
       "      <td>0.0</td>\n",
       "      <td>0</td>\n",
       "      <td>0.283784</td>\n",
       "      <td>0.5</td>\n",
       "      <td>0.000000</td>\n",
       "      <td>0.333333</td>\n",
       "      <td>1.0</td>\n",
       "      <td>0.0</td>\n",
       "      <td>0.481341</td>\n",
       "    </tr>\n",
       "    <tr>\n",
       "      <th>9996</th>\n",
       "      <td>0.332</td>\n",
       "      <td>0.0</td>\n",
       "      <td>0</td>\n",
       "      <td>0.229730</td>\n",
       "      <td>1.0</td>\n",
       "      <td>0.228657</td>\n",
       "      <td>0.000000</td>\n",
       "      <td>1.0</td>\n",
       "      <td>1.0</td>\n",
       "      <td>0.508490</td>\n",
       "    </tr>\n",
       "    <tr>\n",
       "      <th>9997</th>\n",
       "      <td>0.718</td>\n",
       "      <td>0.0</td>\n",
       "      <td>1</td>\n",
       "      <td>0.243243</td>\n",
       "      <td>0.7</td>\n",
       "      <td>0.000000</td>\n",
       "      <td>0.000000</td>\n",
       "      <td>0.0</td>\n",
       "      <td>1.0</td>\n",
       "      <td>0.210390</td>\n",
       "    </tr>\n",
       "    <tr>\n",
       "      <th>9998</th>\n",
       "      <td>0.844</td>\n",
       "      <td>0.5</td>\n",
       "      <td>0</td>\n",
       "      <td>0.324324</td>\n",
       "      <td>0.3</td>\n",
       "      <td>0.299226</td>\n",
       "      <td>0.333333</td>\n",
       "      <td>1.0</td>\n",
       "      <td>0.0</td>\n",
       "      <td>0.464429</td>\n",
       "    </tr>\n",
       "    <tr>\n",
       "      <th>9999</th>\n",
       "      <td>0.884</td>\n",
       "      <td>0.0</td>\n",
       "      <td>1</td>\n",
       "      <td>0.135135</td>\n",
       "      <td>0.4</td>\n",
       "      <td>0.518708</td>\n",
       "      <td>0.000000</td>\n",
       "      <td>1.0</td>\n",
       "      <td>0.0</td>\n",
       "      <td>0.190914</td>\n",
       "    </tr>\n",
       "  </tbody>\n",
       "</table>\n",
       "<p>10000 rows × 10 columns</p>\n",
       "</div>"
      ],
      "text/plain": [
       "      CreditScore  Geography  Gender       Age  Tenure   Balance  \\\n",
       "0           0.538        0.0       1  0.324324     0.2  0.000000   \n",
       "1           0.516        1.0       1  0.310811     0.1  0.334031   \n",
       "2           0.304        0.0       1  0.324324     0.8  0.636357   \n",
       "3           0.698        0.0       1  0.283784     0.1  0.000000   \n",
       "4           1.000        1.0       1  0.337838     0.2  0.500246   \n",
       "...           ...        ...     ...       ...     ...       ...   \n",
       "9995        0.842        0.0       0  0.283784     0.5  0.000000   \n",
       "9996        0.332        0.0       0  0.229730     1.0  0.228657   \n",
       "9997        0.718        0.0       1  0.243243     0.7  0.000000   \n",
       "9998        0.844        0.5       0  0.324324     0.3  0.299226   \n",
       "9999        0.884        0.0       1  0.135135     0.4  0.518708   \n",
       "\n",
       "      NumOfProducts  HasCrCard  IsActiveMember  EstimatedSalary  \n",
       "0          0.000000        1.0             1.0         0.506735  \n",
       "1          0.000000        0.0             1.0         0.562709  \n",
       "2          0.666667        1.0             0.0         0.569654  \n",
       "3          0.333333        0.0             0.0         0.469120  \n",
       "4          0.000000        1.0             1.0         0.395400  \n",
       "...             ...        ...             ...              ...  \n",
       "9995       0.333333        1.0             0.0         0.481341  \n",
       "9996       0.000000        1.0             1.0         0.508490  \n",
       "9997       0.000000        0.0             1.0         0.210390  \n",
       "9998       0.333333        1.0             0.0         0.464429  \n",
       "9999       0.000000        1.0             0.0         0.190914  \n",
       "\n",
       "[10000 rows x 10 columns]"
      ]
     },
     "execution_count": 67,
     "metadata": {},
     "output_type": "execute_result"
    }
   ],
   "source": [
    "X = dataset.iloc[:, 3:13]\n",
    "Y = dataset.iloc[:, 13]\n",
    "X"
   ]
  },
  {
   "cell_type": "code",
   "execution_count": 68,
   "id": "cross-enhancement",
   "metadata": {},
   "outputs": [
    {
     "data": {
      "text/plain": [
       "(8000, 10)"
      ]
     },
     "execution_count": 68,
     "metadata": {},
     "output_type": "execute_result"
    }
   ],
   "source": [
    "X_train, X_test, y_train, y_test = train_test_split(X,Y, test_size=0.2, random_state=0)\n",
    "X_train.shape"
   ]
  },
  {
   "cell_type": "code",
   "execution_count": 69,
   "id": "underlying-blues",
   "metadata": {},
   "outputs": [
    {
     "name": "stdout",
     "output_type": "stream",
     "text": [
      "Epoch 1/50\n",
      "640/640 - 1s - loss: 0.5232 - accuracy: 0.7956 - val_loss: 0.5022 - val_accuracy: 0.7969\n",
      "Epoch 2/50\n",
      "640/640 - 0s - loss: 0.4878 - accuracy: 0.7975 - val_loss: 0.4819 - val_accuracy: 0.8000\n",
      "Epoch 3/50\n",
      "640/640 - 0s - loss: 0.4700 - accuracy: 0.8059 - val_loss: 0.4684 - val_accuracy: 0.8125\n",
      "Epoch 4/50\n",
      "640/640 - 0s - loss: 0.4575 - accuracy: 0.8119 - val_loss: 0.4579 - val_accuracy: 0.8094\n",
      "Epoch 5/50\n",
      "640/640 - 1s - loss: 0.4480 - accuracy: 0.8145 - val_loss: 0.4499 - val_accuracy: 0.8112\n",
      "Epoch 6/50\n",
      "640/640 - 0s - loss: 0.4403 - accuracy: 0.8156 - val_loss: 0.4428 - val_accuracy: 0.8138\n",
      "Epoch 7/50\n",
      "640/640 - 0s - loss: 0.4341 - accuracy: 0.8150 - val_loss: 0.4375 - val_accuracy: 0.8119\n",
      "Epoch 8/50\n",
      "640/640 - 0s - loss: 0.4284 - accuracy: 0.8133 - val_loss: 0.4332 - val_accuracy: 0.8125\n",
      "Epoch 9/50\n",
      "640/640 - 0s - loss: 0.4237 - accuracy: 0.8191 - val_loss: 0.4299 - val_accuracy: 0.8138\n",
      "Epoch 10/50\n",
      "640/640 - 0s - loss: 0.4197 - accuracy: 0.8178 - val_loss: 0.4248 - val_accuracy: 0.8150\n",
      "Epoch 11/50\n",
      "640/640 - 0s - loss: 0.4157 - accuracy: 0.8200 - val_loss: 0.4216 - val_accuracy: 0.8156\n",
      "Epoch 12/50\n",
      "640/640 - 0s - loss: 0.4131 - accuracy: 0.8173 - val_loss: 0.4186 - val_accuracy: 0.8175\n",
      "Epoch 13/50\n",
      "640/640 - 0s - loss: 0.4098 - accuracy: 0.8181 - val_loss: 0.4158 - val_accuracy: 0.8206\n",
      "Epoch 14/50\n",
      "640/640 - 0s - loss: 0.4071 - accuracy: 0.8222 - val_loss: 0.4155 - val_accuracy: 0.8181\n",
      "Epoch 15/50\n",
      "640/640 - 0s - loss: 0.4048 - accuracy: 0.8222 - val_loss: 0.4111 - val_accuracy: 0.8200\n",
      "Epoch 16/50\n",
      "640/640 - 0s - loss: 0.4023 - accuracy: 0.8253 - val_loss: 0.4091 - val_accuracy: 0.8213\n",
      "Epoch 17/50\n",
      "640/640 - 0s - loss: 0.3992 - accuracy: 0.8253 - val_loss: 0.4096 - val_accuracy: 0.8188\n",
      "Epoch 18/50\n",
      "640/640 - 0s - loss: 0.3979 - accuracy: 0.8273 - val_loss: 0.4052 - val_accuracy: 0.8231\n",
      "Epoch 19/50\n",
      "640/640 - 0s - loss: 0.3955 - accuracy: 0.8305 - val_loss: 0.4036 - val_accuracy: 0.8269\n",
      "Epoch 20/50\n",
      "640/640 - 0s - loss: 0.3934 - accuracy: 0.8313 - val_loss: 0.4012 - val_accuracy: 0.8269\n",
      "Epoch 21/50\n",
      "640/640 - 0s - loss: 0.3911 - accuracy: 0.8316 - val_loss: 0.4012 - val_accuracy: 0.8244\n",
      "Epoch 22/50\n",
      "640/640 - 0s - loss: 0.3890 - accuracy: 0.8320 - val_loss: 0.3985 - val_accuracy: 0.8313\n",
      "Epoch 23/50\n",
      "640/640 - 0s - loss: 0.3873 - accuracy: 0.8348 - val_loss: 0.3957 - val_accuracy: 0.8331\n",
      "Epoch 24/50\n",
      "640/640 - 0s - loss: 0.3856 - accuracy: 0.8348 - val_loss: 0.3952 - val_accuracy: 0.8300\n",
      "Epoch 25/50\n",
      "640/640 - 0s - loss: 0.3833 - accuracy: 0.8331 - val_loss: 0.3934 - val_accuracy: 0.8319\n",
      "Epoch 26/50\n",
      "640/640 - 0s - loss: 0.3816 - accuracy: 0.8344 - val_loss: 0.3916 - val_accuracy: 0.8294\n",
      "Epoch 27/50\n",
      "640/640 - 0s - loss: 0.3802 - accuracy: 0.8370 - val_loss: 0.3898 - val_accuracy: 0.8350\n",
      "Epoch 28/50\n",
      "640/640 - 0s - loss: 0.3786 - accuracy: 0.8380 - val_loss: 0.3903 - val_accuracy: 0.8319\n",
      "Epoch 29/50\n",
      "640/640 - 0s - loss: 0.3775 - accuracy: 0.8369 - val_loss: 0.3881 - val_accuracy: 0.8350\n",
      "Epoch 30/50\n",
      "640/640 - 0s - loss: 0.3756 - accuracy: 0.8383 - val_loss: 0.3873 - val_accuracy: 0.8363\n",
      "Epoch 31/50\n",
      "640/640 - 0s - loss: 0.3750 - accuracy: 0.8378 - val_loss: 0.3865 - val_accuracy: 0.8369\n",
      "Epoch 32/50\n",
      "640/640 - 0s - loss: 0.3735 - accuracy: 0.8383 - val_loss: 0.3862 - val_accuracy: 0.8344\n",
      "Epoch 33/50\n",
      "640/640 - 0s - loss: 0.3728 - accuracy: 0.8398 - val_loss: 0.3849 - val_accuracy: 0.8363\n",
      "Epoch 34/50\n",
      "640/640 - 0s - loss: 0.3707 - accuracy: 0.8428 - val_loss: 0.3854 - val_accuracy: 0.8381\n",
      "Epoch 35/50\n",
      "640/640 - 0s - loss: 0.3701 - accuracy: 0.8395 - val_loss: 0.3834 - val_accuracy: 0.8369\n",
      "Epoch 36/50\n",
      "640/640 - 0s - loss: 0.3696 - accuracy: 0.8430 - val_loss: 0.3832 - val_accuracy: 0.8375\n",
      "Epoch 37/50\n",
      "640/640 - 0s - loss: 0.3691 - accuracy: 0.8411 - val_loss: 0.3829 - val_accuracy: 0.8413\n",
      "Epoch 38/50\n",
      "640/640 - 0s - loss: 0.3683 - accuracy: 0.8430 - val_loss: 0.3812 - val_accuracy: 0.8400\n",
      "Epoch 39/50\n",
      "640/640 - 0s - loss: 0.3672 - accuracy: 0.8430 - val_loss: 0.3817 - val_accuracy: 0.8400\n",
      "Epoch 40/50\n",
      "640/640 - 0s - loss: 0.3665 - accuracy: 0.8423 - val_loss: 0.3811 - val_accuracy: 0.8413\n",
      "Epoch 41/50\n",
      "640/640 - 0s - loss: 0.3662 - accuracy: 0.8433 - val_loss: 0.3802 - val_accuracy: 0.8431\n",
      "Epoch 42/50\n",
      "640/640 - 0s - loss: 0.3651 - accuracy: 0.8447 - val_loss: 0.3801 - val_accuracy: 0.8400\n",
      "Epoch 43/50\n",
      "640/640 - 0s - loss: 0.3650 - accuracy: 0.8441 - val_loss: 0.3792 - val_accuracy: 0.8444\n",
      "Epoch 44/50\n",
      "640/640 - 0s - loss: 0.3648 - accuracy: 0.8444 - val_loss: 0.3789 - val_accuracy: 0.8450\n",
      "Epoch 45/50\n",
      "640/640 - 0s - loss: 0.3637 - accuracy: 0.8452 - val_loss: 0.3804 - val_accuracy: 0.8394\n",
      "Epoch 46/50\n",
      "640/640 - 0s - loss: 0.3630 - accuracy: 0.8453 - val_loss: 0.3795 - val_accuracy: 0.8394\n",
      "Epoch 47/50\n",
      "640/640 - 0s - loss: 0.3626 - accuracy: 0.8436 - val_loss: 0.3803 - val_accuracy: 0.8419\n",
      "Epoch 48/50\n",
      "640/640 - 0s - loss: 0.3629 - accuracy: 0.8456 - val_loss: 0.3783 - val_accuracy: 0.8438\n",
      "Epoch 49/50\n",
      "640/640 - 0s - loss: 0.3623 - accuracy: 0.8455 - val_loss: 0.3788 - val_accuracy: 0.8413\n",
      "Epoch 50/50\n",
      "640/640 - 0s - loss: 0.3616 - accuracy: 0.8466 - val_loss: 0.3796 - val_accuracy: 0.8413\n"
     ]
    }
   ],
   "source": [
    "model = Sequential([\n",
    "    Dense(units=5, input_shape=(10, ), activation='relu'),\n",
    "    Dense(units=1, activation='sigmoid')\n",
    "])\n",
    "\n",
    "model.compile(optimizer='adam', loss='binary_crossentropy', metrics=['accuracy'])\n",
    "model_history = model.fit(x=X_train, y=y_train, validation_split=0.2, batch_size=10, epochs=50, verbose=2)"
   ]
  },
  {
   "cell_type": "code",
   "execution_count": 70,
   "id": "grateful-depression",
   "metadata": {},
   "outputs": [
    {
     "data": {
      "text/plain": [
       "array([[0.24652371],\n",
       "       [0.3638459 ],\n",
       "       [0.18924227],\n",
       "       ...,\n",
       "       [0.14886281],\n",
       "       [0.10541433],\n",
       "       [0.22869924]], dtype=float32)"
      ]
     },
     "execution_count": 70,
     "metadata": {},
     "output_type": "execute_result"
    }
   ],
   "source": [
    "predicted_values = model.predict(X_test)\n",
    "predicted_values"
   ]
  },
  {
   "cell_type": "code",
   "execution_count": 71,
   "id": "considerable-youth",
   "metadata": {},
   "outputs": [
    {
     "data": {
      "text/plain": [
       "array([[False],\n",
       "       [False],\n",
       "       [False],\n",
       "       ...,\n",
       "       [False],\n",
       "       [False],\n",
       "       [False]])"
      ]
     },
     "execution_count": 71,
     "metadata": {},
     "output_type": "execute_result"
    }
   ],
   "source": [
    "predicted_values = (predicted_values > 0.5)\n",
    "predicted_values"
   ]
  },
  {
   "cell_type": "code",
   "execution_count": 72,
   "id": "freelance-guide",
   "metadata": {},
   "outputs": [
    {
     "data": {
      "image/png": "[encoded data removed]",
      "text/plain": [
       "<Figure size 432x288 with 1 Axes>"
      ]
     },
     "metadata": {
      "needs_background": "light"
     },
     "output_type": "display_data"
    }
   ],
   "source": [
    "conf_mat = confusion_matrix(y_test, predicted_values)\n",
    "conf_mat_df = pd.DataFrame(conf_mat, index=[0, 1], columns=[0, 1])\n",
    "cmap = sns.cubehelix_palette(light=1, as_cmap=True)\n",
    "h_map = sns.heatmap(conf_mat, annot=True, cbar=False, fmt='d', cmap=cmap)\n",
    "h_map.invert_yaxis()\n",
    "h_map.invert_xaxis()"
   ]
  },
  {
   "cell_type": "code",
   "execution_count": 75,
   "id": "thick-cattle",
   "metadata": {},
   "outputs": [
    {
     "name": "stdout",
     "output_type": "stream",
     "text": [
      "              precision    recall  f1-score   support\n",
      "\n",
      "           0       0.86      0.96      0.91      1595\n",
      "           1       0.72      0.41      0.52       405\n",
      "\n",
      "    accuracy                           0.85      2000\n",
      "   macro avg       0.79      0.68      0.72      2000\n",
      "weighted avg       0.84      0.85      0.83      2000\n",
      "\n"
     ]
    }
   ],
   "source": [
    "class_report = classification_report(y_test, predicted_values)\n",
    "print(class_report)"
   ]
  },
  {
   "cell_type": "code",
   "execution_count": 76,
   "id": "inside-messaging",
   "metadata": {},
   "outputs": [
    {
     "data": {
      "text/plain": [
       "0.848"
      ]
     },
     "execution_count": 76,
     "metadata": {},
     "output_type": "execute_result"
    }
   ],
   "source": [
    "accuracy = accuracy_score(y_test, predicted_values)\n",
    "accuracy"
   ]
  },
  {
   "cell_type": "code",
   "execution_count": 78,
   "id": "general-release",
   "metadata": {},
   "outputs": [
    {
     "data": {
      "text/plain": [
       "<matplotlib.legend.Legend at 0x250b6f37fd0>"
      ]
     },
     "execution_count": 78,
     "metadata": {},
     "output_type": "execute_result"
    },
    {
     "data": {
      "image/png": "[encoded data removed]",
      "text/plain": [
       "<Figure size 432x288 with 1 Axes>"
      ]
     },
     "metadata": {
      "needs_background": "light"
     },
     "output_type": "display_data"
    }
   ],
   "source": [
    "plt.subplot(211)\n",
    "plt.title('Accuracy')\n",
    "plt.plot(model_history.history['accuracy'], label='train')\n",
    "plt.plot(model_history.history['val_accuracy'], label='test')\n",
    "plt.legend()"
   ]
  },
  {
   "cell_type": "code",
   "execution_count": 79,
   "id": "architectural-nurse",
   "metadata": {},
   "outputs": [
    {
     "data": {
      "text/plain": [
       "<matplotlib.legend.Legend at 0x250b5c60e20>"
      ]
     },
     "execution_count": 79,
     "metadata": {},
     "output_type": "execute_result"
    },
    {
     "data": {
      "image/png": "[encoded data removed]",
      "text/plain": [
       "<Figure size 432x288 with 1 Axes>"
      ]
     },
     "metadata": {
      "needs_background": "light"
     },
     "output_type": "display_data"
    }
   ],
   "source": [
    "plt.subplot(211)\n",
    "plt.title('Loss')\n",
    "plt.plot(model_history.history['loss'], label='train')\n",
    "plt.plot(model_history.history['val_loss'], label='test')\n",
    "plt.legend()"
   ]
  },
  {
   "cell_type": "code",
   "execution_count": 86,
   "id": "tested-outreach",
   "metadata": {},
   "outputs": [
    {
     "name": "stdout",
     "output_type": "stream",
     "text": [
      "Epoch 1/50\n",
      "640/640 - 1s - loss: 0.5341 - accuracy: 0.7873 - val_loss: 0.5046 - val_accuracy: 0.7969\n",
      "Epoch 2/50\n",
      "640/640 - 0s - loss: 0.4917 - accuracy: 0.7958 - val_loss: 0.4813 - val_accuracy: 0.7969\n",
      "Epoch 3/50\n",
      "640/640 - 1s - loss: 0.4707 - accuracy: 0.7962 - val_loss: 0.4639 - val_accuracy: 0.8069\n",
      "Epoch 4/50\n",
      "640/640 - 0s - loss: 0.4532 - accuracy: 0.8066 - val_loss: 0.4497 - val_accuracy: 0.8119\n",
      "Epoch 5/50\n",
      "640/640 - 0s - loss: 0.4405 - accuracy: 0.8100 - val_loss: 0.4485 - val_accuracy: 0.8050\n",
      "Epoch 6/50\n",
      "640/640 - 0s - loss: 0.4347 - accuracy: 0.8127 - val_loss: 0.4405 - val_accuracy: 0.8131\n",
      "Epoch 7/50\n",
      "640/640 - 0s - loss: 0.4299 - accuracy: 0.8119 - val_loss: 0.4360 - val_accuracy: 0.8131\n",
      "Epoch 8/50\n",
      "640/640 - 0s - loss: 0.4263 - accuracy: 0.8123 - val_loss: 0.4369 - val_accuracy: 0.8056\n",
      "Epoch 9/50\n",
      "640/640 - 0s - loss: 0.4226 - accuracy: 0.8145 - val_loss: 0.4298 - val_accuracy: 0.8131\n",
      "Epoch 10/50\n",
      "640/640 - 0s - loss: 0.4189 - accuracy: 0.8158 - val_loss: 0.4260 - val_accuracy: 0.8106\n",
      "Epoch 11/50\n",
      "640/640 - 0s - loss: 0.4153 - accuracy: 0.8156 - val_loss: 0.4275 - val_accuracy: 0.8144\n",
      "Epoch 12/50\n",
      "640/640 - 0s - loss: 0.4117 - accuracy: 0.8195 - val_loss: 0.4228 - val_accuracy: 0.8138\n",
      "Epoch 13/50\n",
      "640/640 - 0s - loss: 0.4078 - accuracy: 0.8197 - val_loss: 0.4181 - val_accuracy: 0.8175\n",
      "Epoch 14/50\n",
      "640/640 - 0s - loss: 0.4057 - accuracy: 0.8242 - val_loss: 0.4123 - val_accuracy: 0.8206\n",
      "Epoch 15/50\n",
      "640/640 - 0s - loss: 0.3986 - accuracy: 0.8259 - val_loss: 0.4101 - val_accuracy: 0.8206\n",
      "Epoch 16/50\n",
      "640/640 - 0s - loss: 0.3938 - accuracy: 0.8291 - val_loss: 0.4056 - val_accuracy: 0.8250\n",
      "Epoch 17/50\n",
      "640/640 - 1s - loss: 0.3888 - accuracy: 0.8295 - val_loss: 0.4023 - val_accuracy: 0.8256\n",
      "Epoch 18/50\n",
      "640/640 - 0s - loss: 0.3847 - accuracy: 0.8308 - val_loss: 0.4037 - val_accuracy: 0.8288\n",
      "Epoch 19/50\n",
      "640/640 - 1s - loss: 0.3821 - accuracy: 0.8339 - val_loss: 0.3998 - val_accuracy: 0.8238\n",
      "Epoch 20/50\n",
      "640/640 - 0s - loss: 0.3790 - accuracy: 0.8353 - val_loss: 0.3937 - val_accuracy: 0.8275\n",
      "Epoch 21/50\n",
      "640/640 - 0s - loss: 0.3775 - accuracy: 0.8348 - val_loss: 0.3931 - val_accuracy: 0.8319\n",
      "Epoch 22/50\n",
      "640/640 - 0s - loss: 0.3752 - accuracy: 0.8389 - val_loss: 0.3924 - val_accuracy: 0.8338\n",
      "Epoch 23/50\n",
      "640/640 - 0s - loss: 0.3731 - accuracy: 0.8383 - val_loss: 0.3888 - val_accuracy: 0.8338\n",
      "Epoch 24/50\n",
      "640/640 - 1s - loss: 0.3721 - accuracy: 0.8402 - val_loss: 0.3885 - val_accuracy: 0.8300\n",
      "Epoch 25/50\n",
      "640/640 - 1s - loss: 0.3698 - accuracy: 0.8416 - val_loss: 0.3893 - val_accuracy: 0.8350\n",
      "Epoch 26/50\n",
      "640/640 - 0s - loss: 0.3694 - accuracy: 0.8441 - val_loss: 0.3871 - val_accuracy: 0.8381\n",
      "Epoch 27/50\n",
      "640/640 - 0s - loss: 0.3673 - accuracy: 0.8452 - val_loss: 0.3902 - val_accuracy: 0.8375\n",
      "Epoch 28/50\n",
      "640/640 - 0s - loss: 0.3669 - accuracy: 0.8434 - val_loss: 0.3922 - val_accuracy: 0.8225\n",
      "Epoch 29/50\n",
      "640/640 - 1s - loss: 0.3675 - accuracy: 0.8431 - val_loss: 0.3857 - val_accuracy: 0.8400\n",
      "Epoch 30/50\n",
      "640/640 - 0s - loss: 0.3667 - accuracy: 0.8458 - val_loss: 0.3844 - val_accuracy: 0.8375\n",
      "Epoch 31/50\n",
      "640/640 - 0s - loss: 0.3644 - accuracy: 0.8459 - val_loss: 0.3831 - val_accuracy: 0.8369\n",
      "Epoch 32/50\n",
      "640/640 - 1s - loss: 0.3650 - accuracy: 0.8445 - val_loss: 0.3842 - val_accuracy: 0.8369\n",
      "Epoch 33/50\n",
      "640/640 - 1s - loss: 0.3641 - accuracy: 0.8450 - val_loss: 0.3834 - val_accuracy: 0.8425\n",
      "Epoch 34/50\n",
      "640/640 - 0s - loss: 0.3626 - accuracy: 0.8495 - val_loss: 0.3848 - val_accuracy: 0.8325\n",
      "Epoch 35/50\n",
      "640/640 - 0s - loss: 0.3631 - accuracy: 0.8448 - val_loss: 0.3804 - val_accuracy: 0.8381\n",
      "Epoch 36/50\n",
      "640/640 - 0s - loss: 0.3627 - accuracy: 0.8464 - val_loss: 0.3794 - val_accuracy: 0.8419\n",
      "Epoch 37/50\n",
      "640/640 - 1s - loss: 0.3621 - accuracy: 0.8462 - val_loss: 0.3783 - val_accuracy: 0.8419\n",
      "Epoch 38/50\n",
      "640/640 - 0s - loss: 0.3605 - accuracy: 0.8464 - val_loss: 0.3782 - val_accuracy: 0.8406\n",
      "Epoch 39/50\n",
      "640/640 - 1s - loss: 0.3599 - accuracy: 0.8469 - val_loss: 0.3776 - val_accuracy: 0.8425\n",
      "Epoch 40/50\n",
      "640/640 - 0s - loss: 0.3598 - accuracy: 0.8503 - val_loss: 0.3744 - val_accuracy: 0.8438\n",
      "Epoch 41/50\n",
      "640/640 - 0s - loss: 0.3590 - accuracy: 0.8481 - val_loss: 0.3746 - val_accuracy: 0.8444\n",
      "Epoch 42/50\n",
      "640/640 - 0s - loss: 0.3584 - accuracy: 0.8508 - val_loss: 0.3739 - val_accuracy: 0.8388\n",
      "Epoch 43/50\n",
      "640/640 - 0s - loss: 0.3570 - accuracy: 0.8528 - val_loss: 0.3716 - val_accuracy: 0.8481\n",
      "Epoch 44/50\n",
      "640/640 - 0s - loss: 0.3559 - accuracy: 0.8517 - val_loss: 0.3718 - val_accuracy: 0.8475\n",
      "Epoch 45/50\n",
      "640/640 - 1s - loss: 0.3559 - accuracy: 0.8519 - val_loss: 0.3699 - val_accuracy: 0.8500\n",
      "Epoch 46/50\n",
      "640/640 - 0s - loss: 0.3550 - accuracy: 0.8495 - val_loss: 0.3705 - val_accuracy: 0.8475\n",
      "Epoch 47/50\n",
      "640/640 - 0s - loss: 0.3554 - accuracy: 0.8539 - val_loss: 0.3687 - val_accuracy: 0.8500\n",
      "Epoch 48/50\n",
      "640/640 - 1s - loss: 0.3535 - accuracy: 0.8547 - val_loss: 0.3667 - val_accuracy: 0.8462\n",
      "Epoch 49/50\n",
      "640/640 - 0s - loss: 0.3528 - accuracy: 0.8525 - val_loss: 0.3670 - val_accuracy: 0.8456\n",
      "Epoch 50/50\n",
      "640/640 - 0s - loss: 0.3529 - accuracy: 0.8520 - val_loss: 0.3668 - val_accuracy: 0.8487\n"
     ]
    }
   ],
   "source": [
    "model = Sequential([\n",
    "    Dense(units=10, input_shape=(10, ), activation='relu'),\n",
    "    Dense(units=5, activation='relu'),\n",
    "    Dense(units=1, activation='sigmoid')\n",
    "])\n",
    "\n",
    "model.compile(optimizer='adam', loss='binary_crossentropy', metrics=['accuracy'])\n",
    "model_history = model.fit(x=X_train, y=y_train, validation_split=0.2, batch_size=10, epochs=50, verbose=2)"
   ]
  },
  {
   "cell_type": "code",
   "execution_count": 87,
   "id": "accomplished-climb",
   "metadata": {},
   "outputs": [
    {
     "data": {
      "text/plain": [
       "0.861"
      ]
     },
     "execution_count": 87,
     "metadata": {},
     "output_type": "execute_result"
    }
   ],
   "source": [
    "predicted_values = model.predict(X_test)\n",
    "predicted_values = (predicted_values > 0.5)\n",
    "accuracy = accuracy_score(y_test, predicted_values)\n",
    "accuracy"
   ]
  },
  {
   "cell_type": "code",
   "execution_count": 100,
   "id": "alone-hanging",
   "metadata": {},
   "outputs": [
    {
     "name": "stdout",
     "output_type": "stream",
     "text": [
      "Epoch 1/20\n",
      "640/640 - 1s - loss: 0.5135 - accuracy: 0.7919 - val_loss: 0.4805 - val_accuracy: 0.7969\n",
      "Epoch 2/20\n",
      "640/640 - 1s - loss: 0.4862 - accuracy: 0.7958 - val_loss: 0.4684 - val_accuracy: 0.7969\n",
      "Epoch 3/20\n",
      "640/640 - 1s - loss: 0.4777 - accuracy: 0.7958 - val_loss: 0.4575 - val_accuracy: 0.7969\n",
      "Epoch 4/20\n",
      "640/640 - 1s - loss: 0.4592 - accuracy: 0.7962 - val_loss: 0.4486 - val_accuracy: 0.7969\n",
      "Epoch 5/20\n",
      "640/640 - 1s - loss: 0.4502 - accuracy: 0.7989 - val_loss: 0.4403 - val_accuracy: 0.7975\n",
      "Epoch 6/20\n",
      "640/640 - 1s - loss: 0.4429 - accuracy: 0.8041 - val_loss: 0.4327 - val_accuracy: 0.8019\n",
      "Epoch 7/20\n",
      "640/640 - 0s - loss: 0.4345 - accuracy: 0.8112 - val_loss: 0.4257 - val_accuracy: 0.8019\n",
      "Epoch 8/20\n",
      "640/640 - 0s - loss: 0.4273 - accuracy: 0.8144 - val_loss: 0.4187 - val_accuracy: 0.8112\n",
      "Epoch 9/20\n",
      "640/640 - 1s - loss: 0.4157 - accuracy: 0.8161 - val_loss: 0.4129 - val_accuracy: 0.8106\n",
      "Epoch 10/20\n",
      "640/640 - 1s - loss: 0.4130 - accuracy: 0.8208 - val_loss: 0.4093 - val_accuracy: 0.8263\n",
      "Epoch 11/20\n",
      "640/640 - 1s - loss: 0.4079 - accuracy: 0.8272 - val_loss: 0.4011 - val_accuracy: 0.8269\n",
      "Epoch 12/20\n",
      "640/640 - 1s - loss: 0.3995 - accuracy: 0.8292 - val_loss: 0.3955 - val_accuracy: 0.8244\n",
      "Epoch 13/20\n",
      "640/640 - 1s - loss: 0.4000 - accuracy: 0.8252 - val_loss: 0.3940 - val_accuracy: 0.8325\n",
      "Epoch 14/20\n",
      "640/640 - 1s - loss: 0.3930 - accuracy: 0.8281 - val_loss: 0.3931 - val_accuracy: 0.8294\n",
      "Epoch 15/20\n",
      "640/640 - 1s - loss: 0.3966 - accuracy: 0.8284 - val_loss: 0.3919 - val_accuracy: 0.8306\n",
      "Epoch 16/20\n",
      "640/640 - 1s - loss: 0.3920 - accuracy: 0.8306 - val_loss: 0.3896 - val_accuracy: 0.8288\n",
      "Epoch 17/20\n",
      "640/640 - 1s - loss: 0.3913 - accuracy: 0.8294 - val_loss: 0.3871 - val_accuracy: 0.8319\n",
      "Epoch 18/20\n",
      "640/640 - 1s - loss: 0.3913 - accuracy: 0.8356 - val_loss: 0.3892 - val_accuracy: 0.8356\n",
      "Epoch 19/20\n",
      "640/640 - 1s - loss: 0.3881 - accuracy: 0.8342 - val_loss: 0.3839 - val_accuracy: 0.8394\n",
      "Epoch 20/20\n",
      "640/640 - 1s - loss: 0.3884 - accuracy: 0.8334 - val_loss: 0.3849 - val_accuracy: 0.8331\n"
     ]
    }
   ],
   "source": [
    "model = Sequential()\n",
    "model.add(Dense(units = 10, input_shape=(10, ), activation = 'relu'))\n",
    "model.add(Dense(units = 5, activation = 'relu'))\n",
    "model.add(Dropout(0.25))\n",
    "model.add(Dense(units = 1, activation = 'sigmoid'))\n",
    "\n",
    "model.compile(optimizer='adam', loss='binary_crossentropy', metrics=['accuracy'])\n",
    "model_history = model.fit(x=X_train, y=y_train, validation_split=0.2, batch_size=10, epochs=20, verbose=2)"
   ]
  },
  {
   "cell_type": "code",
   "execution_count": null,
   "id": "intended-skill",
   "metadata": {},
   "outputs": [],
   "source": []
  }
 ],
 "metadata": {
  "kernelspec": {
   "display_name": "Python 3",
   "language": "python",
   "name": "python3"
  },
  "language_info": {
   "codemirror_mode": {
    "name": "ipython",
    "version": 3
   },
   "file_extension": ".py",
   "mimetype": "text/x-python",
   "name": "python",
   "nbconvert_exporter": "python",
   "pygments_lexer": "ipython3",
   "version": "3.8.5"
  }
 },
 "nbformat": 4,
 "nbformat_minor": 5
}
