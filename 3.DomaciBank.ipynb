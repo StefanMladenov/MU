{
 "cells": [
  {
   "cell_type": "code",
   "execution_count": 1,
   "id": "strategic-judge",
   "metadata": {},
   "outputs": [],
   "source": [
    "import pandas as pd\n",
    "import numpy as np\n",
    "from keras.models import Sequential\n",
    "from keras.layers import Dense, Dropout\n",
    "from sklearn.preprocessing import MinMaxScaler\n",
    "from sklearn.model_selection import train_test_split\n",
    "from sklearn.metrics import confusion_matrix, classification_report, accuracy_score\n",
    "from tensorflow.keras.optimizers import Adam\n",
    "import matplotlib.pyplot as plt\n",
    "import seaborn as sns"
   ]
  },
  {
   "cell_type": "code",
   "execution_count": 2,
   "id": "vanilla-depression",
   "metadata": {},
   "outputs": [
    {
     "data": {
      "text/html": [
       "<div>\n",
       "<style scoped>\n",
       "    .dataframe tbody tr th:only-of-type {\n",
       "        vertical-align: middle;\n",
       "    }\n",
       "\n",
       "    .dataframe tbody tr th {\n",
       "        vertical-align: top;\n",
       "    }\n",
       "\n",
       "    .dataframe thead th {\n",
       "        text-align: right;\n",
       "    }\n",
       "</style>\n",
       "<table border=\"1\" class=\"dataframe\">\n",
       "  <thead>\n",
       "    <tr style=\"text-align: right;\">\n",
       "      <th></th>\n",
       "      <th>RowNumber</th>\n",
       "      <th>CustomerId</th>\n",
       "      <th>Surname</th>\n",
       "      <th>CreditScore</th>\n",
       "      <th>Geography</th>\n",
       "      <th>Gender</th>\n",
       "      <th>Age</th>\n",
       "      <th>Tenure</th>\n",
       "      <th>Balance</th>\n",
       "      <th>NumOfProducts</th>\n",
       "      <th>HasCrCard</th>\n",
       "      <th>IsActiveMember</th>\n",
       "      <th>EstimatedSalary</th>\n",
       "      <th>Exited</th>\n",
       "    </tr>\n",
       "  </thead>\n",
       "  <tbody>\n",
       "    <tr>\n",
       "      <th>0</th>\n",
       "      <td>1</td>\n",
       "      <td>15634602</td>\n",
       "      <td>Hargrave</td>\n",
       "      <td>619</td>\n",
       "      <td>France</td>\n",
       "      <td>Female</td>\n",
       "      <td>42</td>\n",
       "      <td>2</td>\n",
       "      <td>0.00</td>\n",
       "      <td>1</td>\n",
       "      <td>1</td>\n",
       "      <td>1</td>\n",
       "      <td>101348.88</td>\n",
       "      <td>1</td>\n",
       "    </tr>\n",
       "    <tr>\n",
       "      <th>1</th>\n",
       "      <td>2</td>\n",
       "      <td>15647311</td>\n",
       "      <td>Hill</td>\n",
       "      <td>608</td>\n",
       "      <td>Spain</td>\n",
       "      <td>Female</td>\n",
       "      <td>41</td>\n",
       "      <td>1</td>\n",
       "      <td>83807.86</td>\n",
       "      <td>1</td>\n",
       "      <td>0</td>\n",
       "      <td>1</td>\n",
       "      <td>112542.58</td>\n",
       "      <td>0</td>\n",
       "    </tr>\n",
       "    <tr>\n",
       "      <th>2</th>\n",
       "      <td>3</td>\n",
       "      <td>15619304</td>\n",
       "      <td>Onio</td>\n",
       "      <td>502</td>\n",
       "      <td>France</td>\n",
       "      <td>Female</td>\n",
       "      <td>42</td>\n",
       "      <td>8</td>\n",
       "      <td>159660.80</td>\n",
       "      <td>3</td>\n",
       "      <td>1</td>\n",
       "      <td>0</td>\n",
       "      <td>113931.57</td>\n",
       "      <td>1</td>\n",
       "    </tr>\n",
       "    <tr>\n",
       "      <th>3</th>\n",
       "      <td>4</td>\n",
       "      <td>15701354</td>\n",
       "      <td>Boni</td>\n",
       "      <td>699</td>\n",
       "      <td>France</td>\n",
       "      <td>Female</td>\n",
       "      <td>39</td>\n",
       "      <td>1</td>\n",
       "      <td>0.00</td>\n",
       "      <td>2</td>\n",
       "      <td>0</td>\n",
       "      <td>0</td>\n",
       "      <td>93826.63</td>\n",
       "      <td>0</td>\n",
       "    </tr>\n",
       "    <tr>\n",
       "      <th>4</th>\n",
       "      <td>5</td>\n",
       "      <td>15737888</td>\n",
       "      <td>Mitchell</td>\n",
       "      <td>850</td>\n",
       "      <td>Spain</td>\n",
       "      <td>Female</td>\n",
       "      <td>43</td>\n",
       "      <td>2</td>\n",
       "      <td>125510.82</td>\n",
       "      <td>1</td>\n",
       "      <td>1</td>\n",
       "      <td>1</td>\n",
       "      <td>79084.10</td>\n",
       "      <td>0</td>\n",
       "    </tr>\n",
       "    <tr>\n",
       "      <th>...</th>\n",
       "      <td>...</td>\n",
       "      <td>...</td>\n",
       "      <td>...</td>\n",
       "      <td>...</td>\n",
       "      <td>...</td>\n",
       "      <td>...</td>\n",
       "      <td>...</td>\n",
       "      <td>...</td>\n",
       "      <td>...</td>\n",
       "      <td>...</td>\n",
       "      <td>...</td>\n",
       "      <td>...</td>\n",
       "      <td>...</td>\n",
       "      <td>...</td>\n",
       "    </tr>\n",
       "    <tr>\n",
       "      <th>9995</th>\n",
       "      <td>9996</td>\n",
       "      <td>15606229</td>\n",
       "      <td>Obijiaku</td>\n",
       "      <td>771</td>\n",
       "      <td>France</td>\n",
       "      <td>Male</td>\n",
       "      <td>39</td>\n",
       "      <td>5</td>\n",
       "      <td>0.00</td>\n",
       "      <td>2</td>\n",
       "      <td>1</td>\n",
       "      <td>0</td>\n",
       "      <td>96270.64</td>\n",
       "      <td>0</td>\n",
       "    </tr>\n",
       "    <tr>\n",
       "      <th>9996</th>\n",
       "      <td>9997</td>\n",
       "      <td>15569892</td>\n",
       "      <td>Johnstone</td>\n",
       "      <td>516</td>\n",
       "      <td>France</td>\n",
       "      <td>Male</td>\n",
       "      <td>35</td>\n",
       "      <td>10</td>\n",
       "      <td>57369.61</td>\n",
       "      <td>1</td>\n",
       "      <td>1</td>\n",
       "      <td>1</td>\n",
       "      <td>101699.77</td>\n",
       "      <td>0</td>\n",
       "    </tr>\n",
       "    <tr>\n",
       "      <th>9997</th>\n",
       "      <td>9998</td>\n",
       "      <td>15584532</td>\n",
       "      <td>Liu</td>\n",
       "      <td>709</td>\n",
       "      <td>France</td>\n",
       "      <td>Female</td>\n",
       "      <td>36</td>\n",
       "      <td>7</td>\n",
       "      <td>0.00</td>\n",
       "      <td>1</td>\n",
       "      <td>0</td>\n",
       "      <td>1</td>\n",
       "      <td>42085.58</td>\n",
       "      <td>1</td>\n",
       "    </tr>\n",
       "    <tr>\n",
       "      <th>9998</th>\n",
       "      <td>9999</td>\n",
       "      <td>15682355</td>\n",
       "      <td>Sabbatini</td>\n",
       "      <td>772</td>\n",
       "      <td>Germany</td>\n",
       "      <td>Male</td>\n",
       "      <td>42</td>\n",
       "      <td>3</td>\n",
       "      <td>75075.31</td>\n",
       "      <td>2</td>\n",
       "      <td>1</td>\n",
       "      <td>0</td>\n",
       "      <td>92888.52</td>\n",
       "      <td>1</td>\n",
       "    </tr>\n",
       "    <tr>\n",
       "      <th>9999</th>\n",
       "      <td>10000</td>\n",
       "      <td>15628319</td>\n",
       "      <td>Walker</td>\n",
       "      <td>792</td>\n",
       "      <td>France</td>\n",
       "      <td>Female</td>\n",
       "      <td>28</td>\n",
       "      <td>4</td>\n",
       "      <td>130142.79</td>\n",
       "      <td>1</td>\n",
       "      <td>1</td>\n",
       "      <td>0</td>\n",
       "      <td>38190.78</td>\n",
       "      <td>0</td>\n",
       "    </tr>\n",
       "  </tbody>\n",
       "</table>\n",
       "<p>10000 rows × 14 columns</p>\n",
       "</div>"
      ],
      "text/plain": [
       "      RowNumber  CustomerId    Surname  CreditScore Geography  Gender  Age  \\\n",
       "0             1    15634602   Hargrave          619    France  Female   42   \n",
       "1             2    15647311       Hill          608     Spain  Female   41   \n",
       "2             3    15619304       Onio          502    France  Female   42   \n",
       "3             4    15701354       Boni          699    France  Female   39   \n",
       "4             5    15737888   Mitchell          850     Spain  Female   43   \n",
       "...         ...         ...        ...          ...       ...     ...  ...   \n",
       "9995       9996    15606229   Obijiaku          771    France    Male   39   \n",
       "9996       9997    15569892  Johnstone          516    France    Male   35   \n",
       "9997       9998    15584532        Liu          709    France  Female   36   \n",
       "9998       9999    15682355  Sabbatini          772   Germany    Male   42   \n",
       "9999      10000    15628319     Walker          792    France  Female   28   \n",
       "\n",
       "      Tenure    Balance  NumOfProducts  HasCrCard  IsActiveMember  \\\n",
       "0          2       0.00              1          1               1   \n",
       "1          1   83807.86              1          0               1   \n",
       "2          8  159660.80              3          1               0   \n",
       "3          1       0.00              2          0               0   \n",
       "4          2  125510.82              1          1               1   \n",
       "...      ...        ...            ...        ...             ...   \n",
       "9995       5       0.00              2          1               0   \n",
       "9996      10   57369.61              1          1               1   \n",
       "9997       7       0.00              1          0               1   \n",
       "9998       3   75075.31              2          1               0   \n",
       "9999       4  130142.79              1          1               0   \n",
       "\n",
       "      EstimatedSalary  Exited  \n",
       "0           101348.88       1  \n",
       "1           112542.58       0  \n",
       "2           113931.57       1  \n",
       "3            93826.63       0  \n",
       "4            79084.10       0  \n",
       "...               ...     ...  \n",
       "9995         96270.64       0  \n",
       "9996        101699.77       0  \n",
       "9997         42085.58       1  \n",
       "9998         92888.52       1  \n",
       "9999         38190.78       0  \n",
       "\n",
       "[10000 rows x 14 columns]"
      ]
     },
     "execution_count": 2,
     "metadata": {},
     "output_type": "execute_result"
    }
   ],
   "source": [
    "dataset = pd.read_csv('DataSets/Churn_Modelling.csv')\n",
    "dataset"
   ]
  },
  {
   "cell_type": "code",
   "execution_count": 3,
   "id": "returning-ratio",
   "metadata": {},
   "outputs": [
    {
     "name": "stdout",
     "output_type": "stream",
     "text": [
      "<class 'pandas.core.frame.DataFrame'>\n",
      "RangeIndex: 10000 entries, 0 to 9999\n",
      "Data columns (total 14 columns):\n",
      " #   Column           Non-Null Count  Dtype  \n",
      "---  ------           --------------  -----  \n",
      " 0   RowNumber        10000 non-null  int64  \n",
      " 1   CustomerId       10000 non-null  int64  \n",
      " 2   Surname          10000 non-null  object \n",
      " 3   CreditScore      10000 non-null  int64  \n",
      " 4   Geography        10000 non-null  object \n",
      " 5   Gender           10000 non-null  object \n",
      " 6   Age              10000 non-null  int64  \n",
      " 7   Tenure           10000 non-null  int64  \n",
      " 8   Balance          10000 non-null  float64\n",
      " 9   NumOfProducts    10000 non-null  int64  \n",
      " 10  HasCrCard        10000 non-null  int64  \n",
      " 11  IsActiveMember   10000 non-null  int64  \n",
      " 12  EstimatedSalary  10000 non-null  float64\n",
      " 13  Exited           10000 non-null  int64  \n",
      "dtypes: float64(2), int64(9), object(3)\n",
      "memory usage: 1.1+ MB\n"
     ]
    }
   ],
   "source": [
    "dataset.info()"
   ]
  },
  {
   "cell_type": "code",
   "execution_count": 4,
   "id": "illegal-samoa",
   "metadata": {},
   "outputs": [
    {
     "data": {
      "text/plain": [
       "(10000, 14)"
      ]
     },
     "execution_count": 4,
     "metadata": {},
     "output_type": "execute_result"
    }
   ],
   "source": [
    "dataset.values.shape"
   ]
  },
  {
   "cell_type": "code",
   "execution_count": 5,
   "id": "scientific-international",
   "metadata": {},
   "outputs": [
    {
     "data": {
      "text/plain": [
       "<AxesSubplot:>"
      ]
     },
     "execution_count": 5,
     "metadata": {},
     "output_type": "execute_result"
    },
    {
     "data": {
      "image/png": "[encoded data removed]",
      "text/plain": [
       "<Figure size 1296x1296 with 2 Axes>"
      ]
     },
     "metadata": {
      "needs_background": "light"
     },
     "output_type": "display_data"
    }
   ],
   "source": [
    "#korelacija podataka\n",
    "corrmat = dataset.corr()\n",
    "cmap = sns.diverging_palette(260,-10,s=50, l=75, n=6, as_cmap=True)\n",
    "plt.subplots(figsize=(18,18))\n",
    "sns.heatmap(corrmat,cmap= cmap,annot=True, square=True)"
   ]
  },
  {
   "cell_type": "code",
   "execution_count": 7,
   "id": "velvet-orbit",
   "metadata": {},
   "outputs": [
    {
     "data": {
      "image/png": "[encoded data removed]",
      "text/plain": [
       "<Figure size 288x288 with 1 Axes>"
      ]
     },
     "metadata": {
      "needs_background": "light"
     },
     "output_type": "display_data"
    }
   ],
   "source": [
    "#broj godina u banci kao korisnik\n",
    "g= sns.catplot(x = \"Tenure\", y = \"Exited\", data = dataset, kind = \"bar\", height = 4)\n",
    "g.set_ylabels(\"Churn Probability\")\n",
    "plt.show()"
   ]
  },
  {
   "cell_type": "code",
   "execution_count": 8,
   "id": "binding-botswana",
   "metadata": {},
   "outputs": [
    {
     "data": {
      "image/png": "[encoded data removed]",
      "text/plain": [
       "<Figure size 360x360 with 1 Axes>"
      ]
     },
     "metadata": {
      "needs_background": "light"
     },
     "output_type": "display_data"
    }
   ],
   "source": [
    "#zene napustaju vise od muskaraca\n",
    "g= sns.catplot(x = \"Gender\", y = \"Exited\", data = dataset, kind = \"bar\", height = 5)\n",
    "g.set_ylabels(\"Churn Probability\")\n",
    "plt.show()"
   ]
  },
  {
   "cell_type": "code",
   "execution_count": 15,
   "id": "addressed-father",
   "metadata": {},
   "outputs": [
    {
     "data": {
      "image/png": "[encoded data removed]",
      "text/plain": [
       "<Figure size 432x216 with 2 Axes>"
      ]
     },
     "metadata": {
      "needs_background": "light"
     },
     "output_type": "display_data"
    }
   ],
   "source": [
    "#broj godina\n",
    "g= sns.FacetGrid(dataset, col = \"Exited\")\n",
    "g.map(sns.histplot, \"Age\", bins = 25)\n",
    "plt.show()"
   ]
  },
  {
   "cell_type": "code",
   "execution_count": 17,
   "id": "respected-dollar",
   "metadata": {},
   "outputs": [
    {
     "name": "stderr",
     "output_type": "stream",
     "text": [
      "C:\\Users\\Aca\\.conda\\envs\\TensorFlow\\lib\\site-packages\\seaborn\\distributions.py:2557: FutureWarning: `distplot` is a deprecated function and will be removed in a future version. Please adapt your code to use either `displot` (a figure-level function with similar flexibility) or `histplot` (an axes-level function for histograms).\n",
      "  warnings.warn(msg, FutureWarning)\n",
      "C:\\Users\\Aca\\.conda\\envs\\TensorFlow\\lib\\site-packages\\seaborn\\distributions.py:2557: FutureWarning: `distplot` is a deprecated function and will be removed in a future version. Please adapt your code to use either `displot` (a figure-level function with similar flexibility) or `histplot` (an axes-level function for histograms).\n",
      "  warnings.warn(msg, FutureWarning)\n"
     ]
    },
    {
     "data": {
      "image/png": "[encoded data removed]",
      "text/plain": [
       "<Figure size 432x216 with 2 Axes>"
      ]
     },
     "metadata": {
      "needs_background": "light"
     },
     "output_type": "display_data"
    }
   ],
   "source": [
    "#balans na racunu\n",
    "g= sns.FacetGrid(dataset, col = \"Exited\")\n",
    "g.map(sns.distplot, \"Balance\", bins = 25)\n",
    "plt.show()"
   ]
  },
  {
   "cell_type": "code",
   "execution_count": 18,
   "id": "dense-payroll",
   "metadata": {},
   "outputs": [
    {
     "name": "stderr",
     "output_type": "stream",
     "text": [
      "C:\\Users\\Aca\\.conda\\envs\\TensorFlow\\lib\\site-packages\\seaborn\\distributions.py:2557: FutureWarning: `distplot` is a deprecated function and will be removed in a future version. Please adapt your code to use either `displot` (a figure-level function with similar flexibility) or `histplot` (an axes-level function for histograms).\n",
      "  warnings.warn(msg, FutureWarning)\n",
      "C:\\Users\\Aca\\.conda\\envs\\TensorFlow\\lib\\site-packages\\seaborn\\distributions.py:2557: FutureWarning: `distplot` is a deprecated function and will be removed in a future version. Please adapt your code to use either `displot` (a figure-level function with similar flexibility) or `histplot` (an axes-level function for histograms).\n",
      "  warnings.warn(msg, FutureWarning)\n"
     ]
    },
    {
     "data": {
      "image/png": "[encoded data removed]",
      "text/plain": [
       "<Figure size 432x216 with 2 Axes>"
      ]
     },
     "metadata": {
      "needs_background": "light"
     },
     "output_type": "display_data"
    }
   ],
   "source": [
    "#balans na racunu\n",
    "g= sns.FacetGrid(dataset, col = \"Exited\")\n",
    "g.map(sns.distplot, \"EstimatedSalary\", bins = 25)\n",
    "plt.show()"
   ]
  },
  {
   "cell_type": "code",
   "execution_count": 19,
   "id": "adolescent-answer",
   "metadata": {},
   "outputs": [
    {
     "name": "stderr",
     "output_type": "stream",
     "text": [
      "C:\\Users\\Aca\\.conda\\envs\\TensorFlow\\lib\\site-packages\\seaborn\\distributions.py:2557: FutureWarning: `distplot` is a deprecated function and will be removed in a future version. Please adapt your code to use either `displot` (a figure-level function with similar flexibility) or `histplot` (an axes-level function for histograms).\n",
      "  warnings.warn(msg, FutureWarning)\n",
      "C:\\Users\\Aca\\.conda\\envs\\TensorFlow\\lib\\site-packages\\seaborn\\distributions.py:2557: FutureWarning: `distplot` is a deprecated function and will be removed in a future version. Please adapt your code to use either `displot` (a figure-level function with similar flexibility) or `histplot` (an axes-level function for histograms).\n",
      "  warnings.warn(msg, FutureWarning)\n"
     ]
    },
    {
     "data": {
      "image/png": "[encoded data removed]",
      "text/plain": [
       "<Figure size 432x216 with 2 Axes>"
      ]
     },
     "metadata": {
      "needs_background": "light"
     },
     "output_type": "display_data"
    }
   ],
   "source": [
    "#Credit score korisnika\n",
    "g= sns.FacetGrid(dataset, col = \"Exited\")\n",
    "g.map(sns.distplot, \"CreditScore\", bins = 25)\n",
    "plt.show()"
   ]
  },
  {
   "cell_type": "code",
   "execution_count": 20,
   "id": "adult-investigation",
   "metadata": {},
   "outputs": [],
   "source": [
    "categorical = []\n",
    "numerical = []\n",
    "\n",
    "for feature in dataset.columns:\n",
    "    if dataset[feature].dtype == 'object':\n",
    "        categorical.append(feature)\n",
    "    else:\n",
    "        numerical.append(feature)"
   ]
  },
  {
   "cell_type": "code",
   "execution_count": 21,
   "id": "center-scanning",
   "metadata": {},
   "outputs": [
    {
     "name": "stdout",
     "output_type": "stream",
     "text": [
      "['RowNumber', 'CustomerId', 'CreditScore', 'Age', 'Tenure', 'Balance', 'NumOfProducts', 'HasCrCard', 'IsActiveMember', 'EstimatedSalary', 'Exited']\n",
      "Ukupan broj numerickih atributa: 11\n"
     ]
    }
   ],
   "source": [
    "print(numerical)\n",
    "print('Ukupan broj numerickih atributa:', len(numerical))"
   ]
  },
  {
   "cell_type": "code",
   "execution_count": 22,
   "id": "warming-glasgow",
   "metadata": {},
   "outputs": [
    {
     "name": "stdout",
     "output_type": "stream",
     "text": [
      "['Surname', 'Geography', 'Gender']\n",
      "Ukupan broj kategorickih atributa: 3\n"
     ]
    }
   ],
   "source": [
    "print(categorical)\n",
    "print('Ukupan broj kategorickih atributa:', len(categorical))"
   ]
  },
  {
   "cell_type": "markdown",
   "id": "narrow-words",
   "metadata": {},
   "source": [
    "Podatak koji se predvidja - exited kolona koja oznacava da li je korisnik aktuelni - vrednost 0 ili je korisnik zatvorio racun u banci - vrednost 1"
   ]
  },
  {
   "cell_type": "code",
   "execution_count": 23,
   "id": "guided-round",
   "metadata": {},
   "outputs": [
    {
     "data": {
      "text/plain": [
       "<AxesSubplot:xlabel='Exited', ylabel='count'>"
      ]
     },
     "execution_count": 23,
     "metadata": {},
     "output_type": "execute_result"
    },
    {
     "data": {
      "image/png": "[encoded data removed]",
      "text/plain": [
       "<Figure size 432x288 with 1 Axes>"
      ]
     },
     "metadata": {
      "needs_background": "light"
     },
     "output_type": "display_data"
    }
   ],
   "source": [
    "cols= [\"#C2C4E2\",\"#EED4E5\"]\n",
    "sns.countplot(x= dataset[\"Exited\"], palette= cols)"
   ]
  },
  {
   "cell_type": "code",
   "execution_count": 24,
   "id": "bigger-referral",
   "metadata": {},
   "outputs": [
    {
     "name": "stdout",
     "output_type": "stream",
     "text": [
      "Broj korisnika koji je zatvorio racun: 2037\n",
      "U procentima:  20.369999999999997 %\n"
     ]
    }
   ],
   "source": [
    "print('Broj korisnika koji je zatvorio racun:', len(dataset.loc[dataset['Exited'] == 1]))\n",
    "print(f'U procentima: ', (len(dataset.loc[dataset['Exited'] == 1]) / len(dataset)) * 100, '%')"
   ]
  },
  {
   "cell_type": "markdown",
   "id": "smart-print",
   "metadata": {},
   "source": [
    "Skaliranje numerickih atributa i uklanjanje irelevantnih vrednosti poput rednog broja i identifikatora korisnika"
   ]
  },
  {
   "cell_type": "code",
   "execution_count": 25,
   "id": "gorgeous-adrian",
   "metadata": {},
   "outputs": [
    {
     "data": {
      "text/html": [
       "<div>\n",
       "<style scoped>\n",
       "    .dataframe tbody tr th:only-of-type {\n",
       "        vertical-align: middle;\n",
       "    }\n",
       "\n",
       "    .dataframe tbody tr th {\n",
       "        vertical-align: top;\n",
       "    }\n",
       "\n",
       "    .dataframe thead th {\n",
       "        text-align: right;\n",
       "    }\n",
       "</style>\n",
       "<table border=\"1\" class=\"dataframe\">\n",
       "  <thead>\n",
       "    <tr style=\"text-align: right;\">\n",
       "      <th></th>\n",
       "      <th>CreditScore</th>\n",
       "      <th>Age</th>\n",
       "      <th>Tenure</th>\n",
       "      <th>Balance</th>\n",
       "      <th>NumOfProducts</th>\n",
       "      <th>HasCrCard</th>\n",
       "      <th>IsActiveMember</th>\n",
       "      <th>EstimatedSalary</th>\n",
       "    </tr>\n",
       "  </thead>\n",
       "  <tbody>\n",
       "    <tr>\n",
       "      <th>0</th>\n",
       "      <td>0.538</td>\n",
       "      <td>0.324324</td>\n",
       "      <td>0.2</td>\n",
       "      <td>0.000000</td>\n",
       "      <td>0.000000</td>\n",
       "      <td>1.0</td>\n",
       "      <td>1.0</td>\n",
       "      <td>0.506735</td>\n",
       "    </tr>\n",
       "    <tr>\n",
       "      <th>1</th>\n",
       "      <td>0.516</td>\n",
       "      <td>0.310811</td>\n",
       "      <td>0.1</td>\n",
       "      <td>0.334031</td>\n",
       "      <td>0.000000</td>\n",
       "      <td>0.0</td>\n",
       "      <td>1.0</td>\n",
       "      <td>0.562709</td>\n",
       "    </tr>\n",
       "    <tr>\n",
       "      <th>2</th>\n",
       "      <td>0.304</td>\n",
       "      <td>0.324324</td>\n",
       "      <td>0.8</td>\n",
       "      <td>0.636357</td>\n",
       "      <td>0.666667</td>\n",
       "      <td>1.0</td>\n",
       "      <td>0.0</td>\n",
       "      <td>0.569654</td>\n",
       "    </tr>\n",
       "    <tr>\n",
       "      <th>3</th>\n",
       "      <td>0.698</td>\n",
       "      <td>0.283784</td>\n",
       "      <td>0.1</td>\n",
       "      <td>0.000000</td>\n",
       "      <td>0.333333</td>\n",
       "      <td>0.0</td>\n",
       "      <td>0.0</td>\n",
       "      <td>0.469120</td>\n",
       "    </tr>\n",
       "    <tr>\n",
       "      <th>4</th>\n",
       "      <td>1.000</td>\n",
       "      <td>0.337838</td>\n",
       "      <td>0.2</td>\n",
       "      <td>0.500246</td>\n",
       "      <td>0.000000</td>\n",
       "      <td>1.0</td>\n",
       "      <td>1.0</td>\n",
       "      <td>0.395400</td>\n",
       "    </tr>\n",
       "  </tbody>\n",
       "</table>\n",
       "</div>"
      ],
      "text/plain": [
       "   CreditScore       Age  Tenure   Balance  NumOfProducts  HasCrCard  \\\n",
       "0        0.538  0.324324     0.2  0.000000       0.000000        1.0   \n",
       "1        0.516  0.310811     0.1  0.334031       0.000000        0.0   \n",
       "2        0.304  0.324324     0.8  0.636357       0.666667        1.0   \n",
       "3        0.698  0.283784     0.1  0.000000       0.333333        0.0   \n",
       "4        1.000  0.337838     0.2  0.500246       0.000000        1.0   \n",
       "\n",
       "   IsActiveMember  EstimatedSalary  \n",
       "0             1.0         0.506735  \n",
       "1             1.0         0.562709  \n",
       "2             0.0         0.569654  \n",
       "3             0.0         0.469120  \n",
       "4             1.0         0.395400  "
      ]
     },
     "execution_count": 25,
     "metadata": {},
     "output_type": "execute_result"
    }
   ],
   "source": [
    "scaler = MinMaxScaler()\n",
    "numerical.remove(\"RowNumber\")\n",
    "numerical.remove(\"CustomerId\")\n",
    "numerical.remove(\"Exited\")\n",
    "\n",
    "for record in numerical:\n",
    "    dataset[record] = scaler.fit_transform(dataset[[record]])\n",
    "    \n",
    "dataset[numerical].head()"
   ]
  },
  {
   "cell_type": "code",
   "execution_count": 26,
   "id": "brilliant-punishment",
   "metadata": {},
   "outputs": [],
   "source": [
    "X_train, X_test, Y_train, Y_test = train_test_split(dataset[numerical], dataset['Exited'], test_size=0.2)"
   ]
  },
  {
   "cell_type": "code",
   "execution_count": 27,
   "id": "equivalent-progressive",
   "metadata": {},
   "outputs": [
    {
     "data": {
      "text/plain": [
       "0       1\n",
       "1       0\n",
       "2       1\n",
       "3       0\n",
       "4       0\n",
       "       ..\n",
       "9995    0\n",
       "9996    0\n",
       "9997    1\n",
       "9998    1\n",
       "9999    0\n",
       "Name: Exited, Length: 10000, dtype: int64"
      ]
     },
     "execution_count": 27,
     "metadata": {},
     "output_type": "execute_result"
    }
   ],
   "source": [
    "dataset['Exited']"
   ]
  },
  {
   "cell_type": "code",
   "execution_count": 28,
   "id": "likely-fifth",
   "metadata": {},
   "outputs": [
    {
     "data": {
      "text/plain": [
       "(8000, 8)"
      ]
     },
     "execution_count": 28,
     "metadata": {},
     "output_type": "execute_result"
    }
   ],
   "source": [
    "X_train.shape"
   ]
  },
  {
   "cell_type": "code",
   "execution_count": 64,
   "id": "romantic-denver",
   "metadata": {},
   "outputs": [],
   "source": [
    "model = Sequential([\n",
    "    Dense(units=16, input_dim=8, activation='relu'),\n",
    "    Dense(units=1, activation='sigmoid')\n",
    "])"
   ]
  },
  {
   "cell_type": "code",
   "execution_count": 65,
   "id": "fixed-algeria",
   "metadata": {},
   "outputs": [],
   "source": [
    "model.compile(optimizer='adam', loss='binary_crossentropy', metrics=['accuracy'])"
   ]
  },
  {
   "cell_type": "code",
   "execution_count": 66,
   "id": "bored-ownership",
   "metadata": {},
   "outputs": [
    {
     "name": "stdout",
     "output_type": "stream",
     "text": [
      "Epoch 1/20\n",
      "640/640 - 3s - loss: 0.5267 - accuracy: 0.7667 - val_loss: 0.4747 - val_accuracy: 0.8019\n",
      "Epoch 2/20\n",
      "640/640 - 3s - loss: 0.4742 - accuracy: 0.7962 - val_loss: 0.4536 - val_accuracy: 0.8031\n",
      "Epoch 3/20\n",
      "640/640 - 3s - loss: 0.4614 - accuracy: 0.8016 - val_loss: 0.4412 - val_accuracy: 0.8163\n",
      "Epoch 4/20\n",
      "640/640 - 3s - loss: 0.4534 - accuracy: 0.8089 - val_loss: 0.4312 - val_accuracy: 0.8188\n",
      "Epoch 5/20\n",
      "640/640 - 3s - loss: 0.4465 - accuracy: 0.8098 - val_loss: 0.4241 - val_accuracy: 0.8231\n",
      "Epoch 6/20\n",
      "640/640 - 3s - loss: 0.4410 - accuracy: 0.8142 - val_loss: 0.4179 - val_accuracy: 0.8313\n",
      "Epoch 7/20\n",
      "640/640 - 3s - loss: 0.4352 - accuracy: 0.8169 - val_loss: 0.4102 - val_accuracy: 0.8325\n",
      "Epoch 8/20\n",
      "640/640 - 3s - loss: 0.4287 - accuracy: 0.8184 - val_loss: 0.4054 - val_accuracy: 0.8338\n",
      "Epoch 9/20\n",
      "640/640 - 2s - loss: 0.4210 - accuracy: 0.8219 - val_loss: 0.3963 - val_accuracy: 0.8375\n",
      "Epoch 10/20\n",
      "640/640 - 3s - loss: 0.4141 - accuracy: 0.8269 - val_loss: 0.3901 - val_accuracy: 0.8369\n",
      "Epoch 11/20\n",
      "640/640 - 3s - loss: 0.4075 - accuracy: 0.8314 - val_loss: 0.3834 - val_accuracy: 0.8413\n",
      "Epoch 12/20\n",
      "640/640 - 3s - loss: 0.4020 - accuracy: 0.8341 - val_loss: 0.3765 - val_accuracy: 0.8438\n",
      "Epoch 13/20\n",
      "640/640 - 3s - loss: 0.3970 - accuracy: 0.8377 - val_loss: 0.3756 - val_accuracy: 0.8419\n",
      "Epoch 14/20\n",
      "640/640 - 3s - loss: 0.3928 - accuracy: 0.8395 - val_loss: 0.3697 - val_accuracy: 0.8487\n",
      "Epoch 15/20\n",
      "640/640 - 3s - loss: 0.3889 - accuracy: 0.8422 - val_loss: 0.3649 - val_accuracy: 0.8506\n",
      "Epoch 16/20\n",
      "640/640 - 3s - loss: 0.3854 - accuracy: 0.8445 - val_loss: 0.3625 - val_accuracy: 0.8456\n",
      "Epoch 17/20\n",
      "640/640 - 3s - loss: 0.3822 - accuracy: 0.8469 - val_loss: 0.3581 - val_accuracy: 0.8550\n",
      "Epoch 18/20\n",
      "640/640 - 3s - loss: 0.3808 - accuracy: 0.8459 - val_loss: 0.3557 - val_accuracy: 0.8550\n",
      "Epoch 19/20\n",
      "640/640 - 3s - loss: 0.3791 - accuracy: 0.8491 - val_loss: 0.3544 - val_accuracy: 0.8556\n",
      "Epoch 20/20\n",
      "640/640 - 3s - loss: 0.3773 - accuracy: 0.8503 - val_loss: 0.3518 - val_accuracy: 0.8562\n"
     ]
    }
   ],
   "source": [
    "model_history = model.fit(x=X_train, y=Y_train, validation_split=0.2, batch_size=10, epochs=20, verbose=2)"
   ]
  },
  {
   "cell_type": "code",
   "execution_count": 67,
   "id": "presidential-mercy",
   "metadata": {},
   "outputs": [
    {
     "data": {
      "text/plain": [
       "array([[0.07063937],\n",
       "       [0.79445153],\n",
       "       [0.09825164],\n",
       "       ...,\n",
       "       [0.5316049 ],\n",
       "       [0.22845584],\n",
       "       [0.04410985]], dtype=float32)"
      ]
     },
     "execution_count": 67,
     "metadata": {},
     "output_type": "execute_result"
    }
   ],
   "source": [
    "predicted_values = model.predict(X_test)\n",
    "predicted_values"
   ]
  },
  {
   "cell_type": "code",
   "execution_count": 68,
   "id": "polar-basketball",
   "metadata": {},
   "outputs": [
    {
     "data": {
      "text/plain": [
       "array([[False],\n",
       "       [ True],\n",
       "       [False],\n",
       "       ...,\n",
       "       [ True],\n",
       "       [False],\n",
       "       [False]])"
      ]
     },
     "execution_count": 68,
     "metadata": {},
     "output_type": "execute_result"
    }
   ],
   "source": [
    "predicted_values = (predicted_values > 0.5)\n",
    "predicted_values"
   ]
  },
  {
   "cell_type": "code",
   "execution_count": 69,
   "id": "provincial-employer",
   "metadata": {},
   "outputs": [
    {
     "data": {
      "image/png": "[encoded data removed]",
      "text/plain": [
       "<Figure size 432x288 with 1 Axes>"
      ]
     },
     "metadata": {
      "needs_background": "light"
     },
     "output_type": "display_data"
    }
   ],
   "source": [
    "conf_mat = confusion_matrix(Y_test, predicted_values)\n",
    "conf_mat_df = pd.DataFrame(conf_mat, index=[0, 1], columns=[0, 1])\n",
    "cmap = sns.cubehelix_palette(light=1, as_cmap=True)\n",
    "h_map = sns.heatmap(conf_mat, annot=True, cbar=False, fmt='d', cmap=cmap)\n",
    "h_map.invert_yaxis()\n",
    "h_map.invert_xaxis()"
   ]
  },
  {
   "cell_type": "code",
   "execution_count": 70,
   "id": "conditional-constraint",
   "metadata": {},
   "outputs": [
    {
     "name": "stdout",
     "output_type": "stream",
     "text": [
      "              precision    recall  f1-score   support\n",
      "\n",
      "           0       0.85      0.99      0.92      1590\n",
      "           1       0.86      0.35      0.50       410\n",
      "\n",
      "    accuracy                           0.85      2000\n",
      "   macro avg       0.86      0.67      0.71      2000\n",
      "weighted avg       0.86      0.85      0.83      2000\n",
      "\n"
     ]
    }
   ],
   "source": [
    "class_report = classification_report(Y_test, predicted_values)\n",
    "print(class_report)"
   ]
  },
  {
   "cell_type": "code",
   "execution_count": 71,
   "id": "australian-lease",
   "metadata": {},
   "outputs": [
    {
     "data": {
      "text/plain": [
       "0.855"
      ]
     },
     "execution_count": 71,
     "metadata": {},
     "output_type": "execute_result"
    }
   ],
   "source": [
    "accuracy = accuracy_score(Y_test, predicted_values)\n",
    "accuracy"
   ]
  },
  {
   "cell_type": "code",
   "execution_count": 72,
   "id": "owned-inspection",
   "metadata": {},
   "outputs": [
    {
     "data": {
      "text/plain": [
       "<matplotlib.legend.Legend at 0x124ca863dc8>"
      ]
     },
     "execution_count": 72,
     "metadata": {},
     "output_type": "execute_result"
    },
    {
     "data": {
      "image/png": "[encoded data removed]",
      "text/plain": [
       "<Figure size 432x288 with 1 Axes>"
      ]
     },
     "metadata": {
      "needs_background": "light"
     },
     "output_type": "display_data"
    }
   ],
   "source": [
    "plt.subplot(211)\n",
    "plt.title('Accuracy')\n",
    "plt.plot(model_history.history['accuracy'], label='train')\n",
    "plt.plot(model_history.history['val_accuracy'], label='test')\n",
    "plt.legend()"
   ]
  },
  {
   "cell_type": "code",
   "execution_count": 73,
   "id": "coupled-burst",
   "metadata": {},
   "outputs": [
    {
     "data": {
      "text/plain": [
       "<matplotlib.legend.Legend at 0x124c5238308>"
      ]
     },
     "execution_count": 73,
     "metadata": {},
     "output_type": "execute_result"
    },
    {
     "data": {
      "image/png": "[encoded data removed]",
      "text/plain": [
       "<Figure size 432x288 with 1 Axes>"
      ]
     },
     "metadata": {
      "needs_background": "light"
     },
     "output_type": "display_data"
    }
   ],
   "source": [
    "plt.subplot(211)\n",
    "plt.title('Loss')\n",
    "plt.plot(model_history.history['loss'], label='train')\n",
    "plt.plot(model_history.history['val_loss'], label='test')\n",
    "plt.legend()"
   ]
  },
  {
   "cell_type": "markdown",
   "id": "communist-thousand",
   "metadata": {},
   "source": [
    "Dodavanje jos jednog sloja u neuronskoj mrezi"
   ]
  },
  {
   "cell_type": "code",
   "execution_count": 74,
   "id": "transsexual-hampton",
   "metadata": {},
   "outputs": [
    {
     "name": "stdout",
     "output_type": "stream",
     "text": [
      "Epoch 1/20\n",
      "640/640 - 4s - loss: 0.5045 - accuracy: 0.7867 - val_loss: 0.4617 - val_accuracy: 0.8019\n",
      "Epoch 2/20\n",
      "640/640 - 3s - loss: 0.4663 - accuracy: 0.7953 - val_loss: 0.4405 - val_accuracy: 0.8025\n",
      "Epoch 3/20\n",
      "640/640 - 3s - loss: 0.4482 - accuracy: 0.8048 - val_loss: 0.4241 - val_accuracy: 0.8119\n",
      "Epoch 4/20\n",
      "640/640 - 3s - loss: 0.4370 - accuracy: 0.8102 - val_loss: 0.4145 - val_accuracy: 0.8206\n",
      "Epoch 5/20\n",
      "640/640 - 3s - loss: 0.4282 - accuracy: 0.8141 - val_loss: 0.4080 - val_accuracy: 0.8275\n",
      "Epoch 6/20\n",
      "640/640 - 3s - loss: 0.4207 - accuracy: 0.8152 - val_loss: 0.3999 - val_accuracy: 0.8275\n",
      "Epoch 7/20\n",
      "640/640 - 3s - loss: 0.4134 - accuracy: 0.8194 - val_loss: 0.3973 - val_accuracy: 0.8275\n",
      "Epoch 8/20\n",
      "640/640 - 3s - loss: 0.4063 - accuracy: 0.8258 - val_loss: 0.3917 - val_accuracy: 0.8325\n",
      "Epoch 9/20\n",
      "640/640 - 3s - loss: 0.4021 - accuracy: 0.8302 - val_loss: 0.3789 - val_accuracy: 0.8469\n",
      "Epoch 10/20\n",
      "640/640 - 3s - loss: 0.3967 - accuracy: 0.8366 - val_loss: 0.3762 - val_accuracy: 0.8469\n",
      "Epoch 11/20\n",
      "640/640 - 3s - loss: 0.3924 - accuracy: 0.8389 - val_loss: 0.3742 - val_accuracy: 0.8475\n",
      "Epoch 12/20\n",
      "640/640 - 3s - loss: 0.3886 - accuracy: 0.8380 - val_loss: 0.3673 - val_accuracy: 0.8425\n",
      "Epoch 13/20\n",
      "640/640 - 3s - loss: 0.3858 - accuracy: 0.8416 - val_loss: 0.3649 - val_accuracy: 0.8388\n",
      "Epoch 14/20\n",
      "640/640 - 3s - loss: 0.3821 - accuracy: 0.8427 - val_loss: 0.3624 - val_accuracy: 0.8500\n",
      "Epoch 15/20\n",
      "640/640 - 3s - loss: 0.3802 - accuracy: 0.8420 - val_loss: 0.3682 - val_accuracy: 0.8394\n",
      "Epoch 16/20\n",
      "640/640 - 3s - loss: 0.3785 - accuracy: 0.8409 - val_loss: 0.3595 - val_accuracy: 0.8587\n",
      "Epoch 17/20\n",
      "640/640 - 3s - loss: 0.3759 - accuracy: 0.8472 - val_loss: 0.3561 - val_accuracy: 0.8487\n",
      "Epoch 18/20\n",
      "640/640 - 3s - loss: 0.3756 - accuracy: 0.8467 - val_loss: 0.3541 - val_accuracy: 0.8425\n",
      "Epoch 19/20\n",
      "640/640 - 3s - loss: 0.3749 - accuracy: 0.8467 - val_loss: 0.3493 - val_accuracy: 0.8544\n",
      "Epoch 20/20\n",
      "640/640 - 3s - loss: 0.3736 - accuracy: 0.8484 - val_loss: 0.3485 - val_accuracy: 0.8556\n"
     ]
    }
   ],
   "source": [
    "model = Sequential([\n",
    "    Dense(units=16, input_shape=(8, ), activation='relu'),\n",
    "    Dense(units=8, activation='relu'),\n",
    "    Dense(units=1, activation='sigmoid')\n",
    "])\n",
    "model.compile(optimizer='adam', loss='binary_crossentropy', metrics=['accuracy'])\n",
    "model_history = model.fit(x=X_train, y=Y_train, validation_split=0.2, batch_size=10, epochs=20, verbose=2)"
   ]
  },
  {
   "cell_type": "code",
   "execution_count": 75,
   "id": "magnetic-tension",
   "metadata": {},
   "outputs": [
    {
     "data": {
      "text/plain": [
       "array([[0.06568515],\n",
       "       [0.8398887 ],\n",
       "       [0.06323463],\n",
       "       ...,\n",
       "       [0.5623776 ],\n",
       "       [0.28468686],\n",
       "       [0.02717525]], dtype=float32)"
      ]
     },
     "execution_count": 75,
     "metadata": {},
     "output_type": "execute_result"
    }
   ],
   "source": [
    "predicted_values = model.predict(X_test)\n",
    "predicted_values"
   ]
  },
  {
   "cell_type": "code",
   "execution_count": 76,
   "id": "covered-grade",
   "metadata": {},
   "outputs": [
    {
     "data": {
      "text/plain": [
       "0.8505"
      ]
     },
     "execution_count": 76,
     "metadata": {},
     "output_type": "execute_result"
    }
   ],
   "source": [
    "predicted_values = (predicted_values > 0.5)\n",
    "accuracy = accuracy_score(Y_test, predicted_values)\n",
    "accuracy"
   ]
  },
  {
   "cell_type": "markdown",
   "id": "composed-cancellation",
   "metadata": {},
   "source": [
    "Ubacujemo kategoricke kolone"
   ]
  },
  {
   "cell_type": "code",
   "execution_count": 77,
   "id": "considered-lambda",
   "metadata": {},
   "outputs": [
    {
     "data": {
      "text/html": [
       "<div>\n",
       "<style scoped>\n",
       "    .dataframe tbody tr th:only-of-type {\n",
       "        vertical-align: middle;\n",
       "    }\n",
       "\n",
       "    .dataframe tbody tr th {\n",
       "        vertical-align: top;\n",
       "    }\n",
       "\n",
       "    .dataframe thead th {\n",
       "        text-align: right;\n",
       "    }\n",
       "</style>\n",
       "<table border=\"1\" class=\"dataframe\">\n",
       "  <thead>\n",
       "    <tr style=\"text-align: right;\">\n",
       "      <th></th>\n",
       "      <th>RowNumber</th>\n",
       "      <th>CustomerId</th>\n",
       "      <th>Surname</th>\n",
       "      <th>CreditScore</th>\n",
       "      <th>Geography</th>\n",
       "      <th>Gender</th>\n",
       "      <th>Age</th>\n",
       "      <th>Tenure</th>\n",
       "      <th>Balance</th>\n",
       "      <th>NumOfProducts</th>\n",
       "      <th>HasCrCard</th>\n",
       "      <th>IsActiveMember</th>\n",
       "      <th>EstimatedSalary</th>\n",
       "      <th>Exited</th>\n",
       "    </tr>\n",
       "  </thead>\n",
       "  <tbody>\n",
       "    <tr>\n",
       "      <th>0</th>\n",
       "      <td>1</td>\n",
       "      <td>15634602</td>\n",
       "      <td>Hargrave</td>\n",
       "      <td>0.538</td>\n",
       "      <td>France</td>\n",
       "      <td>Female</td>\n",
       "      <td>0.324324</td>\n",
       "      <td>0.2</td>\n",
       "      <td>0.000000</td>\n",
       "      <td>0.000000</td>\n",
       "      <td>1.0</td>\n",
       "      <td>1.0</td>\n",
       "      <td>0.506735</td>\n",
       "      <td>1</td>\n",
       "    </tr>\n",
       "    <tr>\n",
       "      <th>1</th>\n",
       "      <td>2</td>\n",
       "      <td>15647311</td>\n",
       "      <td>Hill</td>\n",
       "      <td>0.516</td>\n",
       "      <td>Spain</td>\n",
       "      <td>Female</td>\n",
       "      <td>0.310811</td>\n",
       "      <td>0.1</td>\n",
       "      <td>0.334031</td>\n",
       "      <td>0.000000</td>\n",
       "      <td>0.0</td>\n",
       "      <td>1.0</td>\n",
       "      <td>0.562709</td>\n",
       "      <td>0</td>\n",
       "    </tr>\n",
       "    <tr>\n",
       "      <th>2</th>\n",
       "      <td>3</td>\n",
       "      <td>15619304</td>\n",
       "      <td>Onio</td>\n",
       "      <td>0.304</td>\n",
       "      <td>France</td>\n",
       "      <td>Female</td>\n",
       "      <td>0.324324</td>\n",
       "      <td>0.8</td>\n",
       "      <td>0.636357</td>\n",
       "      <td>0.666667</td>\n",
       "      <td>1.0</td>\n",
       "      <td>0.0</td>\n",
       "      <td>0.569654</td>\n",
       "      <td>1</td>\n",
       "    </tr>\n",
       "    <tr>\n",
       "      <th>3</th>\n",
       "      <td>4</td>\n",
       "      <td>15701354</td>\n",
       "      <td>Boni</td>\n",
       "      <td>0.698</td>\n",
       "      <td>France</td>\n",
       "      <td>Female</td>\n",
       "      <td>0.283784</td>\n",
       "      <td>0.1</td>\n",
       "      <td>0.000000</td>\n",
       "      <td>0.333333</td>\n",
       "      <td>0.0</td>\n",
       "      <td>0.0</td>\n",
       "      <td>0.469120</td>\n",
       "      <td>0</td>\n",
       "    </tr>\n",
       "    <tr>\n",
       "      <th>4</th>\n",
       "      <td>5</td>\n",
       "      <td>15737888</td>\n",
       "      <td>Mitchell</td>\n",
       "      <td>1.000</td>\n",
       "      <td>Spain</td>\n",
       "      <td>Female</td>\n",
       "      <td>0.337838</td>\n",
       "      <td>0.2</td>\n",
       "      <td>0.500246</td>\n",
       "      <td>0.000000</td>\n",
       "      <td>1.0</td>\n",
       "      <td>1.0</td>\n",
       "      <td>0.395400</td>\n",
       "      <td>0</td>\n",
       "    </tr>\n",
       "    <tr>\n",
       "      <th>...</th>\n",
       "      <td>...</td>\n",
       "      <td>...</td>\n",
       "      <td>...</td>\n",
       "      <td>...</td>\n",
       "      <td>...</td>\n",
       "      <td>...</td>\n",
       "      <td>...</td>\n",
       "      <td>...</td>\n",
       "      <td>...</td>\n",
       "      <td>...</td>\n",
       "      <td>...</td>\n",
       "      <td>...</td>\n",
       "      <td>...</td>\n",
       "      <td>...</td>\n",
       "    </tr>\n",
       "    <tr>\n",
       "      <th>9995</th>\n",
       "      <td>9996</td>\n",
       "      <td>15606229</td>\n",
       "      <td>Obijiaku</td>\n",
       "      <td>0.842</td>\n",
       "      <td>France</td>\n",
       "      <td>Male</td>\n",
       "      <td>0.283784</td>\n",
       "      <td>0.5</td>\n",
       "      <td>0.000000</td>\n",
       "      <td>0.333333</td>\n",
       "      <td>1.0</td>\n",
       "      <td>0.0</td>\n",
       "      <td>0.481341</td>\n",
       "      <td>0</td>\n",
       "    </tr>\n",
       "    <tr>\n",
       "      <th>9996</th>\n",
       "      <td>9997</td>\n",
       "      <td>15569892</td>\n",
       "      <td>Johnstone</td>\n",
       "      <td>0.332</td>\n",
       "      <td>France</td>\n",
       "      <td>Male</td>\n",
       "      <td>0.229730</td>\n",
       "      <td>1.0</td>\n",
       "      <td>0.228657</td>\n",
       "      <td>0.000000</td>\n",
       "      <td>1.0</td>\n",
       "      <td>1.0</td>\n",
       "      <td>0.508490</td>\n",
       "      <td>0</td>\n",
       "    </tr>\n",
       "    <tr>\n",
       "      <th>9997</th>\n",
       "      <td>9998</td>\n",
       "      <td>15584532</td>\n",
       "      <td>Liu</td>\n",
       "      <td>0.718</td>\n",
       "      <td>France</td>\n",
       "      <td>Female</td>\n",
       "      <td>0.243243</td>\n",
       "      <td>0.7</td>\n",
       "      <td>0.000000</td>\n",
       "      <td>0.000000</td>\n",
       "      <td>0.0</td>\n",
       "      <td>1.0</td>\n",
       "      <td>0.210390</td>\n",
       "      <td>1</td>\n",
       "    </tr>\n",
       "    <tr>\n",
       "      <th>9998</th>\n",
       "      <td>9999</td>\n",
       "      <td>15682355</td>\n",
       "      <td>Sabbatini</td>\n",
       "      <td>0.844</td>\n",
       "      <td>Germany</td>\n",
       "      <td>Male</td>\n",
       "      <td>0.324324</td>\n",
       "      <td>0.3</td>\n",
       "      <td>0.299226</td>\n",
       "      <td>0.333333</td>\n",
       "      <td>1.0</td>\n",
       "      <td>0.0</td>\n",
       "      <td>0.464429</td>\n",
       "      <td>1</td>\n",
       "    </tr>\n",
       "    <tr>\n",
       "      <th>9999</th>\n",
       "      <td>10000</td>\n",
       "      <td>15628319</td>\n",
       "      <td>Walker</td>\n",
       "      <td>0.884</td>\n",
       "      <td>France</td>\n",
       "      <td>Female</td>\n",
       "      <td>0.135135</td>\n",
       "      <td>0.4</td>\n",
       "      <td>0.518708</td>\n",
       "      <td>0.000000</td>\n",
       "      <td>1.0</td>\n",
       "      <td>0.0</td>\n",
       "      <td>0.190914</td>\n",
       "      <td>0</td>\n",
       "    </tr>\n",
       "  </tbody>\n",
       "</table>\n",
       "<p>10000 rows × 14 columns</p>\n",
       "</div>"
      ],
      "text/plain": [
       "      RowNumber  CustomerId    Surname  CreditScore Geography  Gender  \\\n",
       "0             1    15634602   Hargrave        0.538    France  Female   \n",
       "1             2    15647311       Hill        0.516     Spain  Female   \n",
       "2             3    15619304       Onio        0.304    France  Female   \n",
       "3             4    15701354       Boni        0.698    France  Female   \n",
       "4             5    15737888   Mitchell        1.000     Spain  Female   \n",
       "...         ...         ...        ...          ...       ...     ...   \n",
       "9995       9996    15606229   Obijiaku        0.842    France    Male   \n",
       "9996       9997    15569892  Johnstone        0.332    France    Male   \n",
       "9997       9998    15584532        Liu        0.718    France  Female   \n",
       "9998       9999    15682355  Sabbatini        0.844   Germany    Male   \n",
       "9999      10000    15628319     Walker        0.884    France  Female   \n",
       "\n",
       "           Age  Tenure   Balance  NumOfProducts  HasCrCard  IsActiveMember  \\\n",
       "0     0.324324     0.2  0.000000       0.000000        1.0             1.0   \n",
       "1     0.310811     0.1  0.334031       0.000000        0.0             1.0   \n",
       "2     0.324324     0.8  0.636357       0.666667        1.0             0.0   \n",
       "3     0.283784     0.1  0.000000       0.333333        0.0             0.0   \n",
       "4     0.337838     0.2  0.500246       0.000000        1.0             1.0   \n",
       "...        ...     ...       ...            ...        ...             ...   \n",
       "9995  0.283784     0.5  0.000000       0.333333        1.0             0.0   \n",
       "9996  0.229730     1.0  0.228657       0.000000        1.0             1.0   \n",
       "9997  0.243243     0.7  0.000000       0.000000        0.0             1.0   \n",
       "9998  0.324324     0.3  0.299226       0.333333        1.0             0.0   \n",
       "9999  0.135135     0.4  0.518708       0.000000        1.0             0.0   \n",
       "\n",
       "      EstimatedSalary  Exited  \n",
       "0            0.506735       1  \n",
       "1            0.562709       0  \n",
       "2            0.569654       1  \n",
       "3            0.469120       0  \n",
       "4            0.395400       0  \n",
       "...               ...     ...  \n",
       "9995         0.481341       0  \n",
       "9996         0.508490       0  \n",
       "9997         0.210390       1  \n",
       "9998         0.464429       1  \n",
       "9999         0.190914       0  \n",
       "\n",
       "[10000 rows x 14 columns]"
      ]
     },
     "execution_count": 77,
     "metadata": {},
     "output_type": "execute_result"
    }
   ],
   "source": [
    "dataset"
   ]
  },
  {
   "cell_type": "code",
   "execution_count": 78,
   "id": "sudden-phoenix",
   "metadata": {},
   "outputs": [
    {
     "data": {
      "text/html": [
       "<div>\n",
       "<style scoped>\n",
       "    .dataframe tbody tr th:only-of-type {\n",
       "        vertical-align: middle;\n",
       "    }\n",
       "\n",
       "    .dataframe tbody tr th {\n",
       "        vertical-align: top;\n",
       "    }\n",
       "\n",
       "    .dataframe thead th {\n",
       "        text-align: right;\n",
       "    }\n",
       "</style>\n",
       "<table border=\"1\" class=\"dataframe\">\n",
       "  <thead>\n",
       "    <tr style=\"text-align: right;\">\n",
       "      <th></th>\n",
       "      <th>RowNumber</th>\n",
       "      <th>CustomerId</th>\n",
       "      <th>Surname</th>\n",
       "      <th>CreditScore</th>\n",
       "      <th>Geography</th>\n",
       "      <th>Gender</th>\n",
       "      <th>Age</th>\n",
       "      <th>Tenure</th>\n",
       "      <th>Balance</th>\n",
       "      <th>NumOfProducts</th>\n",
       "      <th>HasCrCard</th>\n",
       "      <th>IsActiveMember</th>\n",
       "      <th>EstimatedSalary</th>\n",
       "      <th>Exited</th>\n",
       "    </tr>\n",
       "  </thead>\n",
       "  <tbody>\n",
       "    <tr>\n",
       "      <th>0</th>\n",
       "      <td>1</td>\n",
       "      <td>15634602</td>\n",
       "      <td>Hargrave</td>\n",
       "      <td>0.538</td>\n",
       "      <td>0.0</td>\n",
       "      <td>1</td>\n",
       "      <td>0.324324</td>\n",
       "      <td>0.2</td>\n",
       "      <td>0.000000</td>\n",
       "      <td>0.000000</td>\n",
       "      <td>1.0</td>\n",
       "      <td>1.0</td>\n",
       "      <td>0.506735</td>\n",
       "      <td>1</td>\n",
       "    </tr>\n",
       "    <tr>\n",
       "      <th>1</th>\n",
       "      <td>2</td>\n",
       "      <td>15647311</td>\n",
       "      <td>Hill</td>\n",
       "      <td>0.516</td>\n",
       "      <td>1.0</td>\n",
       "      <td>1</td>\n",
       "      <td>0.310811</td>\n",
       "      <td>0.1</td>\n",
       "      <td>0.334031</td>\n",
       "      <td>0.000000</td>\n",
       "      <td>0.0</td>\n",
       "      <td>1.0</td>\n",
       "      <td>0.562709</td>\n",
       "      <td>0</td>\n",
       "    </tr>\n",
       "    <tr>\n",
       "      <th>2</th>\n",
       "      <td>3</td>\n",
       "      <td>15619304</td>\n",
       "      <td>Onio</td>\n",
       "      <td>0.304</td>\n",
       "      <td>0.0</td>\n",
       "      <td>1</td>\n",
       "      <td>0.324324</td>\n",
       "      <td>0.8</td>\n",
       "      <td>0.636357</td>\n",
       "      <td>0.666667</td>\n",
       "      <td>1.0</td>\n",
       "      <td>0.0</td>\n",
       "      <td>0.569654</td>\n",
       "      <td>1</td>\n",
       "    </tr>\n",
       "    <tr>\n",
       "      <th>3</th>\n",
       "      <td>4</td>\n",
       "      <td>15701354</td>\n",
       "      <td>Boni</td>\n",
       "      <td>0.698</td>\n",
       "      <td>0.0</td>\n",
       "      <td>1</td>\n",
       "      <td>0.283784</td>\n",
       "      <td>0.1</td>\n",
       "      <td>0.000000</td>\n",
       "      <td>0.333333</td>\n",
       "      <td>0.0</td>\n",
       "      <td>0.0</td>\n",
       "      <td>0.469120</td>\n",
       "      <td>0</td>\n",
       "    </tr>\n",
       "    <tr>\n",
       "      <th>4</th>\n",
       "      <td>5</td>\n",
       "      <td>15737888</td>\n",
       "      <td>Mitchell</td>\n",
       "      <td>1.000</td>\n",
       "      <td>1.0</td>\n",
       "      <td>1</td>\n",
       "      <td>0.337838</td>\n",
       "      <td>0.2</td>\n",
       "      <td>0.500246</td>\n",
       "      <td>0.000000</td>\n",
       "      <td>1.0</td>\n",
       "      <td>1.0</td>\n",
       "      <td>0.395400</td>\n",
       "      <td>0</td>\n",
       "    </tr>\n",
       "    <tr>\n",
       "      <th>...</th>\n",
       "      <td>...</td>\n",
       "      <td>...</td>\n",
       "      <td>...</td>\n",
       "      <td>...</td>\n",
       "      <td>...</td>\n",
       "      <td>...</td>\n",
       "      <td>...</td>\n",
       "      <td>...</td>\n",
       "      <td>...</td>\n",
       "      <td>...</td>\n",
       "      <td>...</td>\n",
       "      <td>...</td>\n",
       "      <td>...</td>\n",
       "      <td>...</td>\n",
       "    </tr>\n",
       "    <tr>\n",
       "      <th>9995</th>\n",
       "      <td>9996</td>\n",
       "      <td>15606229</td>\n",
       "      <td>Obijiaku</td>\n",
       "      <td>0.842</td>\n",
       "      <td>0.0</td>\n",
       "      <td>0</td>\n",
       "      <td>0.283784</td>\n",
       "      <td>0.5</td>\n",
       "      <td>0.000000</td>\n",
       "      <td>0.333333</td>\n",
       "      <td>1.0</td>\n",
       "      <td>0.0</td>\n",
       "      <td>0.481341</td>\n",
       "      <td>0</td>\n",
       "    </tr>\n",
       "    <tr>\n",
       "      <th>9996</th>\n",
       "      <td>9997</td>\n",
       "      <td>15569892</td>\n",
       "      <td>Johnstone</td>\n",
       "      <td>0.332</td>\n",
       "      <td>0.0</td>\n",
       "      <td>0</td>\n",
       "      <td>0.229730</td>\n",
       "      <td>1.0</td>\n",
       "      <td>0.228657</td>\n",
       "      <td>0.000000</td>\n",
       "      <td>1.0</td>\n",
       "      <td>1.0</td>\n",
       "      <td>0.508490</td>\n",
       "      <td>0</td>\n",
       "    </tr>\n",
       "    <tr>\n",
       "      <th>9997</th>\n",
       "      <td>9998</td>\n",
       "      <td>15584532</td>\n",
       "      <td>Liu</td>\n",
       "      <td>0.718</td>\n",
       "      <td>0.0</td>\n",
       "      <td>1</td>\n",
       "      <td>0.243243</td>\n",
       "      <td>0.7</td>\n",
       "      <td>0.000000</td>\n",
       "      <td>0.000000</td>\n",
       "      <td>0.0</td>\n",
       "      <td>1.0</td>\n",
       "      <td>0.210390</td>\n",
       "      <td>1</td>\n",
       "    </tr>\n",
       "    <tr>\n",
       "      <th>9998</th>\n",
       "      <td>9999</td>\n",
       "      <td>15682355</td>\n",
       "      <td>Sabbatini</td>\n",
       "      <td>0.844</td>\n",
       "      <td>0.5</td>\n",
       "      <td>0</td>\n",
       "      <td>0.324324</td>\n",
       "      <td>0.3</td>\n",
       "      <td>0.299226</td>\n",
       "      <td>0.333333</td>\n",
       "      <td>1.0</td>\n",
       "      <td>0.0</td>\n",
       "      <td>0.464429</td>\n",
       "      <td>1</td>\n",
       "    </tr>\n",
       "    <tr>\n",
       "      <th>9999</th>\n",
       "      <td>10000</td>\n",
       "      <td>15628319</td>\n",
       "      <td>Walker</td>\n",
       "      <td>0.884</td>\n",
       "      <td>0.0</td>\n",
       "      <td>1</td>\n",
       "      <td>0.135135</td>\n",
       "      <td>0.4</td>\n",
       "      <td>0.518708</td>\n",
       "      <td>0.000000</td>\n",
       "      <td>1.0</td>\n",
       "      <td>0.0</td>\n",
       "      <td>0.190914</td>\n",
       "      <td>0</td>\n",
       "    </tr>\n",
       "  </tbody>\n",
       "</table>\n",
       "<p>10000 rows × 14 columns</p>\n",
       "</div>"
      ],
      "text/plain": [
       "      RowNumber  CustomerId    Surname  CreditScore  Geography  Gender  \\\n",
       "0             1    15634602   Hargrave        0.538        0.0       1   \n",
       "1             2    15647311       Hill        0.516        1.0       1   \n",
       "2             3    15619304       Onio        0.304        0.0       1   \n",
       "3             4    15701354       Boni        0.698        0.0       1   \n",
       "4             5    15737888   Mitchell        1.000        1.0       1   \n",
       "...         ...         ...        ...          ...        ...     ...   \n",
       "9995       9996    15606229   Obijiaku        0.842        0.0       0   \n",
       "9996       9997    15569892  Johnstone        0.332        0.0       0   \n",
       "9997       9998    15584532        Liu        0.718        0.0       1   \n",
       "9998       9999    15682355  Sabbatini        0.844        0.5       0   \n",
       "9999      10000    15628319     Walker        0.884        0.0       1   \n",
       "\n",
       "           Age  Tenure   Balance  NumOfProducts  HasCrCard  IsActiveMember  \\\n",
       "0     0.324324     0.2  0.000000       0.000000        1.0             1.0   \n",
       "1     0.310811     0.1  0.334031       0.000000        0.0             1.0   \n",
       "2     0.324324     0.8  0.636357       0.666667        1.0             0.0   \n",
       "3     0.283784     0.1  0.000000       0.333333        0.0             0.0   \n",
       "4     0.337838     0.2  0.500246       0.000000        1.0             1.0   \n",
       "...        ...     ...       ...            ...        ...             ...   \n",
       "9995  0.283784     0.5  0.000000       0.333333        1.0             0.0   \n",
       "9996  0.229730     1.0  0.228657       0.000000        1.0             1.0   \n",
       "9997  0.243243     0.7  0.000000       0.000000        0.0             1.0   \n",
       "9998  0.324324     0.3  0.299226       0.333333        1.0             0.0   \n",
       "9999  0.135135     0.4  0.518708       0.000000        1.0             0.0   \n",
       "\n",
       "      EstimatedSalary  Exited  \n",
       "0            0.506735       1  \n",
       "1            0.562709       0  \n",
       "2            0.569654       1  \n",
       "3            0.469120       0  \n",
       "4            0.395400       0  \n",
       "...               ...     ...  \n",
       "9995         0.481341       0  \n",
       "9996         0.508490       0  \n",
       "9997         0.210390       1  \n",
       "9998         0.464429       1  \n",
       "9999         0.190914       0  \n",
       "\n",
       "[10000 rows x 14 columns]"
      ]
     },
     "execution_count": 78,
     "metadata": {},
     "output_type": "execute_result"
    }
   ],
   "source": [
    "dataset['Gender'] = dataset['Gender'].replace(['Male'],int('0'))\n",
    "dataset['Gender'] = dataset['Gender'].replace(['Female'],int('1'))\n",
    "\n",
    "dataset['Geography'] = dataset['Geography'].replace(['France'],int('0'))\n",
    "dataset['Geography'] = dataset['Geography'].replace(['Germany'],int('1'))\n",
    "dataset['Geography'] = dataset['Geography'].replace(['Spain'],int('2'))\n",
    "\n",
    "dataset['Geography'] = scaler.fit_transform(dataset[['Geography']])\n",
    "\n",
    "dataset"
   ]
  },
  {
   "cell_type": "code",
   "execution_count": 79,
   "id": "sunset-tribune",
   "metadata": {},
   "outputs": [
    {
     "data": {
      "text/html": [
       "<div>\n",
       "<style scoped>\n",
       "    .dataframe tbody tr th:only-of-type {\n",
       "        vertical-align: middle;\n",
       "    }\n",
       "\n",
       "    .dataframe tbody tr th {\n",
       "        vertical-align: top;\n",
       "    }\n",
       "\n",
       "    .dataframe thead th {\n",
       "        text-align: right;\n",
       "    }\n",
       "</style>\n",
       "<table border=\"1\" class=\"dataframe\">\n",
       "  <thead>\n",
       "    <tr style=\"text-align: right;\">\n",
       "      <th></th>\n",
       "      <th>CreditScore</th>\n",
       "      <th>Geography</th>\n",
       "      <th>Gender</th>\n",
       "      <th>Age</th>\n",
       "      <th>Tenure</th>\n",
       "      <th>Balance</th>\n",
       "      <th>NumOfProducts</th>\n",
       "      <th>HasCrCard</th>\n",
       "      <th>IsActiveMember</th>\n",
       "      <th>EstimatedSalary</th>\n",
       "    </tr>\n",
       "  </thead>\n",
       "  <tbody>\n",
       "    <tr>\n",
       "      <th>0</th>\n",
       "      <td>0.538</td>\n",
       "      <td>0.0</td>\n",
       "      <td>1</td>\n",
       "      <td>0.324324</td>\n",
       "      <td>0.2</td>\n",
       "      <td>0.000000</td>\n",
       "      <td>0.000000</td>\n",
       "      <td>1.0</td>\n",
       "      <td>1.0</td>\n",
       "      <td>0.506735</td>\n",
       "    </tr>\n",
       "    <tr>\n",
       "      <th>1</th>\n",
       "      <td>0.516</td>\n",
       "      <td>1.0</td>\n",
       "      <td>1</td>\n",
       "      <td>0.310811</td>\n",
       "      <td>0.1</td>\n",
       "      <td>0.334031</td>\n",
       "      <td>0.000000</td>\n",
       "      <td>0.0</td>\n",
       "      <td>1.0</td>\n",
       "      <td>0.562709</td>\n",
       "    </tr>\n",
       "    <tr>\n",
       "      <th>2</th>\n",
       "      <td>0.304</td>\n",
       "      <td>0.0</td>\n",
       "      <td>1</td>\n",
       "      <td>0.324324</td>\n",
       "      <td>0.8</td>\n",
       "      <td>0.636357</td>\n",
       "      <td>0.666667</td>\n",
       "      <td>1.0</td>\n",
       "      <td>0.0</td>\n",
       "      <td>0.569654</td>\n",
       "    </tr>\n",
       "    <tr>\n",
       "      <th>3</th>\n",
       "      <td>0.698</td>\n",
       "      <td>0.0</td>\n",
       "      <td>1</td>\n",
       "      <td>0.283784</td>\n",
       "      <td>0.1</td>\n",
       "      <td>0.000000</td>\n",
       "      <td>0.333333</td>\n",
       "      <td>0.0</td>\n",
       "      <td>0.0</td>\n",
       "      <td>0.469120</td>\n",
       "    </tr>\n",
       "    <tr>\n",
       "      <th>4</th>\n",
       "      <td>1.000</td>\n",
       "      <td>1.0</td>\n",
       "      <td>1</td>\n",
       "      <td>0.337838</td>\n",
       "      <td>0.2</td>\n",
       "      <td>0.500246</td>\n",
       "      <td>0.000000</td>\n",
       "      <td>1.0</td>\n",
       "      <td>1.0</td>\n",
       "      <td>0.395400</td>\n",
       "    </tr>\n",
       "    <tr>\n",
       "      <th>...</th>\n",
       "      <td>...</td>\n",
       "      <td>...</td>\n",
       "      <td>...</td>\n",
       "      <td>...</td>\n",
       "      <td>...</td>\n",
       "      <td>...</td>\n",
       "      <td>...</td>\n",
       "      <td>...</td>\n",
       "      <td>...</td>\n",
       "      <td>...</td>\n",
       "    </tr>\n",
       "    <tr>\n",
       "      <th>9995</th>\n",
       "      <td>0.842</td>\n",
       "      <td>0.0</td>\n",
       "      <td>0</td>\n",
       "      <td>0.283784</td>\n",
       "      <td>0.5</td>\n",
       "      <td>0.000000</td>\n",
       "      <td>0.333333</td>\n",
       "      <td>1.0</td>\n",
       "      <td>0.0</td>\n",
       "      <td>0.481341</td>\n",
       "    </tr>\n",
       "    <tr>\n",
       "      <th>9996</th>\n",
       "      <td>0.332</td>\n",
       "      <td>0.0</td>\n",
       "      <td>0</td>\n",
       "      <td>0.229730</td>\n",
       "      <td>1.0</td>\n",
       "      <td>0.228657</td>\n",
       "      <td>0.000000</td>\n",
       "      <td>1.0</td>\n",
       "      <td>1.0</td>\n",
       "      <td>0.508490</td>\n",
       "    </tr>\n",
       "    <tr>\n",
       "      <th>9997</th>\n",
       "      <td>0.718</td>\n",
       "      <td>0.0</td>\n",
       "      <td>1</td>\n",
       "      <td>0.243243</td>\n",
       "      <td>0.7</td>\n",
       "      <td>0.000000</td>\n",
       "      <td>0.000000</td>\n",
       "      <td>0.0</td>\n",
       "      <td>1.0</td>\n",
       "      <td>0.210390</td>\n",
       "    </tr>\n",
       "    <tr>\n",
       "      <th>9998</th>\n",
       "      <td>0.844</td>\n",
       "      <td>0.5</td>\n",
       "      <td>0</td>\n",
       "      <td>0.324324</td>\n",
       "      <td>0.3</td>\n",
       "      <td>0.299226</td>\n",
       "      <td>0.333333</td>\n",
       "      <td>1.0</td>\n",
       "      <td>0.0</td>\n",
       "      <td>0.464429</td>\n",
       "    </tr>\n",
       "    <tr>\n",
       "      <th>9999</th>\n",
       "      <td>0.884</td>\n",
       "      <td>0.0</td>\n",
       "      <td>1</td>\n",
       "      <td>0.135135</td>\n",
       "      <td>0.4</td>\n",
       "      <td>0.518708</td>\n",
       "      <td>0.000000</td>\n",
       "      <td>1.0</td>\n",
       "      <td>0.0</td>\n",
       "      <td>0.190914</td>\n",
       "    </tr>\n",
       "  </tbody>\n",
       "</table>\n",
       "<p>10000 rows × 10 columns</p>\n",
       "</div>"
      ],
      "text/plain": [
       "      CreditScore  Geography  Gender       Age  Tenure   Balance  \\\n",
       "0           0.538        0.0       1  0.324324     0.2  0.000000   \n",
       "1           0.516        1.0       1  0.310811     0.1  0.334031   \n",
       "2           0.304        0.0       1  0.324324     0.8  0.636357   \n",
       "3           0.698        0.0       1  0.283784     0.1  0.000000   \n",
       "4           1.000        1.0       1  0.337838     0.2  0.500246   \n",
       "...           ...        ...     ...       ...     ...       ...   \n",
       "9995        0.842        0.0       0  0.283784     0.5  0.000000   \n",
       "9996        0.332        0.0       0  0.229730     1.0  0.228657   \n",
       "9997        0.718        0.0       1  0.243243     0.7  0.000000   \n",
       "9998        0.844        0.5       0  0.324324     0.3  0.299226   \n",
       "9999        0.884        0.0       1  0.135135     0.4  0.518708   \n",
       "\n",
       "      NumOfProducts  HasCrCard  IsActiveMember  EstimatedSalary  \n",
       "0          0.000000        1.0             1.0         0.506735  \n",
       "1          0.000000        0.0             1.0         0.562709  \n",
       "2          0.666667        1.0             0.0         0.569654  \n",
       "3          0.333333        0.0             0.0         0.469120  \n",
       "4          0.000000        1.0             1.0         0.395400  \n",
       "...             ...        ...             ...              ...  \n",
       "9995       0.333333        1.0             0.0         0.481341  \n",
       "9996       0.000000        1.0             1.0         0.508490  \n",
       "9997       0.000000        0.0             1.0         0.210390  \n",
       "9998       0.333333        1.0             0.0         0.464429  \n",
       "9999       0.000000        1.0             0.0         0.190914  \n",
       "\n",
       "[10000 rows x 10 columns]"
      ]
     },
     "execution_count": 79,
     "metadata": {},
     "output_type": "execute_result"
    }
   ],
   "source": [
    "X = dataset.iloc[:, 3:13]\n",
    "Y = dataset.iloc[:, 13]\n",
    "X"
   ]
  },
  {
   "cell_type": "code",
   "execution_count": 80,
   "id": "measured-ethernet",
   "metadata": {},
   "outputs": [
    {
     "data": {
      "text/plain": [
       "(8000, 10)"
      ]
     },
     "execution_count": 80,
     "metadata": {},
     "output_type": "execute_result"
    }
   ],
   "source": [
    "X_train, X_test, y_train, y_test = train_test_split(X,Y, test_size=0.2, random_state=0)\n",
    "X_train.shape"
   ]
  },
  {
   "cell_type": "code",
   "execution_count": 81,
   "id": "wireless-motivation",
   "metadata": {},
   "outputs": [
    {
     "name": "stdout",
     "output_type": "stream",
     "text": [
      "Epoch 1/20\n",
      "640/640 - 4s - loss: 0.5211 - accuracy: 0.7684 - val_loss: 0.4829 - val_accuracy: 0.7969\n",
      "Epoch 2/20\n",
      "640/640 - 3s - loss: 0.4682 - accuracy: 0.7980 - val_loss: 0.4625 - val_accuracy: 0.7975\n",
      "Epoch 3/20\n",
      "640/640 - 3s - loss: 0.4508 - accuracy: 0.8055 - val_loss: 0.4537 - val_accuracy: 0.8138\n",
      "Epoch 4/20\n",
      "640/640 - 3s - loss: 0.4400 - accuracy: 0.8103 - val_loss: 0.4422 - val_accuracy: 0.8081\n",
      "Epoch 5/20\n",
      "640/640 - 2s - loss: 0.4305 - accuracy: 0.8153 - val_loss: 0.4361 - val_accuracy: 0.8144\n",
      "Epoch 6/20\n",
      "640/640 - 3s - loss: 0.4242 - accuracy: 0.8189 - val_loss: 0.4376 - val_accuracy: 0.8106\n",
      "Epoch 7/20\n",
      "640/640 - 3s - loss: 0.4184 - accuracy: 0.8200 - val_loss: 0.4258 - val_accuracy: 0.8163\n",
      "Epoch 8/20\n",
      "640/640 - 3s - loss: 0.4122 - accuracy: 0.8234 - val_loss: 0.4201 - val_accuracy: 0.8175\n",
      "Epoch 9/20\n",
      "640/640 - 3s - loss: 0.4047 - accuracy: 0.8255 - val_loss: 0.4121 - val_accuracy: 0.8219\n",
      "Epoch 10/20\n",
      "640/640 - 3s - loss: 0.3988 - accuracy: 0.8300 - val_loss: 0.4073 - val_accuracy: 0.8269\n",
      "Epoch 11/20\n",
      "640/640 - 3s - loss: 0.3933 - accuracy: 0.8316 - val_loss: 0.4026 - val_accuracy: 0.8288\n",
      "Epoch 12/20\n",
      "640/640 - 3s - loss: 0.3889 - accuracy: 0.8370 - val_loss: 0.3969 - val_accuracy: 0.8325\n",
      "Epoch 13/20\n",
      "640/640 - 3s - loss: 0.3833 - accuracy: 0.8392 - val_loss: 0.3937 - val_accuracy: 0.8338\n",
      "Epoch 14/20\n",
      "640/640 - 3s - loss: 0.3789 - accuracy: 0.8425 - val_loss: 0.3910 - val_accuracy: 0.8375\n",
      "Epoch 15/20\n",
      "640/640 - 3s - loss: 0.3756 - accuracy: 0.8395 - val_loss: 0.3867 - val_accuracy: 0.8338\n",
      "Epoch 16/20\n",
      "640/640 - 3s - loss: 0.3726 - accuracy: 0.8436 - val_loss: 0.3841 - val_accuracy: 0.8356\n",
      "Epoch 17/20\n",
      "640/640 - 3s - loss: 0.3696 - accuracy: 0.8458 - val_loss: 0.3824 - val_accuracy: 0.8356\n",
      "Epoch 18/20\n",
      "640/640 - 3s - loss: 0.3681 - accuracy: 0.8462 - val_loss: 0.3808 - val_accuracy: 0.8394\n",
      "Epoch 19/20\n",
      "640/640 - 3s - loss: 0.3654 - accuracy: 0.8480 - val_loss: 0.3783 - val_accuracy: 0.8350\n",
      "Epoch 20/20\n",
      "640/640 - 3s - loss: 0.3640 - accuracy: 0.8459 - val_loss: 0.3795 - val_accuracy: 0.8419\n"
     ]
    }
   ],
   "source": [
    "model = Sequential([\n",
    "    Dense(units=20, input_shape=(10, ), activation='relu'),\n",
    "    Dense(units=1, activation='sigmoid')\n",
    "])\n",
    "\n",
    "model.compile(optimizer='adam', loss='binary_crossentropy', metrics=['accuracy'])\n",
    "model_history = model.fit(x=X_train, y=y_train, validation_split=0.2, batch_size=10, epochs=20, verbose=2)"
   ]
  },
  {
   "cell_type": "code",
   "execution_count": 82,
   "id": "broad-beijing",
   "metadata": {},
   "outputs": [
    {
     "data": {
      "text/plain": [
       "array([[0.20314604],\n",
       "       [0.29026282],\n",
       "       [0.1888845 ],\n",
       "       ...,\n",
       "       [0.168798  ],\n",
       "       [0.09319496],\n",
       "       [0.12209094]], dtype=float32)"
      ]
     },
     "execution_count": 82,
     "metadata": {},
     "output_type": "execute_result"
    }
   ],
   "source": [
    "predicted_values = model.predict(X_test)\n",
    "predicted_values"
   ]
  },
  {
   "cell_type": "code",
   "execution_count": 83,
   "id": "hearing-jewelry",
   "metadata": {},
   "outputs": [
    {
     "data": {
      "text/plain": [
       "array([[False],\n",
       "       [False],\n",
       "       [False],\n",
       "       ...,\n",
       "       [False],\n",
       "       [False],\n",
       "       [False]])"
      ]
     },
     "execution_count": 83,
     "metadata": {},
     "output_type": "execute_result"
    }
   ],
   "source": [
    "predicted_values = (predicted_values > 0.5)\n",
    "predicted_values"
   ]
  },
  {
   "cell_type": "code",
   "execution_count": 84,
   "id": "certain-translator",
   "metadata": {},
   "outputs": [
    {
     "data": {
      "image/png": "[encoded data removed]",
      "text/plain": [
       "<Figure size 432x288 with 1 Axes>"
      ]
     },
     "metadata": {
      "needs_background": "light"
     },
     "output_type": "display_data"
    }
   ],
   "source": [
    "conf_mat = confusion_matrix(y_test, predicted_values)\n",
    "conf_mat_df = pd.DataFrame(conf_mat, index=[0, 1], columns=[0, 1])\n",
    "cmap = sns.cubehelix_palette(light=1, as_cmap=True)\n",
    "h_map = sns.heatmap(conf_mat, annot=True, cbar=False, fmt='d', cmap=cmap)\n",
    "h_map.invert_yaxis()\n",
    "h_map.invert_xaxis()"
   ]
  },
  {
   "cell_type": "code",
   "execution_count": 85,
   "id": "mighty-riverside",
   "metadata": {},
   "outputs": [
    {
     "name": "stdout",
     "output_type": "stream",
     "text": [
      "              precision    recall  f1-score   support\n",
      "\n",
      "           0       0.86      0.98      0.91      1595\n",
      "           1       0.79      0.37      0.50       405\n",
      "\n",
      "    accuracy                           0.85      2000\n",
      "   macro avg       0.82      0.67      0.71      2000\n",
      "weighted avg       0.84      0.85      0.83      2000\n",
      "\n"
     ]
    }
   ],
   "source": [
    "class_report = classification_report(y_test, predicted_values)\n",
    "print(class_report)"
   ]
  },
  {
   "cell_type": "code",
   "execution_count": 86,
   "id": "polar-bobby",
   "metadata": {},
   "outputs": [
    {
     "data": {
      "text/plain": [
       "0.852"
      ]
     },
     "execution_count": 86,
     "metadata": {},
     "output_type": "execute_result"
    }
   ],
   "source": [
    "accuracy = accuracy_score(y_test, predicted_values)\n",
    "accuracy"
   ]
  },
  {
   "cell_type": "code",
   "execution_count": 87,
   "id": "charming-concord",
   "metadata": {},
   "outputs": [
    {
     "data": {
      "text/plain": [
       "<matplotlib.legend.Legend at 0x124c708fac8>"
      ]
     },
     "execution_count": 87,
     "metadata": {},
     "output_type": "execute_result"
    },
    {
     "data": {
      "image/png": "[encoded data removed]",
      "text/plain": [
       "<Figure size 432x288 with 1 Axes>"
      ]
     },
     "metadata": {
      "needs_background": "light"
     },
     "output_type": "display_data"
    }
   ],
   "source": [
    "plt.subplot(211)\n",
    "plt.title('Accuracy')\n",
    "plt.plot(model_history.history['accuracy'], label='train')\n",
    "plt.plot(model_history.history['val_accuracy'], label='test')\n",
    "plt.legend()"
   ]
  },
  {
   "cell_type": "code",
   "execution_count": 88,
   "id": "patient-solution",
   "metadata": {},
   "outputs": [
    {
     "data": {
      "text/plain": [
       "<matplotlib.legend.Legend at 0x124c5f70208>"
      ]
     },
     "execution_count": 88,
     "metadata": {},
     "output_type": "execute_result"
    },
    {
     "data": {
      "image/png": "[encoded data removed]",
      "text/plain": [
       "<Figure size 432x288 with 1 Axes>"
      ]
     },
     "metadata": {
      "needs_background": "light"
     },
     "output_type": "display_data"
    }
   ],
   "source": [
    "plt.subplot(211)\n",
    "plt.title('Loss')\n",
    "plt.plot(model_history.history['loss'], label='train')\n",
    "plt.plot(model_history.history['val_loss'], label='test')\n",
    "plt.legend()"
   ]
  },
  {
   "cell_type": "code",
   "execution_count": 89,
   "id": "green-blanket",
   "metadata": {},
   "outputs": [
    {
     "name": "stdout",
     "output_type": "stream",
     "text": [
      "Epoch 1/20\n",
      "640/640 - 4s - loss: 0.5096 - accuracy: 0.7839 - val_loss: 0.4786 - val_accuracy: 0.7969\n",
      "Epoch 2/20\n",
      "640/640 - 3s - loss: 0.4642 - accuracy: 0.7959 - val_loss: 0.4596 - val_accuracy: 0.7975\n",
      "Epoch 3/20\n",
      "640/640 - 3s - loss: 0.4449 - accuracy: 0.8050 - val_loss: 0.4454 - val_accuracy: 0.8037\n",
      "Epoch 4/20\n",
      "640/640 - 3s - loss: 0.4300 - accuracy: 0.8156 - val_loss: 0.4327 - val_accuracy: 0.8100\n",
      "Epoch 5/20\n",
      "640/640 - 3s - loss: 0.4174 - accuracy: 0.8188 - val_loss: 0.4241 - val_accuracy: 0.8181\n",
      "Epoch 6/20\n",
      "640/640 - 3s - loss: 0.4064 - accuracy: 0.8291 - val_loss: 0.4099 - val_accuracy: 0.8250\n",
      "Epoch 7/20\n",
      "640/640 - 3s - loss: 0.3944 - accuracy: 0.8364 - val_loss: 0.3988 - val_accuracy: 0.8319\n",
      "Epoch 8/20\n",
      "640/640 - 3s - loss: 0.3832 - accuracy: 0.8417 - val_loss: 0.3904 - val_accuracy: 0.8319\n",
      "Epoch 9/20\n",
      "640/640 - 3s - loss: 0.3752 - accuracy: 0.8498 - val_loss: 0.3856 - val_accuracy: 0.8375\n",
      "Epoch 10/20\n",
      "640/640 - 3s - loss: 0.3703 - accuracy: 0.8505 - val_loss: 0.3795 - val_accuracy: 0.8469\n",
      "Epoch 11/20\n",
      "640/640 - 3s - loss: 0.3675 - accuracy: 0.8514 - val_loss: 0.3773 - val_accuracy: 0.8444\n",
      "Epoch 12/20\n",
      "640/640 - 3s - loss: 0.3633 - accuracy: 0.8509 - val_loss: 0.3746 - val_accuracy: 0.8438\n",
      "Epoch 13/20\n",
      "640/640 - 3s - loss: 0.3628 - accuracy: 0.8541 - val_loss: 0.3805 - val_accuracy: 0.8338\n",
      "Epoch 14/20\n",
      "640/640 - 3s - loss: 0.3591 - accuracy: 0.8522 - val_loss: 0.3811 - val_accuracy: 0.8475\n",
      "Epoch 15/20\n",
      "640/640 - 3s - loss: 0.3578 - accuracy: 0.8541 - val_loss: 0.3714 - val_accuracy: 0.8475\n",
      "Epoch 16/20\n",
      "640/640 - 3s - loss: 0.3551 - accuracy: 0.8553 - val_loss: 0.3736 - val_accuracy: 0.8388\n",
      "Epoch 17/20\n",
      "640/640 - 3s - loss: 0.3553 - accuracy: 0.8558 - val_loss: 0.3705 - val_accuracy: 0.8481\n",
      "Epoch 18/20\n",
      "640/640 - 3s - loss: 0.3553 - accuracy: 0.8550 - val_loss: 0.3680 - val_accuracy: 0.8462\n",
      "Epoch 19/20\n",
      "640/640 - 3s - loss: 0.3532 - accuracy: 0.8564 - val_loss: 0.3694 - val_accuracy: 0.8425\n",
      "Epoch 20/20\n",
      "640/640 - 3s - loss: 0.3522 - accuracy: 0.8553 - val_loss: 0.3711 - val_accuracy: 0.8469\n"
     ]
    }
   ],
   "source": [
    "model = Sequential([\n",
    "    Dense(units=20, input_shape=(10, ), activation='relu'),\n",
    "    Dense(units=10, activation='relu'),\n",
    "    Dense(units=1, activation='sigmoid')\n",
    "])\n",
    "\n",
    "model.compile(optimizer='adam', loss='binary_crossentropy', metrics=['accuracy'])\n",
    "model_history = model.fit(x=X_train, y=y_train, validation_split=0.2, batch_size=10, epochs=20, verbose=2)"
   ]
  },
  {
   "cell_type": "code",
   "execution_count": 90,
   "id": "placed-martin",
   "metadata": {},
   "outputs": [
    {
     "data": {
      "text/plain": [
       "0.8575"
      ]
     },
     "execution_count": 90,
     "metadata": {},
     "output_type": "execute_result"
    }
   ],
   "source": [
    "predicted_values = model.predict(X_test)\n",
    "predicted_values = (predicted_values > 0.5)\n",
    "accuracy = accuracy_score(y_test, predicted_values)\n",
    "accuracy"
   ]
  },
  {
   "cell_type": "code",
   "execution_count": 91,
   "id": "whole-gardening",
   "metadata": {},
   "outputs": [
    {
     "name": "stdout",
     "output_type": "stream",
     "text": [
      "Epoch 1/20\n",
      "WARNING:tensorflow:Callbacks method `on_test_batch_begin` is slow compared to the batch time (batch time: 0.0000s vs `on_test_batch_begin` time: 0.0153s). Check your callbacks.\n",
      "640/640 - 4s - loss: 0.4840 - accuracy: 0.7941 - val_loss: 0.4085 - val_accuracy: 0.7969\n",
      "Epoch 2/20\n",
      "640/640 - 3s - loss: 0.4095 - accuracy: 0.7958 - val_loss: 0.4068 - val_accuracy: 0.7969\n",
      "Epoch 3/20\n",
      "640/640 - 3s - loss: 0.4088 - accuracy: 0.7958 - val_loss: 0.4065 - val_accuracy: 0.7969\n",
      "Epoch 4/20\n",
      "640/640 - 3s - loss: 0.4086 - accuracy: 0.7958 - val_loss: 0.4064 - val_accuracy: 0.7969\n",
      "Epoch 5/20\n",
      "640/640 - 3s - loss: 0.4085 - accuracy: 0.7958 - val_loss: 0.4063 - val_accuracy: 0.7969\n",
      "Epoch 6/20\n",
      "640/640 - 3s - loss: 0.4085 - accuracy: 0.7958 - val_loss: 0.4063 - val_accuracy: 0.7969\n",
      "Epoch 7/20\n",
      "640/640 - 3s - loss: 0.4084 - accuracy: 0.7958 - val_loss: 0.4063 - val_accuracy: 0.7969\n",
      "Epoch 8/20\n",
      "640/640 - 3s - loss: 0.4084 - accuracy: 0.7958 - val_loss: 0.4063 - val_accuracy: 0.7969\n",
      "Epoch 9/20\n",
      "640/640 - 3s - loss: 0.4084 - accuracy: 0.7958 - val_loss: 0.4063 - val_accuracy: 0.7969\n",
      "Epoch 10/20\n",
      "640/640 - 3s - loss: 0.4084 - accuracy: 0.7958 - val_loss: 0.4063 - val_accuracy: 0.7969\n",
      "Epoch 11/20\n",
      "640/640 - 3s - loss: 0.4084 - accuracy: 0.7958 - val_loss: 0.4063 - val_accuracy: 0.7969\n",
      "Epoch 12/20\n",
      "640/640 - 3s - loss: 0.4084 - accuracy: 0.7958 - val_loss: 0.4063 - val_accuracy: 0.7969\n",
      "Epoch 13/20\n",
      "640/640 - 3s - loss: 0.4084 - accuracy: 0.7958 - val_loss: 0.4063 - val_accuracy: 0.7969\n",
      "Epoch 14/20\n",
      "640/640 - 3s - loss: 0.4084 - accuracy: 0.7958 - val_loss: 0.4063 - val_accuracy: 0.7969\n",
      "Epoch 15/20\n",
      "640/640 - 3s - loss: 0.4084 - accuracy: 0.7958 - val_loss: 0.4063 - val_accuracy: 0.7969\n",
      "Epoch 16/20\n",
      "640/640 - 3s - loss: 0.4084 - accuracy: 0.7958 - val_loss: 0.4063 - val_accuracy: 0.7969\n",
      "Epoch 17/20\n",
      "640/640 - 3s - loss: 0.4084 - accuracy: 0.7958 - val_loss: 0.4062 - val_accuracy: 0.7969\n",
      "Epoch 18/20\n",
      "640/640 - 3s - loss: 0.4084 - accuracy: 0.7958 - val_loss: 0.4062 - val_accuracy: 0.7969\n",
      "Epoch 19/20\n",
      "640/640 - 3s - loss: 0.4084 - accuracy: 0.7958 - val_loss: 0.4062 - val_accuracy: 0.7969\n",
      "Epoch 20/20\n",
      "640/640 - 3s - loss: 0.4084 - accuracy: 0.7958 - val_loss: 0.4062 - val_accuracy: 0.7969\n"
     ]
    }
   ],
   "source": [
    "model = Sequential()\n",
    "model.add(Dense(units = 20, input_shape=(10, ), activation = 'relu'))\n",
    "#model.add(Dense(units = 5, activation = 'relu'))\n",
    "model.add(Dense(units = 1, activation = 'tanh'))\n",
    "\n",
    "model.compile(optimizer='adam', loss='hinge', metrics=['accuracy'])\n",
    "model_history = model.fit(x=X_train, y=y_train, validation_split=0.2, batch_size=10, epochs=20, verbose=2)"
   ]
  },
  {
   "cell_type": "code",
   "execution_count": 92,
   "id": "atlantic-harvard",
   "metadata": {},
   "outputs": [
    {
     "data": {
      "text/plain": [
       "0.7975"
      ]
     },
     "execution_count": 92,
     "metadata": {},
     "output_type": "execute_result"
    }
   ],
   "source": [
    "predicted_values = model.predict(X_test)\n",
    "predicted_values = (predicted_values > 0.5)\n",
    "accuracy = accuracy_score(y_test, predicted_values)\n",
    "accuracy"
   ]
  },
  {
   "cell_type": "code",
   "execution_count": 104,
   "id": "foreign-thong",
   "metadata": {},
   "outputs": [
    {
     "name": "stdout",
     "output_type": "stream",
     "text": [
      "Epoch 1/20\n",
      "640/640 - 4s - loss: 0.4904 - accuracy: 0.7955 - val_loss: 0.4714 - val_accuracy: 0.7969\n",
      "Epoch 2/20\n",
      "640/640 - 3s - loss: 0.4536 - accuracy: 0.7986 - val_loss: 0.4491 - val_accuracy: 0.8075\n",
      "Epoch 3/20\n",
      "640/640 - 3s - loss: 0.4295 - accuracy: 0.8120 - val_loss: 0.4313 - val_accuracy: 0.8125\n",
      "Epoch 4/20\n",
      "640/640 - 3s - loss: 0.4136 - accuracy: 0.8214 - val_loss: 0.4143 - val_accuracy: 0.8175\n",
      "Epoch 5/20\n",
      "640/640 - 3s - loss: 0.3969 - accuracy: 0.8284 - val_loss: 0.4000 - val_accuracy: 0.8256\n",
      "Epoch 6/20\n",
      "640/640 - 3s - loss: 0.3826 - accuracy: 0.8367 - val_loss: 0.3850 - val_accuracy: 0.8288\n",
      "Epoch 7/20\n",
      "640/640 - 3s - loss: 0.3739 - accuracy: 0.8427 - val_loss: 0.3799 - val_accuracy: 0.8344\n",
      "Epoch 8/20\n",
      "640/640 - 3s - loss: 0.3667 - accuracy: 0.8453 - val_loss: 0.3737 - val_accuracy: 0.8469\n",
      "Epoch 9/20\n",
      "640/640 - 3s - loss: 0.3610 - accuracy: 0.8487 - val_loss: 0.3719 - val_accuracy: 0.8438\n",
      "Epoch 10/20\n",
      "640/640 - 4s - loss: 0.3592 - accuracy: 0.8517 - val_loss: 0.3773 - val_accuracy: 0.8456\n",
      "Epoch 11/20\n",
      "640/640 - 3s - loss: 0.3554 - accuracy: 0.8552 - val_loss: 0.3718 - val_accuracy: 0.8444\n",
      "Epoch 12/20\n",
      "640/640 - 3s - loss: 0.3554 - accuracy: 0.8533 - val_loss: 0.3687 - val_accuracy: 0.8462\n",
      "Epoch 13/20\n",
      "640/640 - 3s - loss: 0.3542 - accuracy: 0.8531 - val_loss: 0.3758 - val_accuracy: 0.8475\n",
      "Epoch 14/20\n",
      "640/640 - 3s - loss: 0.3506 - accuracy: 0.8572 - val_loss: 0.3672 - val_accuracy: 0.8487\n",
      "Epoch 15/20\n",
      "640/640 - 3s - loss: 0.3520 - accuracy: 0.8558 - val_loss: 0.3674 - val_accuracy: 0.8469\n",
      "Epoch 16/20\n",
      "640/640 - 3s - loss: 0.3497 - accuracy: 0.8545 - val_loss: 0.3669 - val_accuracy: 0.8512\n",
      "Epoch 17/20\n",
      "640/640 - 3s - loss: 0.3498 - accuracy: 0.8559 - val_loss: 0.3650 - val_accuracy: 0.8494\n",
      "Epoch 18/20\n",
      "640/640 - 3s - loss: 0.3479 - accuracy: 0.8578 - val_loss: 0.3665 - val_accuracy: 0.8519\n",
      "Epoch 19/20\n",
      "640/640 - 3s - loss: 0.3475 - accuracy: 0.8575 - val_loss: 0.3675 - val_accuracy: 0.8487\n",
      "Epoch 20/20\n",
      "640/640 - 3s - loss: 0.3453 - accuracy: 0.8589 - val_loss: 0.3664 - val_accuracy: 0.8519\n"
     ]
    }
   ],
   "source": [
    "model = Sequential([\n",
    "    Dense(units=32, input_shape=(10, ), activation='relu'),\n",
    "    Dense(units=16, activation='relu'),\n",
    "    Dense(units=1, activation='sigmoid')\n",
    "])\n",
    "\n",
    "model.compile(optimizer='adam', loss='binary_crossentropy', metrics=['accuracy'])\n",
    "model_history = model.fit(x=X_train, y=y_train, validation_split=0.2, batch_size=10, epochs=20, verbose=2)"
   ]
  },
  {
   "cell_type": "code",
   "execution_count": 106,
   "id": "prescribed-melissa",
   "metadata": {},
   "outputs": [
    {
     "data": {
      "text/plain": [
       "0.8595"
      ]
     },
     "execution_count": 106,
     "metadata": {},
     "output_type": "execute_result"
    }
   ],
   "source": [
    "predicted_values = model.predict(X_test)\n",
    "predicted_values = (predicted_values > 0.5)\n",
    "accuracy = accuracy_score(y_test, predicted_values)\n",
    "accuracy"
   ]
  },
  {
   "cell_type": "code",
   "execution_count": 107,
   "id": "weighted-difference",
   "metadata": {},
   "outputs": [
    {
     "data": {
      "text/plain": [
       "<matplotlib.legend.Legend at 0x124ca6d4e88>"
      ]
     },
     "execution_count": 107,
     "metadata": {},
     "output_type": "execute_result"
    },
    {
     "data": {
      "image/png": "[encoded data removed]",
      "text/plain": [
       "<Figure size 432x288 with 1 Axes>"
      ]
     },
     "metadata": {
      "needs_background": "light"
     },
     "output_type": "display_data"
    }
   ],
   "source": [
    "plt.subplot(211)\n",
    "plt.title('Accuracy')\n",
    "plt.plot(model_history.history['accuracy'], label='train')\n",
    "plt.plot(model_history.history['val_accuracy'], label='test')\n",
    "plt.legend()"
   ]
  },
  {
   "cell_type": "code",
   "execution_count": 108,
   "id": "timely-craps",
   "metadata": {},
   "outputs": [
    {
     "data": {
      "text/plain": [
       "<matplotlib.legend.Legend at 0x124c78ad188>"
      ]
     },
     "execution_count": 108,
     "metadata": {},
     "output_type": "execute_result"
    },
    {
     "data": {
      "image/png": "[encoded data removed]",
      "text/plain": [
       "<Figure size 432x288 with 1 Axes>"
      ]
     },
     "metadata": {
      "needs_background": "light"
     },
     "output_type": "display_data"
    }
   ],
   "source": [
    "plt.subplot(211)\n",
    "plt.title('Loss')\n",
    "plt.plot(model_history.history['loss'], label='train')\n",
    "plt.plot(model_history.history['val_loss'], label='test')\n",
    "plt.legend()"
   ]
  },
  {
   "cell_type": "code",
   "execution_count": null,
   "id": "conditional-radius",
   "metadata": {},
   "outputs": [],
   "source": []
  }
 ],
 "metadata": {
  "kernelspec": {
   "display_name": "Python 3",
   "language": "python",
   "name": "python3"
  },
  "language_info": {
   "codemirror_mode": {
    "name": "ipython",
    "version": 3
   },
   "file_extension": ".py",
   "mimetype": "text/x-python",
   "name": "python",
   "nbconvert_exporter": "python",
   "pygments_lexer": "ipython3",
   "version": "3.7.10"
  }
 },
 "nbformat": 4,
 "nbformat_minor": 5
}
