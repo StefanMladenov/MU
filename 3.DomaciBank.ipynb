{
 "cells": [
  {
   "cell_type": "code",
   "execution_count": 1,
   "id": "abstract-clear",
   "metadata": {},
   "outputs": [],
   "source": [
    "import pandas as pd\n",
    "import numpy as np\n",
    "from keras.models import Sequential\n",
    "from keras.layers import Dense, Dropout\n",
    "from sklearn.preprocessing import MinMaxScaler\n",
    "from sklearn.model_selection import train_test_split\n",
    "from sklearn.metrics import confusion_matrix, classification_report, accuracy_score\n",
    "from tensorflow.keras.optimizers import Adam\n",
    "import matplotlib.pyplot as plt\n",
    "import seaborn as sns"
   ]
  },
  {
   "cell_type": "code",
   "execution_count": 2,
   "id": "reported-korean",
   "metadata": {},
   "outputs": [
    {
     "data": {
      "text/html": [
       "<div>\n",
       "<style scoped>\n",
       "    .dataframe tbody tr th:only-of-type {\n",
       "        vertical-align: middle;\n",
       "    }\n",
       "\n",
       "    .dataframe tbody tr th {\n",
       "        vertical-align: top;\n",
       "    }\n",
       "\n",
       "    .dataframe thead th {\n",
       "        text-align: right;\n",
       "    }\n",
       "</style>\n",
       "<table border=\"1\" class=\"dataframe\">\n",
       "  <thead>\n",
       "    <tr style=\"text-align: right;\">\n",
       "      <th></th>\n",
       "      <th>RowNumber</th>\n",
       "      <th>CustomerId</th>\n",
       "      <th>Surname</th>\n",
       "      <th>CreditScore</th>\n",
       "      <th>Geography</th>\n",
       "      <th>Gender</th>\n",
       "      <th>Age</th>\n",
       "      <th>Tenure</th>\n",
       "      <th>Balance</th>\n",
       "      <th>NumOfProducts</th>\n",
       "      <th>HasCrCard</th>\n",
       "      <th>IsActiveMember</th>\n",
       "      <th>EstimatedSalary</th>\n",
       "      <th>Exited</th>\n",
       "    </tr>\n",
       "  </thead>\n",
       "  <tbody>\n",
       "    <tr>\n",
       "      <th>0</th>\n",
       "      <td>1</td>\n",
       "      <td>15634602</td>\n",
       "      <td>Hargrave</td>\n",
       "      <td>619</td>\n",
       "      <td>France</td>\n",
       "      <td>Female</td>\n",
       "      <td>42</td>\n",
       "      <td>2</td>\n",
       "      <td>0.00</td>\n",
       "      <td>1</td>\n",
       "      <td>1</td>\n",
       "      <td>1</td>\n",
       "      <td>101348.88</td>\n",
       "      <td>1</td>\n",
       "    </tr>\n",
       "    <tr>\n",
       "      <th>1</th>\n",
       "      <td>2</td>\n",
       "      <td>15647311</td>\n",
       "      <td>Hill</td>\n",
       "      <td>608</td>\n",
       "      <td>Spain</td>\n",
       "      <td>Female</td>\n",
       "      <td>41</td>\n",
       "      <td>1</td>\n",
       "      <td>83807.86</td>\n",
       "      <td>1</td>\n",
       "      <td>0</td>\n",
       "      <td>1</td>\n",
       "      <td>112542.58</td>\n",
       "      <td>0</td>\n",
       "    </tr>\n",
       "    <tr>\n",
       "      <th>2</th>\n",
       "      <td>3</td>\n",
       "      <td>15619304</td>\n",
       "      <td>Onio</td>\n",
       "      <td>502</td>\n",
       "      <td>France</td>\n",
       "      <td>Female</td>\n",
       "      <td>42</td>\n",
       "      <td>8</td>\n",
       "      <td>159660.80</td>\n",
       "      <td>3</td>\n",
       "      <td>1</td>\n",
       "      <td>0</td>\n",
       "      <td>113931.57</td>\n",
       "      <td>1</td>\n",
       "    </tr>\n",
       "    <tr>\n",
       "      <th>3</th>\n",
       "      <td>4</td>\n",
       "      <td>15701354</td>\n",
       "      <td>Boni</td>\n",
       "      <td>699</td>\n",
       "      <td>France</td>\n",
       "      <td>Female</td>\n",
       "      <td>39</td>\n",
       "      <td>1</td>\n",
       "      <td>0.00</td>\n",
       "      <td>2</td>\n",
       "      <td>0</td>\n",
       "      <td>0</td>\n",
       "      <td>93826.63</td>\n",
       "      <td>0</td>\n",
       "    </tr>\n",
       "    <tr>\n",
       "      <th>4</th>\n",
       "      <td>5</td>\n",
       "      <td>15737888</td>\n",
       "      <td>Mitchell</td>\n",
       "      <td>850</td>\n",
       "      <td>Spain</td>\n",
       "      <td>Female</td>\n",
       "      <td>43</td>\n",
       "      <td>2</td>\n",
       "      <td>125510.82</td>\n",
       "      <td>1</td>\n",
       "      <td>1</td>\n",
       "      <td>1</td>\n",
       "      <td>79084.10</td>\n",
       "      <td>0</td>\n",
       "    </tr>\n",
       "    <tr>\n",
       "      <th>...</th>\n",
       "      <td>...</td>\n",
       "      <td>...</td>\n",
       "      <td>...</td>\n",
       "      <td>...</td>\n",
       "      <td>...</td>\n",
       "      <td>...</td>\n",
       "      <td>...</td>\n",
       "      <td>...</td>\n",
       "      <td>...</td>\n",
       "      <td>...</td>\n",
       "      <td>...</td>\n",
       "      <td>...</td>\n",
       "      <td>...</td>\n",
       "      <td>...</td>\n",
       "    </tr>\n",
       "    <tr>\n",
       "      <th>9995</th>\n",
       "      <td>9996</td>\n",
       "      <td>15606229</td>\n",
       "      <td>Obijiaku</td>\n",
       "      <td>771</td>\n",
       "      <td>France</td>\n",
       "      <td>Male</td>\n",
       "      <td>39</td>\n",
       "      <td>5</td>\n",
       "      <td>0.00</td>\n",
       "      <td>2</td>\n",
       "      <td>1</td>\n",
       "      <td>0</td>\n",
       "      <td>96270.64</td>\n",
       "      <td>0</td>\n",
       "    </tr>\n",
       "    <tr>\n",
       "      <th>9996</th>\n",
       "      <td>9997</td>\n",
       "      <td>15569892</td>\n",
       "      <td>Johnstone</td>\n",
       "      <td>516</td>\n",
       "      <td>France</td>\n",
       "      <td>Male</td>\n",
       "      <td>35</td>\n",
       "      <td>10</td>\n",
       "      <td>57369.61</td>\n",
       "      <td>1</td>\n",
       "      <td>1</td>\n",
       "      <td>1</td>\n",
       "      <td>101699.77</td>\n",
       "      <td>0</td>\n",
       "    </tr>\n",
       "    <tr>\n",
       "      <th>9997</th>\n",
       "      <td>9998</td>\n",
       "      <td>15584532</td>\n",
       "      <td>Liu</td>\n",
       "      <td>709</td>\n",
       "      <td>France</td>\n",
       "      <td>Female</td>\n",
       "      <td>36</td>\n",
       "      <td>7</td>\n",
       "      <td>0.00</td>\n",
       "      <td>1</td>\n",
       "      <td>0</td>\n",
       "      <td>1</td>\n",
       "      <td>42085.58</td>\n",
       "      <td>1</td>\n",
       "    </tr>\n",
       "    <tr>\n",
       "      <th>9998</th>\n",
       "      <td>9999</td>\n",
       "      <td>15682355</td>\n",
       "      <td>Sabbatini</td>\n",
       "      <td>772</td>\n",
       "      <td>Germany</td>\n",
       "      <td>Male</td>\n",
       "      <td>42</td>\n",
       "      <td>3</td>\n",
       "      <td>75075.31</td>\n",
       "      <td>2</td>\n",
       "      <td>1</td>\n",
       "      <td>0</td>\n",
       "      <td>92888.52</td>\n",
       "      <td>1</td>\n",
       "    </tr>\n",
       "    <tr>\n",
       "      <th>9999</th>\n",
       "      <td>10000</td>\n",
       "      <td>15628319</td>\n",
       "      <td>Walker</td>\n",
       "      <td>792</td>\n",
       "      <td>France</td>\n",
       "      <td>Female</td>\n",
       "      <td>28</td>\n",
       "      <td>4</td>\n",
       "      <td>130142.79</td>\n",
       "      <td>1</td>\n",
       "      <td>1</td>\n",
       "      <td>0</td>\n",
       "      <td>38190.78</td>\n",
       "      <td>0</td>\n",
       "    </tr>\n",
       "  </tbody>\n",
       "</table>\n",
       "<p>10000 rows × 14 columns</p>\n",
       "</div>"
      ],
      "text/plain": [
       "      RowNumber  CustomerId    Surname  CreditScore Geography  Gender  Age  \\\n",
       "0             1    15634602   Hargrave          619    France  Female   42   \n",
       "1             2    15647311       Hill          608     Spain  Female   41   \n",
       "2             3    15619304       Onio          502    France  Female   42   \n",
       "3             4    15701354       Boni          699    France  Female   39   \n",
       "4             5    15737888   Mitchell          850     Spain  Female   43   \n",
       "...         ...         ...        ...          ...       ...     ...  ...   \n",
       "9995       9996    15606229   Obijiaku          771    France    Male   39   \n",
       "9996       9997    15569892  Johnstone          516    France    Male   35   \n",
       "9997       9998    15584532        Liu          709    France  Female   36   \n",
       "9998       9999    15682355  Sabbatini          772   Germany    Male   42   \n",
       "9999      10000    15628319     Walker          792    France  Female   28   \n",
       "\n",
       "      Tenure    Balance  NumOfProducts  HasCrCard  IsActiveMember  \\\n",
       "0          2       0.00              1          1               1   \n",
       "1          1   83807.86              1          0               1   \n",
       "2          8  159660.80              3          1               0   \n",
       "3          1       0.00              2          0               0   \n",
       "4          2  125510.82              1          1               1   \n",
       "...      ...        ...            ...        ...             ...   \n",
       "9995       5       0.00              2          1               0   \n",
       "9996      10   57369.61              1          1               1   \n",
       "9997       7       0.00              1          0               1   \n",
       "9998       3   75075.31              2          1               0   \n",
       "9999       4  130142.79              1          1               0   \n",
       "\n",
       "      EstimatedSalary  Exited  \n",
       "0           101348.88       1  \n",
       "1           112542.58       0  \n",
       "2           113931.57       1  \n",
       "3            93826.63       0  \n",
       "4            79084.10       0  \n",
       "...               ...     ...  \n",
       "9995         96270.64       0  \n",
       "9996        101699.77       0  \n",
       "9997         42085.58       1  \n",
       "9998         92888.52       1  \n",
       "9999         38190.78       0  \n",
       "\n",
       "[10000 rows x 14 columns]"
      ]
     },
     "execution_count": 2,
     "metadata": {},
     "output_type": "execute_result"
    }
   ],
   "source": [
    "dataset = pd.read_csv('DataSets/Churn_Modelling.csv')\n",
    "dataset"
   ]
  },
  {
   "cell_type": "code",
   "execution_count": 3,
   "id": "fancy-bouquet",
   "metadata": {},
   "outputs": [
    {
     "name": "stdout",
     "output_type": "stream",
     "text": [
      "<class 'pandas.core.frame.DataFrame'>\n",
      "RangeIndex: 10000 entries, 0 to 9999\n",
      "Data columns (total 14 columns):\n",
      " #   Column           Non-Null Count  Dtype  \n",
      "---  ------           --------------  -----  \n",
      " 0   RowNumber        10000 non-null  int64  \n",
      " 1   CustomerId       10000 non-null  int64  \n",
      " 2   Surname          10000 non-null  object \n",
      " 3   CreditScore      10000 non-null  int64  \n",
      " 4   Geography        10000 non-null  object \n",
      " 5   Gender           10000 non-null  object \n",
      " 6   Age              10000 non-null  int64  \n",
      " 7   Tenure           10000 non-null  int64  \n",
      " 8   Balance          10000 non-null  float64\n",
      " 9   NumOfProducts    10000 non-null  int64  \n",
      " 10  HasCrCard        10000 non-null  int64  \n",
      " 11  IsActiveMember   10000 non-null  int64  \n",
      " 12  EstimatedSalary  10000 non-null  float64\n",
      " 13  Exited           10000 non-null  int64  \n",
      "dtypes: float64(2), int64(9), object(3)\n",
      "memory usage: 1.1+ MB\n"
     ]
    }
   ],
   "source": [
    "dataset.info()"
   ]
  },
  {
   "cell_type": "code",
   "execution_count": 4,
   "id": "extreme-sailing",
   "metadata": {},
   "outputs": [
    {
     "data": {
      "text/plain": [
       "(10000, 14)"
      ]
     },
     "execution_count": 4,
     "metadata": {},
     "output_type": "execute_result"
    }
   ],
   "source": [
    "dataset.values.shape"
   ]
  },
  {
   "cell_type": "code",
   "execution_count": 5,
   "id": "italic-software",
   "metadata": {},
   "outputs": [
    {
     "data": {
      "text/plain": [
       "<AxesSubplot:>"
      ]
     },
     "execution_count": 5,
     "metadata": {},
     "output_type": "execute_result"
    },
    {
     "data": {
      "image/png": "[encoded data removed]",
      "text/plain": [
       "<Figure size 1296x1296 with 2 Axes>"
      ]
     },
     "metadata": {
      "needs_background": "light"
     },
     "output_type": "display_data"
    }
   ],
   "source": [
    "#korelacija podataka\n",
    "corrmat = dataset.corr()\n",
    "cmap = sns.diverging_palette(260,-10,s=50, l=75, n=6, as_cmap=True)\n",
    "plt.subplots(figsize=(18,18))\n",
    "sns.heatmap(corrmat,cmap= cmap,annot=True, square=True)"
   ]
  },
  {
   "cell_type": "code",
   "execution_count": 6,
   "id": "seeing-depth",
   "metadata": {},
   "outputs": [],
   "source": [
    "categorical = []\n",
    "numerical = []\n",
    "\n",
    "for feature in dataset.columns:\n",
    "    if dataset[feature].dtype == 'object':\n",
    "        categorical.append(feature)\n",
    "    else:\n",
    "        numerical.append(feature)"
   ]
  },
  {
   "cell_type": "code",
   "execution_count": 7,
   "id": "solid-development",
   "metadata": {},
   "outputs": [
    {
     "name": "stdout",
     "output_type": "stream",
     "text": [
      "['RowNumber', 'CustomerId', 'CreditScore', 'Age', 'Tenure', 'Balance', 'NumOfProducts', 'HasCrCard', 'IsActiveMember', 'EstimatedSalary', 'Exited']\n",
      "Ukupan broj numerickih atributa: 11\n"
     ]
    }
   ],
   "source": [
    "print(numerical)\n",
    "print('Ukupan broj numerickih atributa:', len(numerical))"
   ]
  },
  {
   "cell_type": "code",
   "execution_count": 8,
   "id": "perceived-status",
   "metadata": {},
   "outputs": [
    {
     "name": "stdout",
     "output_type": "stream",
     "text": [
      "['Surname', 'Geography', 'Gender']\n",
      "Ukupan broj kategorickih atributa: 3\n"
     ]
    }
   ],
   "source": [
    "print(categorical)\n",
    "print('Ukupan broj kategorickih atributa:', len(categorical))"
   ]
  },
  {
   "cell_type": "markdown",
   "id": "general-mystery",
   "metadata": {},
   "source": [
    "Podatak koji se predvidja - exited kolona koja oznacava da li je korisnik aktuelni - vrednost 0 ili je korisnik zatvorio racun u banci - vrednost 1"
   ]
  },
  {
   "cell_type": "code",
   "execution_count": 9,
   "id": "confident-timothy",
   "metadata": {},
   "outputs": [
    {
     "data": {
      "text/plain": [
       "<AxesSubplot:xlabel='Exited', ylabel='count'>"
      ]
     },
     "execution_count": 9,
     "metadata": {},
     "output_type": "execute_result"
    },
    {
     "data": {
      "image/png": "[encoded data removed]",
      "text/plain": [
       "<Figure size 432x288 with 1 Axes>"
      ]
     },
     "metadata": {
      "needs_background": "light"
     },
     "output_type": "display_data"
    }
   ],
   "source": [
    "cols= [\"#C2C4E2\",\"#EED4E5\"]\n",
    "sns.countplot(x= dataset[\"Exited\"], palette= cols)"
   ]
  },
  {
   "cell_type": "code",
   "execution_count": 10,
   "id": "coordinate-drama",
   "metadata": {},
   "outputs": [
    {
     "name": "stdout",
     "output_type": "stream",
     "text": [
      "Broj korisnika koji je zatvorio racun: 2037\n",
      "U procentima:  20.369999999999997 %\n"
     ]
    }
   ],
   "source": [
    "print('Broj korisnika koji je zatvorio racun:', len(dataset.loc[dataset['Exited'] == 1]))\n",
    "print(f'U procentima: ', (len(dataset.loc[dataset['Exited'] == 1]) / len(dataset)) * 100, '%')"
   ]
  },
  {
   "cell_type": "markdown",
   "id": "verbal-space",
   "metadata": {},
   "source": [
    "Skaliranje numerickih atributa i uklanjanje irelevantnih vrednosti poput rednog broja i identifikatora korisnika"
   ]
  },
  {
   "cell_type": "code",
   "execution_count": 11,
   "id": "dying-extreme",
   "metadata": {},
   "outputs": [
    {
     "data": {
      "text/html": [
       "<div>\n",
       "<style scoped>\n",
       "    .dataframe tbody tr th:only-of-type {\n",
       "        vertical-align: middle;\n",
       "    }\n",
       "\n",
       "    .dataframe tbody tr th {\n",
       "        vertical-align: top;\n",
       "    }\n",
       "\n",
       "    .dataframe thead th {\n",
       "        text-align: right;\n",
       "    }\n",
       "</style>\n",
       "<table border=\"1\" class=\"dataframe\">\n",
       "  <thead>\n",
       "    <tr style=\"text-align: right;\">\n",
       "      <th></th>\n",
       "      <th>CreditScore</th>\n",
       "      <th>Age</th>\n",
       "      <th>Tenure</th>\n",
       "      <th>Balance</th>\n",
       "      <th>NumOfProducts</th>\n",
       "      <th>HasCrCard</th>\n",
       "      <th>IsActiveMember</th>\n",
       "      <th>EstimatedSalary</th>\n",
       "    </tr>\n",
       "  </thead>\n",
       "  <tbody>\n",
       "    <tr>\n",
       "      <th>0</th>\n",
       "      <td>0.538</td>\n",
       "      <td>0.324324</td>\n",
       "      <td>0.2</td>\n",
       "      <td>0.000000</td>\n",
       "      <td>0.000000</td>\n",
       "      <td>1.0</td>\n",
       "      <td>1.0</td>\n",
       "      <td>0.506735</td>\n",
       "    </tr>\n",
       "    <tr>\n",
       "      <th>1</th>\n",
       "      <td>0.516</td>\n",
       "      <td>0.310811</td>\n",
       "      <td>0.1</td>\n",
       "      <td>0.334031</td>\n",
       "      <td>0.000000</td>\n",
       "      <td>0.0</td>\n",
       "      <td>1.0</td>\n",
       "      <td>0.562709</td>\n",
       "    </tr>\n",
       "    <tr>\n",
       "      <th>2</th>\n",
       "      <td>0.304</td>\n",
       "      <td>0.324324</td>\n",
       "      <td>0.8</td>\n",
       "      <td>0.636357</td>\n",
       "      <td>0.666667</td>\n",
       "      <td>1.0</td>\n",
       "      <td>0.0</td>\n",
       "      <td>0.569654</td>\n",
       "    </tr>\n",
       "    <tr>\n",
       "      <th>3</th>\n",
       "      <td>0.698</td>\n",
       "      <td>0.283784</td>\n",
       "      <td>0.1</td>\n",
       "      <td>0.000000</td>\n",
       "      <td>0.333333</td>\n",
       "      <td>0.0</td>\n",
       "      <td>0.0</td>\n",
       "      <td>0.469120</td>\n",
       "    </tr>\n",
       "    <tr>\n",
       "      <th>4</th>\n",
       "      <td>1.000</td>\n",
       "      <td>0.337838</td>\n",
       "      <td>0.2</td>\n",
       "      <td>0.500246</td>\n",
       "      <td>0.000000</td>\n",
       "      <td>1.0</td>\n",
       "      <td>1.0</td>\n",
       "      <td>0.395400</td>\n",
       "    </tr>\n",
       "  </tbody>\n",
       "</table>\n",
       "</div>"
      ],
      "text/plain": [
       "   CreditScore       Age  Tenure   Balance  NumOfProducts  HasCrCard  \\\n",
       "0        0.538  0.324324     0.2  0.000000       0.000000        1.0   \n",
       "1        0.516  0.310811     0.1  0.334031       0.000000        0.0   \n",
       "2        0.304  0.324324     0.8  0.636357       0.666667        1.0   \n",
       "3        0.698  0.283784     0.1  0.000000       0.333333        0.0   \n",
       "4        1.000  0.337838     0.2  0.500246       0.000000        1.0   \n",
       "\n",
       "   IsActiveMember  EstimatedSalary  \n",
       "0             1.0         0.506735  \n",
       "1             1.0         0.562709  \n",
       "2             0.0         0.569654  \n",
       "3             0.0         0.469120  \n",
       "4             1.0         0.395400  "
      ]
     },
     "execution_count": 11,
     "metadata": {},
     "output_type": "execute_result"
    }
   ],
   "source": [
    "scaler = MinMaxScaler()\n",
    "numerical.remove(\"RowNumber\")\n",
    "numerical.remove(\"CustomerId\")\n",
    "numerical.remove(\"Exited\")\n",
    "\n",
    "for record in numerical:\n",
    "    dataset[record] = scaler.fit_transform(dataset[[record]])\n",
    "    \n",
    "dataset[numerical].head()"
   ]
  },
  {
   "cell_type": "code",
   "execution_count": 12,
   "id": "removable-bennett",
   "metadata": {},
   "outputs": [],
   "source": [
    "X_train, X_test, Y_train, Y_test = train_test_split(dataset[numerical], dataset['Exited'], test_size=0.2)"
   ]
  },
  {
   "cell_type": "code",
   "execution_count": 13,
   "id": "systematic-pharmacology",
   "metadata": {},
   "outputs": [
    {
     "data": {
      "text/plain": [
       "0       1\n",
       "1       0\n",
       "2       1\n",
       "3       0\n",
       "4       0\n",
       "       ..\n",
       "9995    0\n",
       "9996    0\n",
       "9997    1\n",
       "9998    1\n",
       "9999    0\n",
       "Name: Exited, Length: 10000, dtype: int64"
      ]
     },
     "execution_count": 13,
     "metadata": {},
     "output_type": "execute_result"
    }
   ],
   "source": [
    "dataset['Exited']"
   ]
  },
  {
   "cell_type": "code",
   "execution_count": 14,
   "id": "acute-raise",
   "metadata": {},
   "outputs": [
    {
     "data": {
      "text/plain": [
       "(8000, 8)"
      ]
     },
     "execution_count": 14,
     "metadata": {},
     "output_type": "execute_result"
    }
   ],
   "source": [
    "X_train.shape"
   ]
  },
  {
   "cell_type": "code",
   "execution_count": 15,
   "id": "generic-portland",
   "metadata": {},
   "outputs": [],
   "source": [
    "model = Sequential([\n",
    "    Dense(units=4, input_dim=8, activation='relu'),\n",
    "    Dense(units=1, activation='sigmoid')\n",
    "])"
   ]
  },
  {
   "cell_type": "code",
   "execution_count": 16,
   "id": "boxed-nurse",
   "metadata": {},
   "outputs": [],
   "source": [
    "model.compile(optimizer='adam', loss='binary_crossentropy', metrics=['accuracy'])"
   ]
  },
  {
   "cell_type": "code",
   "execution_count": 17,
   "id": "artistic-startup",
   "metadata": {},
   "outputs": [
    {
     "name": "stdout",
     "output_type": "stream",
     "text": [
      "Epoch 1/20\n",
      "640/640 - 2s - loss: 0.5467 - accuracy: 0.7720 - val_loss: 0.5017 - val_accuracy: 0.7987\n",
      "Epoch 2/20\n",
      "640/640 - 0s - loss: 0.4973 - accuracy: 0.7972 - val_loss: 0.4854 - val_accuracy: 0.8000\n",
      "Epoch 3/20\n",
      "640/640 - 0s - loss: 0.4817 - accuracy: 0.7975 - val_loss: 0.4737 - val_accuracy: 0.7994\n",
      "Epoch 4/20\n",
      "640/640 - 0s - loss: 0.4716 - accuracy: 0.7977 - val_loss: 0.4650 - val_accuracy: 0.8044\n",
      "Epoch 5/20\n",
      "640/640 - 0s - loss: 0.4637 - accuracy: 0.7995 - val_loss: 0.4583 - val_accuracy: 0.8062\n",
      "Epoch 6/20\n",
      "640/640 - 0s - loss: 0.4573 - accuracy: 0.8016 - val_loss: 0.4531 - val_accuracy: 0.8062\n",
      "Epoch 7/20\n",
      "640/640 - 0s - loss: 0.4526 - accuracy: 0.8058 - val_loss: 0.4492 - val_accuracy: 0.8100\n",
      "Epoch 8/20\n",
      "640/640 - 0s - loss: 0.4483 - accuracy: 0.8086 - val_loss: 0.4465 - val_accuracy: 0.8094\n",
      "Epoch 9/20\n",
      "640/640 - 0s - loss: 0.4458 - accuracy: 0.8095 - val_loss: 0.4445 - val_accuracy: 0.8119\n",
      "Epoch 10/20\n",
      "640/640 - 0s - loss: 0.4441 - accuracy: 0.8098 - val_loss: 0.4431 - val_accuracy: 0.8138\n",
      "Epoch 11/20\n",
      "640/640 - 0s - loss: 0.4424 - accuracy: 0.8116 - val_loss: 0.4431 - val_accuracy: 0.8069\n",
      "Epoch 12/20\n",
      "640/640 - 0s - loss: 0.4408 - accuracy: 0.8108 - val_loss: 0.4409 - val_accuracy: 0.8087\n",
      "Epoch 13/20\n",
      "640/640 - 0s - loss: 0.4396 - accuracy: 0.8097 - val_loss: 0.4390 - val_accuracy: 0.8087\n",
      "Epoch 14/20\n",
      "640/640 - 0s - loss: 0.4376 - accuracy: 0.8100 - val_loss: 0.4372 - val_accuracy: 0.8031\n",
      "Epoch 15/20\n",
      "640/640 - 0s - loss: 0.4350 - accuracy: 0.8130 - val_loss: 0.4325 - val_accuracy: 0.8056\n",
      "Epoch 16/20\n",
      "640/640 - 0s - loss: 0.4318 - accuracy: 0.8117 - val_loss: 0.4295 - val_accuracy: 0.8069\n",
      "Epoch 17/20\n",
      "640/640 - 0s - loss: 0.4294 - accuracy: 0.8120 - val_loss: 0.4257 - val_accuracy: 0.8069\n",
      "Epoch 18/20\n",
      "640/640 - 0s - loss: 0.4263 - accuracy: 0.8131 - val_loss: 0.4235 - val_accuracy: 0.8081\n",
      "Epoch 19/20\n",
      "640/640 - 0s - loss: 0.4238 - accuracy: 0.8108 - val_loss: 0.4194 - val_accuracy: 0.8069\n",
      "Epoch 20/20\n",
      "640/640 - 0s - loss: 0.4208 - accuracy: 0.8156 - val_loss: 0.4167 - val_accuracy: 0.8087\n"
     ]
    }
   ],
   "source": [
    "model_history = model.fit(x=X_train, y=Y_train, validation_split=0.2, batch_size=10, epochs=20, verbose=2)"
   ]
  },
  {
   "cell_type": "code",
   "execution_count": 18,
   "id": "tamil-lightning",
   "metadata": {},
   "outputs": [
    {
     "data": {
      "text/plain": [
       "array([[0.7054358 ],\n",
       "       [0.03751114],\n",
       "       [0.22544134],\n",
       "       ...,\n",
       "       [0.14943206],\n",
       "       [0.7194668 ],\n",
       "       [0.2167733 ]], dtype=float32)"
      ]
     },
     "execution_count": 18,
     "metadata": {},
     "output_type": "execute_result"
    }
   ],
   "source": [
    "predicted_values = model.predict(X_test)\n",
    "predicted_values"
   ]
  },
  {
   "cell_type": "code",
   "execution_count": 19,
   "id": "infinite-minister",
   "metadata": {},
   "outputs": [
    {
     "data": {
      "text/plain": [
       "array([[ True],\n",
       "       [False],\n",
       "       [False],\n",
       "       ...,\n",
       "       [False],\n",
       "       [ True],\n",
       "       [False]])"
      ]
     },
     "execution_count": 19,
     "metadata": {},
     "output_type": "execute_result"
    }
   ],
   "source": [
    "predicted_values = (predicted_values > 0.5)\n",
    "predicted_values"
   ]
  },
  {
   "cell_type": "code",
   "execution_count": 20,
   "id": "established-airplane",
   "metadata": {},
   "outputs": [
    {
     "data": {
      "image/png": "[encoded data removed]",
      "text/plain": [
       "<Figure size 432x288 with 1 Axes>"
      ]
     },
     "metadata": {
      "needs_background": "light"
     },
     "output_type": "display_data"
    }
   ],
   "source": [
    "conf_mat = confusion_matrix(Y_test, predicted_values)\n",
    "conf_mat_df = pd.DataFrame(conf_mat, index=[0, 1], columns=[0, 1])\n",
    "cmap = sns.cubehelix_palette(light=1, as_cmap=True)\n",
    "h_map = sns.heatmap(conf_mat, annot=True, cbar=False, fmt='d', cmap=cmap)\n",
    "h_map.invert_yaxis()\n",
    "h_map.invert_xaxis()"
   ]
  },
  {
   "cell_type": "code",
   "execution_count": 21,
   "id": "worse-madison",
   "metadata": {},
   "outputs": [
    {
     "name": "stdout",
     "output_type": "stream",
     "text": [
      "              precision    recall  f1-score   support\n",
      "\n",
      "           0       0.82      0.98      0.89      1588\n",
      "           1       0.66      0.16      0.26       412\n",
      "\n",
      "    accuracy                           0.81      2000\n",
      "   macro avg       0.74      0.57      0.58      2000\n",
      "weighted avg       0.78      0.81      0.76      2000\n",
      "\n"
     ]
    }
   ],
   "source": [
    "class_report = classification_report(Y_test, predicted_values)\n",
    "print(class_report)"
   ]
  },
  {
   "cell_type": "code",
   "execution_count": 22,
   "id": "caring-jerusalem",
   "metadata": {},
   "outputs": [
    {
     "data": {
      "text/plain": [
       "0.81"
      ]
     },
     "execution_count": 22,
     "metadata": {},
     "output_type": "execute_result"
    }
   ],
   "source": [
    "accuracy = accuracy_score(Y_test, predicted_values)\n",
    "accuracy"
   ]
  },
  {
   "cell_type": "code",
   "execution_count": 23,
   "id": "senior-georgia",
   "metadata": {},
   "outputs": [
    {
     "data": {
      "text/plain": [
       "<matplotlib.legend.Legend at 0x211d7d21760>"
      ]
     },
     "execution_count": 23,
     "metadata": {},
     "output_type": "execute_result"
    },
    {
     "data": {
      "image/png": "[encoded data removed]",
      "text/plain": [
       "<Figure size 432x288 with 1 Axes>"
      ]
     },
     "metadata": {
      "needs_background": "light"
     },
     "output_type": "display_data"
    }
   ],
   "source": [
    "plt.subplot(211)\n",
    "plt.title('Accuracy')\n",
    "plt.plot(model_history.history['accuracy'], label='train')\n",
    "plt.plot(model_history.history['val_accuracy'], label='test')\n",
    "plt.legend()"
   ]
  },
  {
   "cell_type": "code",
   "execution_count": 24,
   "id": "foster-moisture",
   "metadata": {},
   "outputs": [
    {
     "data": {
      "text/plain": [
       "<matplotlib.legend.Legend at 0x211d7d75850>"
      ]
     },
     "execution_count": 24,
     "metadata": {},
     "output_type": "execute_result"
    },
    {
     "data": {
      "image/png": "[encoded data removed]",
      "text/plain": [
       "<Figure size 432x288 with 1 Axes>"
      ]
     },
     "metadata": {
      "needs_background": "light"
     },
     "output_type": "display_data"
    }
   ],
   "source": [
    "plt.subplot(211)\n",
    "plt.title('Loss')\n",
    "plt.plot(model_history.history['loss'], label='train')\n",
    "plt.plot(model_history.history['val_loss'], label='test')\n",
    "plt.legend()"
   ]
  },
  {
   "cell_type": "markdown",
   "id": "floral-rainbow",
   "metadata": {},
   "source": [
    "Dodavanje jos jednog sloja u neuronskoj mrezi"
   ]
  },
  {
   "cell_type": "code",
   "execution_count": 25,
   "id": "radio-surface",
   "metadata": {},
   "outputs": [
    {
     "name": "stdout",
     "output_type": "stream",
     "text": [
      "Epoch 1/20\n",
      "640/640 - 1s - loss: 0.6446 - accuracy: 0.7089 - val_loss: 0.5769 - val_accuracy: 0.7981\n",
      "Epoch 2/20\n",
      "640/640 - 0s - loss: 0.5498 - accuracy: 0.7966 - val_loss: 0.5282 - val_accuracy: 0.7981\n",
      "Epoch 3/20\n",
      "640/640 - 0s - loss: 0.5195 - accuracy: 0.7966 - val_loss: 0.5103 - val_accuracy: 0.7981\n",
      "Epoch 4/20\n",
      "640/640 - 0s - loss: 0.5058 - accuracy: 0.7966 - val_loss: 0.4954 - val_accuracy: 0.7981\n",
      "Epoch 5/20\n",
      "640/640 - 0s - loss: 0.4792 - accuracy: 0.8005 - val_loss: 0.4688 - val_accuracy: 0.8025\n",
      "Epoch 6/20\n",
      "640/640 - 0s - loss: 0.4573 - accuracy: 0.8120 - val_loss: 0.4471 - val_accuracy: 0.8150\n",
      "Epoch 7/20\n",
      "640/640 - 0s - loss: 0.4401 - accuracy: 0.8245 - val_loss: 0.4311 - val_accuracy: 0.8231\n",
      "Epoch 8/20\n",
      "640/640 - 0s - loss: 0.4280 - accuracy: 0.8288 - val_loss: 0.4187 - val_accuracy: 0.8244\n",
      "Epoch 9/20\n",
      "640/640 - 0s - loss: 0.4176 - accuracy: 0.8339 - val_loss: 0.4083 - val_accuracy: 0.8269\n",
      "Epoch 10/20\n",
      "640/640 - 0s - loss: 0.4097 - accuracy: 0.8344 - val_loss: 0.4000 - val_accuracy: 0.8350\n",
      "Epoch 11/20\n",
      "640/640 - 0s - loss: 0.4034 - accuracy: 0.8355 - val_loss: 0.3927 - val_accuracy: 0.8338\n",
      "Epoch 12/20\n",
      "640/640 - 0s - loss: 0.3987 - accuracy: 0.8373 - val_loss: 0.3891 - val_accuracy: 0.8419\n",
      "Epoch 13/20\n",
      "640/640 - 0s - loss: 0.3946 - accuracy: 0.8427 - val_loss: 0.3845 - val_accuracy: 0.8450\n",
      "Epoch 14/20\n",
      "640/640 - 0s - loss: 0.3919 - accuracy: 0.8406 - val_loss: 0.3810 - val_accuracy: 0.8388\n",
      "Epoch 15/20\n",
      "640/640 - 0s - loss: 0.3898 - accuracy: 0.8430 - val_loss: 0.3776 - val_accuracy: 0.8431\n",
      "Epoch 16/20\n",
      "640/640 - 0s - loss: 0.3879 - accuracy: 0.8445 - val_loss: 0.3749 - val_accuracy: 0.8425\n",
      "Epoch 17/20\n",
      "640/640 - 0s - loss: 0.3871 - accuracy: 0.8405 - val_loss: 0.3726 - val_accuracy: 0.8425\n",
      "Epoch 18/20\n",
      "640/640 - 0s - loss: 0.3846 - accuracy: 0.8431 - val_loss: 0.3721 - val_accuracy: 0.8406\n",
      "Epoch 19/20\n",
      "640/640 - 0s - loss: 0.3830 - accuracy: 0.8470 - val_loss: 0.3685 - val_accuracy: 0.8481\n",
      "Epoch 20/20\n",
      "640/640 - 0s - loss: 0.3822 - accuracy: 0.8459 - val_loss: 0.3656 - val_accuracy: 0.8462\n"
     ]
    }
   ],
   "source": [
    "model = Sequential([\n",
    "    Dense(units=4, input_shape=(8, ), activation='relu'),\n",
    "    Dense(units=4, activation='relu'),\n",
    "    Dense(units=1, activation='sigmoid')\n",
    "])\n",
    "model.compile(optimizer='adam', loss='binary_crossentropy', metrics=['accuracy'])\n",
    "model_history = model.fit(x=X_train, y=Y_train, validation_split=0.2, batch_size=10, epochs=20, verbose=2)"
   ]
  },
  {
   "cell_type": "code",
   "execution_count": 26,
   "id": "regulated-consultancy",
   "metadata": {},
   "outputs": [
    {
     "data": {
      "text/plain": [
       "array([[0.8058602 ],\n",
       "       [0.059412  ],\n",
       "       [0.2421093 ],\n",
       "       ...,\n",
       "       [0.22607878],\n",
       "       [0.7485668 ],\n",
       "       [0.22150752]], dtype=float32)"
      ]
     },
     "execution_count": 26,
     "metadata": {},
     "output_type": "execute_result"
    }
   ],
   "source": [
    "predicted_values = model.predict(X_test)\n",
    "predicted_values"
   ]
  },
  {
   "cell_type": "code",
   "execution_count": 27,
   "id": "distant-citation",
   "metadata": {},
   "outputs": [
    {
     "data": {
      "text/plain": [
       "0.8375"
      ]
     },
     "execution_count": 27,
     "metadata": {},
     "output_type": "execute_result"
    }
   ],
   "source": [
    "predicted_values = (predicted_values > 0.5)\n",
    "accuracy = accuracy_score(Y_test, predicted_values)\n",
    "accuracy"
   ]
  },
  {
   "cell_type": "markdown",
   "id": "sunset-tourist",
   "metadata": {},
   "source": [
    "Ubacujemo kategoricke kolone"
   ]
  },
  {
   "cell_type": "code",
   "execution_count": 28,
   "id": "sexual-chuck",
   "metadata": {},
   "outputs": [
    {
     "data": {
      "text/html": [
       "<div>\n",
       "<style scoped>\n",
       "    .dataframe tbody tr th:only-of-type {\n",
       "        vertical-align: middle;\n",
       "    }\n",
       "\n",
       "    .dataframe tbody tr th {\n",
       "        vertical-align: top;\n",
       "    }\n",
       "\n",
       "    .dataframe thead th {\n",
       "        text-align: right;\n",
       "    }\n",
       "</style>\n",
       "<table border=\"1\" class=\"dataframe\">\n",
       "  <thead>\n",
       "    <tr style=\"text-align: right;\">\n",
       "      <th></th>\n",
       "      <th>RowNumber</th>\n",
       "      <th>CustomerId</th>\n",
       "      <th>Surname</th>\n",
       "      <th>CreditScore</th>\n",
       "      <th>Geography</th>\n",
       "      <th>Gender</th>\n",
       "      <th>Age</th>\n",
       "      <th>Tenure</th>\n",
       "      <th>Balance</th>\n",
       "      <th>NumOfProducts</th>\n",
       "      <th>HasCrCard</th>\n",
       "      <th>IsActiveMember</th>\n",
       "      <th>EstimatedSalary</th>\n",
       "      <th>Exited</th>\n",
       "    </tr>\n",
       "  </thead>\n",
       "  <tbody>\n",
       "    <tr>\n",
       "      <th>0</th>\n",
       "      <td>1</td>\n",
       "      <td>15634602</td>\n",
       "      <td>Hargrave</td>\n",
       "      <td>0.538</td>\n",
       "      <td>France</td>\n",
       "      <td>Female</td>\n",
       "      <td>0.324324</td>\n",
       "      <td>0.2</td>\n",
       "      <td>0.000000</td>\n",
       "      <td>0.000000</td>\n",
       "      <td>1.0</td>\n",
       "      <td>1.0</td>\n",
       "      <td>0.506735</td>\n",
       "      <td>1</td>\n",
       "    </tr>\n",
       "    <tr>\n",
       "      <th>1</th>\n",
       "      <td>2</td>\n",
       "      <td>15647311</td>\n",
       "      <td>Hill</td>\n",
       "      <td>0.516</td>\n",
       "      <td>Spain</td>\n",
       "      <td>Female</td>\n",
       "      <td>0.310811</td>\n",
       "      <td>0.1</td>\n",
       "      <td>0.334031</td>\n",
       "      <td>0.000000</td>\n",
       "      <td>0.0</td>\n",
       "      <td>1.0</td>\n",
       "      <td>0.562709</td>\n",
       "      <td>0</td>\n",
       "    </tr>\n",
       "    <tr>\n",
       "      <th>2</th>\n",
       "      <td>3</td>\n",
       "      <td>15619304</td>\n",
       "      <td>Onio</td>\n",
       "      <td>0.304</td>\n",
       "      <td>France</td>\n",
       "      <td>Female</td>\n",
       "      <td>0.324324</td>\n",
       "      <td>0.8</td>\n",
       "      <td>0.636357</td>\n",
       "      <td>0.666667</td>\n",
       "      <td>1.0</td>\n",
       "      <td>0.0</td>\n",
       "      <td>0.569654</td>\n",
       "      <td>1</td>\n",
       "    </tr>\n",
       "    <tr>\n",
       "      <th>3</th>\n",
       "      <td>4</td>\n",
       "      <td>15701354</td>\n",
       "      <td>Boni</td>\n",
       "      <td>0.698</td>\n",
       "      <td>France</td>\n",
       "      <td>Female</td>\n",
       "      <td>0.283784</td>\n",
       "      <td>0.1</td>\n",
       "      <td>0.000000</td>\n",
       "      <td>0.333333</td>\n",
       "      <td>0.0</td>\n",
       "      <td>0.0</td>\n",
       "      <td>0.469120</td>\n",
       "      <td>0</td>\n",
       "    </tr>\n",
       "    <tr>\n",
       "      <th>4</th>\n",
       "      <td>5</td>\n",
       "      <td>15737888</td>\n",
       "      <td>Mitchell</td>\n",
       "      <td>1.000</td>\n",
       "      <td>Spain</td>\n",
       "      <td>Female</td>\n",
       "      <td>0.337838</td>\n",
       "      <td>0.2</td>\n",
       "      <td>0.500246</td>\n",
       "      <td>0.000000</td>\n",
       "      <td>1.0</td>\n",
       "      <td>1.0</td>\n",
       "      <td>0.395400</td>\n",
       "      <td>0</td>\n",
       "    </tr>\n",
       "    <tr>\n",
       "      <th>...</th>\n",
       "      <td>...</td>\n",
       "      <td>...</td>\n",
       "      <td>...</td>\n",
       "      <td>...</td>\n",
       "      <td>...</td>\n",
       "      <td>...</td>\n",
       "      <td>...</td>\n",
       "      <td>...</td>\n",
       "      <td>...</td>\n",
       "      <td>...</td>\n",
       "      <td>...</td>\n",
       "      <td>...</td>\n",
       "      <td>...</td>\n",
       "      <td>...</td>\n",
       "    </tr>\n",
       "    <tr>\n",
       "      <th>9995</th>\n",
       "      <td>9996</td>\n",
       "      <td>15606229</td>\n",
       "      <td>Obijiaku</td>\n",
       "      <td>0.842</td>\n",
       "      <td>France</td>\n",
       "      <td>Male</td>\n",
       "      <td>0.283784</td>\n",
       "      <td>0.5</td>\n",
       "      <td>0.000000</td>\n",
       "      <td>0.333333</td>\n",
       "      <td>1.0</td>\n",
       "      <td>0.0</td>\n",
       "      <td>0.481341</td>\n",
       "      <td>0</td>\n",
       "    </tr>\n",
       "    <tr>\n",
       "      <th>9996</th>\n",
       "      <td>9997</td>\n",
       "      <td>15569892</td>\n",
       "      <td>Johnstone</td>\n",
       "      <td>0.332</td>\n",
       "      <td>France</td>\n",
       "      <td>Male</td>\n",
       "      <td>0.229730</td>\n",
       "      <td>1.0</td>\n",
       "      <td>0.228657</td>\n",
       "      <td>0.000000</td>\n",
       "      <td>1.0</td>\n",
       "      <td>1.0</td>\n",
       "      <td>0.508490</td>\n",
       "      <td>0</td>\n",
       "    </tr>\n",
       "    <tr>\n",
       "      <th>9997</th>\n",
       "      <td>9998</td>\n",
       "      <td>15584532</td>\n",
       "      <td>Liu</td>\n",
       "      <td>0.718</td>\n",
       "      <td>France</td>\n",
       "      <td>Female</td>\n",
       "      <td>0.243243</td>\n",
       "      <td>0.7</td>\n",
       "      <td>0.000000</td>\n",
       "      <td>0.000000</td>\n",
       "      <td>0.0</td>\n",
       "      <td>1.0</td>\n",
       "      <td>0.210390</td>\n",
       "      <td>1</td>\n",
       "    </tr>\n",
       "    <tr>\n",
       "      <th>9998</th>\n",
       "      <td>9999</td>\n",
       "      <td>15682355</td>\n",
       "      <td>Sabbatini</td>\n",
       "      <td>0.844</td>\n",
       "      <td>Germany</td>\n",
       "      <td>Male</td>\n",
       "      <td>0.324324</td>\n",
       "      <td>0.3</td>\n",
       "      <td>0.299226</td>\n",
       "      <td>0.333333</td>\n",
       "      <td>1.0</td>\n",
       "      <td>0.0</td>\n",
       "      <td>0.464429</td>\n",
       "      <td>1</td>\n",
       "    </tr>\n",
       "    <tr>\n",
       "      <th>9999</th>\n",
       "      <td>10000</td>\n",
       "      <td>15628319</td>\n",
       "      <td>Walker</td>\n",
       "      <td>0.884</td>\n",
       "      <td>France</td>\n",
       "      <td>Female</td>\n",
       "      <td>0.135135</td>\n",
       "      <td>0.4</td>\n",
       "      <td>0.518708</td>\n",
       "      <td>0.000000</td>\n",
       "      <td>1.0</td>\n",
       "      <td>0.0</td>\n",
       "      <td>0.190914</td>\n",
       "      <td>0</td>\n",
       "    </tr>\n",
       "  </tbody>\n",
       "</table>\n",
       "<p>10000 rows × 14 columns</p>\n",
       "</div>"
      ],
      "text/plain": [
       "      RowNumber  CustomerId    Surname  CreditScore Geography  Gender  \\\n",
       "0             1    15634602   Hargrave        0.538    France  Female   \n",
       "1             2    15647311       Hill        0.516     Spain  Female   \n",
       "2             3    15619304       Onio        0.304    France  Female   \n",
       "3             4    15701354       Boni        0.698    France  Female   \n",
       "4             5    15737888   Mitchell        1.000     Spain  Female   \n",
       "...         ...         ...        ...          ...       ...     ...   \n",
       "9995       9996    15606229   Obijiaku        0.842    France    Male   \n",
       "9996       9997    15569892  Johnstone        0.332    France    Male   \n",
       "9997       9998    15584532        Liu        0.718    France  Female   \n",
       "9998       9999    15682355  Sabbatini        0.844   Germany    Male   \n",
       "9999      10000    15628319     Walker        0.884    France  Female   \n",
       "\n",
       "           Age  Tenure   Balance  NumOfProducts  HasCrCard  IsActiveMember  \\\n",
       "0     0.324324     0.2  0.000000       0.000000        1.0             1.0   \n",
       "1     0.310811     0.1  0.334031       0.000000        0.0             1.0   \n",
       "2     0.324324     0.8  0.636357       0.666667        1.0             0.0   \n",
       "3     0.283784     0.1  0.000000       0.333333        0.0             0.0   \n",
       "4     0.337838     0.2  0.500246       0.000000        1.0             1.0   \n",
       "...        ...     ...       ...            ...        ...             ...   \n",
       "9995  0.283784     0.5  0.000000       0.333333        1.0             0.0   \n",
       "9996  0.229730     1.0  0.228657       0.000000        1.0             1.0   \n",
       "9997  0.243243     0.7  0.000000       0.000000        0.0             1.0   \n",
       "9998  0.324324     0.3  0.299226       0.333333        1.0             0.0   \n",
       "9999  0.135135     0.4  0.518708       0.000000        1.0             0.0   \n",
       "\n",
       "      EstimatedSalary  Exited  \n",
       "0            0.506735       1  \n",
       "1            0.562709       0  \n",
       "2            0.569654       1  \n",
       "3            0.469120       0  \n",
       "4            0.395400       0  \n",
       "...               ...     ...  \n",
       "9995         0.481341       0  \n",
       "9996         0.508490       0  \n",
       "9997         0.210390       1  \n",
       "9998         0.464429       1  \n",
       "9999         0.190914       0  \n",
       "\n",
       "[10000 rows x 14 columns]"
      ]
     },
     "execution_count": 28,
     "metadata": {},
     "output_type": "execute_result"
    }
   ],
   "source": [
    "dataset"
   ]
  },
  {
   "cell_type": "code",
   "execution_count": 29,
   "id": "special-airline",
   "metadata": {},
   "outputs": [
    {
     "data": {
      "text/html": [
       "<div>\n",
       "<style scoped>\n",
       "    .dataframe tbody tr th:only-of-type {\n",
       "        vertical-align: middle;\n",
       "    }\n",
       "\n",
       "    .dataframe tbody tr th {\n",
       "        vertical-align: top;\n",
       "    }\n",
       "\n",
       "    .dataframe thead th {\n",
       "        text-align: right;\n",
       "    }\n",
       "</style>\n",
       "<table border=\"1\" class=\"dataframe\">\n",
       "  <thead>\n",
       "    <tr style=\"text-align: right;\">\n",
       "      <th></th>\n",
       "      <th>RowNumber</th>\n",
       "      <th>CustomerId</th>\n",
       "      <th>Surname</th>\n",
       "      <th>CreditScore</th>\n",
       "      <th>Geography</th>\n",
       "      <th>Gender</th>\n",
       "      <th>Age</th>\n",
       "      <th>Tenure</th>\n",
       "      <th>Balance</th>\n",
       "      <th>NumOfProducts</th>\n",
       "      <th>HasCrCard</th>\n",
       "      <th>IsActiveMember</th>\n",
       "      <th>EstimatedSalary</th>\n",
       "      <th>Exited</th>\n",
       "    </tr>\n",
       "  </thead>\n",
       "  <tbody>\n",
       "    <tr>\n",
       "      <th>0</th>\n",
       "      <td>1</td>\n",
       "      <td>15634602</td>\n",
       "      <td>Hargrave</td>\n",
       "      <td>0.538</td>\n",
       "      <td>0.0</td>\n",
       "      <td>1</td>\n",
       "      <td>0.324324</td>\n",
       "      <td>0.2</td>\n",
       "      <td>0.000000</td>\n",
       "      <td>0.000000</td>\n",
       "      <td>1.0</td>\n",
       "      <td>1.0</td>\n",
       "      <td>0.506735</td>\n",
       "      <td>1</td>\n",
       "    </tr>\n",
       "    <tr>\n",
       "      <th>1</th>\n",
       "      <td>2</td>\n",
       "      <td>15647311</td>\n",
       "      <td>Hill</td>\n",
       "      <td>0.516</td>\n",
       "      <td>1.0</td>\n",
       "      <td>1</td>\n",
       "      <td>0.310811</td>\n",
       "      <td>0.1</td>\n",
       "      <td>0.334031</td>\n",
       "      <td>0.000000</td>\n",
       "      <td>0.0</td>\n",
       "      <td>1.0</td>\n",
       "      <td>0.562709</td>\n",
       "      <td>0</td>\n",
       "    </tr>\n",
       "    <tr>\n",
       "      <th>2</th>\n",
       "      <td>3</td>\n",
       "      <td>15619304</td>\n",
       "      <td>Onio</td>\n",
       "      <td>0.304</td>\n",
       "      <td>0.0</td>\n",
       "      <td>1</td>\n",
       "      <td>0.324324</td>\n",
       "      <td>0.8</td>\n",
       "      <td>0.636357</td>\n",
       "      <td>0.666667</td>\n",
       "      <td>1.0</td>\n",
       "      <td>0.0</td>\n",
       "      <td>0.569654</td>\n",
       "      <td>1</td>\n",
       "    </tr>\n",
       "    <tr>\n",
       "      <th>3</th>\n",
       "      <td>4</td>\n",
       "      <td>15701354</td>\n",
       "      <td>Boni</td>\n",
       "      <td>0.698</td>\n",
       "      <td>0.0</td>\n",
       "      <td>1</td>\n",
       "      <td>0.283784</td>\n",
       "      <td>0.1</td>\n",
       "      <td>0.000000</td>\n",
       "      <td>0.333333</td>\n",
       "      <td>0.0</td>\n",
       "      <td>0.0</td>\n",
       "      <td>0.469120</td>\n",
       "      <td>0</td>\n",
       "    </tr>\n",
       "    <tr>\n",
       "      <th>4</th>\n",
       "      <td>5</td>\n",
       "      <td>15737888</td>\n",
       "      <td>Mitchell</td>\n",
       "      <td>1.000</td>\n",
       "      <td>1.0</td>\n",
       "      <td>1</td>\n",
       "      <td>0.337838</td>\n",
       "      <td>0.2</td>\n",
       "      <td>0.500246</td>\n",
       "      <td>0.000000</td>\n",
       "      <td>1.0</td>\n",
       "      <td>1.0</td>\n",
       "      <td>0.395400</td>\n",
       "      <td>0</td>\n",
       "    </tr>\n",
       "    <tr>\n",
       "      <th>...</th>\n",
       "      <td>...</td>\n",
       "      <td>...</td>\n",
       "      <td>...</td>\n",
       "      <td>...</td>\n",
       "      <td>...</td>\n",
       "      <td>...</td>\n",
       "      <td>...</td>\n",
       "      <td>...</td>\n",
       "      <td>...</td>\n",
       "      <td>...</td>\n",
       "      <td>...</td>\n",
       "      <td>...</td>\n",
       "      <td>...</td>\n",
       "      <td>...</td>\n",
       "    </tr>\n",
       "    <tr>\n",
       "      <th>9995</th>\n",
       "      <td>9996</td>\n",
       "      <td>15606229</td>\n",
       "      <td>Obijiaku</td>\n",
       "      <td>0.842</td>\n",
       "      <td>0.0</td>\n",
       "      <td>0</td>\n",
       "      <td>0.283784</td>\n",
       "      <td>0.5</td>\n",
       "      <td>0.000000</td>\n",
       "      <td>0.333333</td>\n",
       "      <td>1.0</td>\n",
       "      <td>0.0</td>\n",
       "      <td>0.481341</td>\n",
       "      <td>0</td>\n",
       "    </tr>\n",
       "    <tr>\n",
       "      <th>9996</th>\n",
       "      <td>9997</td>\n",
       "      <td>15569892</td>\n",
       "      <td>Johnstone</td>\n",
       "      <td>0.332</td>\n",
       "      <td>0.0</td>\n",
       "      <td>0</td>\n",
       "      <td>0.229730</td>\n",
       "      <td>1.0</td>\n",
       "      <td>0.228657</td>\n",
       "      <td>0.000000</td>\n",
       "      <td>1.0</td>\n",
       "      <td>1.0</td>\n",
       "      <td>0.508490</td>\n",
       "      <td>0</td>\n",
       "    </tr>\n",
       "    <tr>\n",
       "      <th>9997</th>\n",
       "      <td>9998</td>\n",
       "      <td>15584532</td>\n",
       "      <td>Liu</td>\n",
       "      <td>0.718</td>\n",
       "      <td>0.0</td>\n",
       "      <td>1</td>\n",
       "      <td>0.243243</td>\n",
       "      <td>0.7</td>\n",
       "      <td>0.000000</td>\n",
       "      <td>0.000000</td>\n",
       "      <td>0.0</td>\n",
       "      <td>1.0</td>\n",
       "      <td>0.210390</td>\n",
       "      <td>1</td>\n",
       "    </tr>\n",
       "    <tr>\n",
       "      <th>9998</th>\n",
       "      <td>9999</td>\n",
       "      <td>15682355</td>\n",
       "      <td>Sabbatini</td>\n",
       "      <td>0.844</td>\n",
       "      <td>0.5</td>\n",
       "      <td>0</td>\n",
       "      <td>0.324324</td>\n",
       "      <td>0.3</td>\n",
       "      <td>0.299226</td>\n",
       "      <td>0.333333</td>\n",
       "      <td>1.0</td>\n",
       "      <td>0.0</td>\n",
       "      <td>0.464429</td>\n",
       "      <td>1</td>\n",
       "    </tr>\n",
       "    <tr>\n",
       "      <th>9999</th>\n",
       "      <td>10000</td>\n",
       "      <td>15628319</td>\n",
       "      <td>Walker</td>\n",
       "      <td>0.884</td>\n",
       "      <td>0.0</td>\n",
       "      <td>1</td>\n",
       "      <td>0.135135</td>\n",
       "      <td>0.4</td>\n",
       "      <td>0.518708</td>\n",
       "      <td>0.000000</td>\n",
       "      <td>1.0</td>\n",
       "      <td>0.0</td>\n",
       "      <td>0.190914</td>\n",
       "      <td>0</td>\n",
       "    </tr>\n",
       "  </tbody>\n",
       "</table>\n",
       "<p>10000 rows × 14 columns</p>\n",
       "</div>"
      ],
      "text/plain": [
       "      RowNumber  CustomerId    Surname  CreditScore  Geography  Gender  \\\n",
       "0             1    15634602   Hargrave        0.538        0.0       1   \n",
       "1             2    15647311       Hill        0.516        1.0       1   \n",
       "2             3    15619304       Onio        0.304        0.0       1   \n",
       "3             4    15701354       Boni        0.698        0.0       1   \n",
       "4             5    15737888   Mitchell        1.000        1.0       1   \n",
       "...         ...         ...        ...          ...        ...     ...   \n",
       "9995       9996    15606229   Obijiaku        0.842        0.0       0   \n",
       "9996       9997    15569892  Johnstone        0.332        0.0       0   \n",
       "9997       9998    15584532        Liu        0.718        0.0       1   \n",
       "9998       9999    15682355  Sabbatini        0.844        0.5       0   \n",
       "9999      10000    15628319     Walker        0.884        0.0       1   \n",
       "\n",
       "           Age  Tenure   Balance  NumOfProducts  HasCrCard  IsActiveMember  \\\n",
       "0     0.324324     0.2  0.000000       0.000000        1.0             1.0   \n",
       "1     0.310811     0.1  0.334031       0.000000        0.0             1.0   \n",
       "2     0.324324     0.8  0.636357       0.666667        1.0             0.0   \n",
       "3     0.283784     0.1  0.000000       0.333333        0.0             0.0   \n",
       "4     0.337838     0.2  0.500246       0.000000        1.0             1.0   \n",
       "...        ...     ...       ...            ...        ...             ...   \n",
       "9995  0.283784     0.5  0.000000       0.333333        1.0             0.0   \n",
       "9996  0.229730     1.0  0.228657       0.000000        1.0             1.0   \n",
       "9997  0.243243     0.7  0.000000       0.000000        0.0             1.0   \n",
       "9998  0.324324     0.3  0.299226       0.333333        1.0             0.0   \n",
       "9999  0.135135     0.4  0.518708       0.000000        1.0             0.0   \n",
       "\n",
       "      EstimatedSalary  Exited  \n",
       "0            0.506735       1  \n",
       "1            0.562709       0  \n",
       "2            0.569654       1  \n",
       "3            0.469120       0  \n",
       "4            0.395400       0  \n",
       "...               ...     ...  \n",
       "9995         0.481341       0  \n",
       "9996         0.508490       0  \n",
       "9997         0.210390       1  \n",
       "9998         0.464429       1  \n",
       "9999         0.190914       0  \n",
       "\n",
       "[10000 rows x 14 columns]"
      ]
     },
     "execution_count": 29,
     "metadata": {},
     "output_type": "execute_result"
    }
   ],
   "source": [
    "dataset['Gender'] = dataset['Gender'].replace(['Male'],int('0'))\n",
    "dataset['Gender'] = dataset['Gender'].replace(['Female'],int('1'))\n",
    "\n",
    "dataset['Geography'] = dataset['Geography'].replace(['France'],int('0'))\n",
    "dataset['Geography'] = dataset['Geography'].replace(['Germany'],int('1'))\n",
    "dataset['Geography'] = dataset['Geography'].replace(['Spain'],int('2'))\n",
    "\n",
    "dataset['Geography'] = scaler.fit_transform(dataset[['Geography']])\n",
    "\n",
    "dataset"
   ]
  },
  {
   "cell_type": "code",
   "execution_count": 30,
   "id": "pretty-dubai",
   "metadata": {},
   "outputs": [
    {
     "data": {
      "text/html": [
       "<div>\n",
       "<style scoped>\n",
       "    .dataframe tbody tr th:only-of-type {\n",
       "        vertical-align: middle;\n",
       "    }\n",
       "\n",
       "    .dataframe tbody tr th {\n",
       "        vertical-align: top;\n",
       "    }\n",
       "\n",
       "    .dataframe thead th {\n",
       "        text-align: right;\n",
       "    }\n",
       "</style>\n",
       "<table border=\"1\" class=\"dataframe\">\n",
       "  <thead>\n",
       "    <tr style=\"text-align: right;\">\n",
       "      <th></th>\n",
       "      <th>CreditScore</th>\n",
       "      <th>Geography</th>\n",
       "      <th>Gender</th>\n",
       "      <th>Age</th>\n",
       "      <th>Tenure</th>\n",
       "      <th>Balance</th>\n",
       "      <th>NumOfProducts</th>\n",
       "      <th>HasCrCard</th>\n",
       "      <th>IsActiveMember</th>\n",
       "      <th>EstimatedSalary</th>\n",
       "    </tr>\n",
       "  </thead>\n",
       "  <tbody>\n",
       "    <tr>\n",
       "      <th>0</th>\n",
       "      <td>0.538</td>\n",
       "      <td>0.0</td>\n",
       "      <td>1</td>\n",
       "      <td>0.324324</td>\n",
       "      <td>0.2</td>\n",
       "      <td>0.000000</td>\n",
       "      <td>0.000000</td>\n",
       "      <td>1.0</td>\n",
       "      <td>1.0</td>\n",
       "      <td>0.506735</td>\n",
       "    </tr>\n",
       "    <tr>\n",
       "      <th>1</th>\n",
       "      <td>0.516</td>\n",
       "      <td>1.0</td>\n",
       "      <td>1</td>\n",
       "      <td>0.310811</td>\n",
       "      <td>0.1</td>\n",
       "      <td>0.334031</td>\n",
       "      <td>0.000000</td>\n",
       "      <td>0.0</td>\n",
       "      <td>1.0</td>\n",
       "      <td>0.562709</td>\n",
       "    </tr>\n",
       "    <tr>\n",
       "      <th>2</th>\n",
       "      <td>0.304</td>\n",
       "      <td>0.0</td>\n",
       "      <td>1</td>\n",
       "      <td>0.324324</td>\n",
       "      <td>0.8</td>\n",
       "      <td>0.636357</td>\n",
       "      <td>0.666667</td>\n",
       "      <td>1.0</td>\n",
       "      <td>0.0</td>\n",
       "      <td>0.569654</td>\n",
       "    </tr>\n",
       "    <tr>\n",
       "      <th>3</th>\n",
       "      <td>0.698</td>\n",
       "      <td>0.0</td>\n",
       "      <td>1</td>\n",
       "      <td>0.283784</td>\n",
       "      <td>0.1</td>\n",
       "      <td>0.000000</td>\n",
       "      <td>0.333333</td>\n",
       "      <td>0.0</td>\n",
       "      <td>0.0</td>\n",
       "      <td>0.469120</td>\n",
       "    </tr>\n",
       "    <tr>\n",
       "      <th>4</th>\n",
       "      <td>1.000</td>\n",
       "      <td>1.0</td>\n",
       "      <td>1</td>\n",
       "      <td>0.337838</td>\n",
       "      <td>0.2</td>\n",
       "      <td>0.500246</td>\n",
       "      <td>0.000000</td>\n",
       "      <td>1.0</td>\n",
       "      <td>1.0</td>\n",
       "      <td>0.395400</td>\n",
       "    </tr>\n",
       "    <tr>\n",
       "      <th>...</th>\n",
       "      <td>...</td>\n",
       "      <td>...</td>\n",
       "      <td>...</td>\n",
       "      <td>...</td>\n",
       "      <td>...</td>\n",
       "      <td>...</td>\n",
       "      <td>...</td>\n",
       "      <td>...</td>\n",
       "      <td>...</td>\n",
       "      <td>...</td>\n",
       "    </tr>\n",
       "    <tr>\n",
       "      <th>9995</th>\n",
       "      <td>0.842</td>\n",
       "      <td>0.0</td>\n",
       "      <td>0</td>\n",
       "      <td>0.283784</td>\n",
       "      <td>0.5</td>\n",
       "      <td>0.000000</td>\n",
       "      <td>0.333333</td>\n",
       "      <td>1.0</td>\n",
       "      <td>0.0</td>\n",
       "      <td>0.481341</td>\n",
       "    </tr>\n",
       "    <tr>\n",
       "      <th>9996</th>\n",
       "      <td>0.332</td>\n",
       "      <td>0.0</td>\n",
       "      <td>0</td>\n",
       "      <td>0.229730</td>\n",
       "      <td>1.0</td>\n",
       "      <td>0.228657</td>\n",
       "      <td>0.000000</td>\n",
       "      <td>1.0</td>\n",
       "      <td>1.0</td>\n",
       "      <td>0.508490</td>\n",
       "    </tr>\n",
       "    <tr>\n",
       "      <th>9997</th>\n",
       "      <td>0.718</td>\n",
       "      <td>0.0</td>\n",
       "      <td>1</td>\n",
       "      <td>0.243243</td>\n",
       "      <td>0.7</td>\n",
       "      <td>0.000000</td>\n",
       "      <td>0.000000</td>\n",
       "      <td>0.0</td>\n",
       "      <td>1.0</td>\n",
       "      <td>0.210390</td>\n",
       "    </tr>\n",
       "    <tr>\n",
       "      <th>9998</th>\n",
       "      <td>0.844</td>\n",
       "      <td>0.5</td>\n",
       "      <td>0</td>\n",
       "      <td>0.324324</td>\n",
       "      <td>0.3</td>\n",
       "      <td>0.299226</td>\n",
       "      <td>0.333333</td>\n",
       "      <td>1.0</td>\n",
       "      <td>0.0</td>\n",
       "      <td>0.464429</td>\n",
       "    </tr>\n",
       "    <tr>\n",
       "      <th>9999</th>\n",
       "      <td>0.884</td>\n",
       "      <td>0.0</td>\n",
       "      <td>1</td>\n",
       "      <td>0.135135</td>\n",
       "      <td>0.4</td>\n",
       "      <td>0.518708</td>\n",
       "      <td>0.000000</td>\n",
       "      <td>1.0</td>\n",
       "      <td>0.0</td>\n",
       "      <td>0.190914</td>\n",
       "    </tr>\n",
       "  </tbody>\n",
       "</table>\n",
       "<p>10000 rows × 10 columns</p>\n",
       "</div>"
      ],
      "text/plain": [
       "      CreditScore  Geography  Gender       Age  Tenure   Balance  \\\n",
       "0           0.538        0.0       1  0.324324     0.2  0.000000   \n",
       "1           0.516        1.0       1  0.310811     0.1  0.334031   \n",
       "2           0.304        0.0       1  0.324324     0.8  0.636357   \n",
       "3           0.698        0.0       1  0.283784     0.1  0.000000   \n",
       "4           1.000        1.0       1  0.337838     0.2  0.500246   \n",
       "...           ...        ...     ...       ...     ...       ...   \n",
       "9995        0.842        0.0       0  0.283784     0.5  0.000000   \n",
       "9996        0.332        0.0       0  0.229730     1.0  0.228657   \n",
       "9997        0.718        0.0       1  0.243243     0.7  0.000000   \n",
       "9998        0.844        0.5       0  0.324324     0.3  0.299226   \n",
       "9999        0.884        0.0       1  0.135135     0.4  0.518708   \n",
       "\n",
       "      NumOfProducts  HasCrCard  IsActiveMember  EstimatedSalary  \n",
       "0          0.000000        1.0             1.0         0.506735  \n",
       "1          0.000000        0.0             1.0         0.562709  \n",
       "2          0.666667        1.0             0.0         0.569654  \n",
       "3          0.333333        0.0             0.0         0.469120  \n",
       "4          0.000000        1.0             1.0         0.395400  \n",
       "...             ...        ...             ...              ...  \n",
       "9995       0.333333        1.0             0.0         0.481341  \n",
       "9996       0.000000        1.0             1.0         0.508490  \n",
       "9997       0.000000        0.0             1.0         0.210390  \n",
       "9998       0.333333        1.0             0.0         0.464429  \n",
       "9999       0.000000        1.0             0.0         0.190914  \n",
       "\n",
       "[10000 rows x 10 columns]"
      ]
     },
     "execution_count": 30,
     "metadata": {},
     "output_type": "execute_result"
    }
   ],
   "source": [
    "X = dataset.iloc[:, 3:13]\n",
    "Y = dataset.iloc[:, 13]\n",
    "X"
   ]
  },
  {
   "cell_type": "code",
   "execution_count": 31,
   "id": "failing-religion",
   "metadata": {},
   "outputs": [
    {
     "data": {
      "text/plain": [
       "(8000, 10)"
      ]
     },
     "execution_count": 31,
     "metadata": {},
     "output_type": "execute_result"
    }
   ],
   "source": [
    "X_train, X_test, y_train, y_test = train_test_split(X,Y, test_size=0.2, random_state=0)\n",
    "X_train.shape"
   ]
  },
  {
   "cell_type": "code",
   "execution_count": 32,
   "id": "upset-reservation",
   "metadata": {},
   "outputs": [
    {
     "name": "stdout",
     "output_type": "stream",
     "text": [
      "Epoch 1/20\n",
      "640/640 - 1s - loss: 0.5322 - accuracy: 0.7647 - val_loss: 0.4942 - val_accuracy: 0.7975\n",
      "Epoch 2/20\n",
      "640/640 - 0s - loss: 0.4859 - accuracy: 0.7962 - val_loss: 0.4801 - val_accuracy: 0.7975\n",
      "Epoch 3/20\n",
      "640/640 - 0s - loss: 0.4737 - accuracy: 0.7975 - val_loss: 0.4705 - val_accuracy: 0.7981\n",
      "Epoch 4/20\n",
      "640/640 - 0s - loss: 0.4639 - accuracy: 0.8003 - val_loss: 0.4628 - val_accuracy: 0.8019\n",
      "Epoch 5/20\n",
      "640/640 - 0s - loss: 0.4549 - accuracy: 0.8027 - val_loss: 0.4547 - val_accuracy: 0.8075\n",
      "Epoch 6/20\n",
      "640/640 - 0s - loss: 0.4454 - accuracy: 0.8062 - val_loss: 0.4486 - val_accuracy: 0.8087\n",
      "Epoch 7/20\n",
      "640/640 - 0s - loss: 0.4382 - accuracy: 0.8091 - val_loss: 0.4421 - val_accuracy: 0.8112\n",
      "Epoch 8/20\n",
      "640/640 - 0s - loss: 0.4326 - accuracy: 0.8117 - val_loss: 0.4383 - val_accuracy: 0.8112\n",
      "Epoch 9/20\n",
      "640/640 - 0s - loss: 0.4283 - accuracy: 0.8109 - val_loss: 0.4346 - val_accuracy: 0.8112\n",
      "Epoch 10/20\n",
      "640/640 - 0s - loss: 0.4243 - accuracy: 0.8131 - val_loss: 0.4312 - val_accuracy: 0.8144\n",
      "Epoch 11/20\n",
      "640/640 - 0s - loss: 0.4208 - accuracy: 0.8184 - val_loss: 0.4298 - val_accuracy: 0.8163\n",
      "Epoch 12/20\n",
      "640/640 - 0s - loss: 0.4187 - accuracy: 0.8152 - val_loss: 0.4268 - val_accuracy: 0.8169\n",
      "Epoch 13/20\n",
      "640/640 - 0s - loss: 0.4157 - accuracy: 0.8184 - val_loss: 0.4251 - val_accuracy: 0.8169\n",
      "Epoch 14/20\n",
      "640/640 - 0s - loss: 0.4136 - accuracy: 0.8181 - val_loss: 0.4221 - val_accuracy: 0.8181\n",
      "Epoch 15/20\n",
      "640/640 - 0s - loss: 0.4105 - accuracy: 0.8208 - val_loss: 0.4202 - val_accuracy: 0.8175\n",
      "Epoch 16/20\n",
      "640/640 - 0s - loss: 0.4086 - accuracy: 0.8211 - val_loss: 0.4182 - val_accuracy: 0.8156\n",
      "Epoch 17/20\n",
      "640/640 - 0s - loss: 0.4071 - accuracy: 0.8223 - val_loss: 0.4189 - val_accuracy: 0.8163\n",
      "Epoch 18/20\n",
      "640/640 - 0s - loss: 0.4053 - accuracy: 0.8250 - val_loss: 0.4146 - val_accuracy: 0.8194\n",
      "Epoch 19/20\n",
      "640/640 - 0s - loss: 0.4033 - accuracy: 0.8277 - val_loss: 0.4135 - val_accuracy: 0.8225\n",
      "Epoch 20/20\n",
      "640/640 - 0s - loss: 0.4015 - accuracy: 0.8245 - val_loss: 0.4126 - val_accuracy: 0.8244\n"
     ]
    }
   ],
   "source": [
    "model = Sequential([\n",
    "    Dense(units=5, input_shape=(10, ), activation='relu'),\n",
    "    Dense(units=1, activation='sigmoid')\n",
    "])\n",
    "\n",
    "model.compile(optimizer='adam', loss='binary_crossentropy', metrics=['accuracy'])\n",
    "model_history = model.fit(x=X_train, y=y_train, validation_split=0.2, batch_size=10, epochs=20, verbose=2)"
   ]
  },
  {
   "cell_type": "code",
   "execution_count": 33,
   "id": "sapphire-mistress",
   "metadata": {},
   "outputs": [
    {
     "data": {
      "text/plain": [
       "array([[0.15627608],\n",
       "       [0.4627501 ],\n",
       "       [0.20821002],\n",
       "       ...,\n",
       "       [0.24076685],\n",
       "       [0.06537887],\n",
       "       [0.18724477]], dtype=float32)"
      ]
     },
     "execution_count": 33,
     "metadata": {},
     "output_type": "execute_result"
    }
   ],
   "source": [
    "predicted_values = model.predict(X_test)\n",
    "predicted_values"
   ]
  },
  {
   "cell_type": "code",
   "execution_count": 34,
   "id": "southeast-nursing",
   "metadata": {},
   "outputs": [
    {
     "data": {
      "text/plain": [
       "array([[False],\n",
       "       [False],\n",
       "       [False],\n",
       "       ...,\n",
       "       [False],\n",
       "       [False],\n",
       "       [False]])"
      ]
     },
     "execution_count": 34,
     "metadata": {},
     "output_type": "execute_result"
    }
   ],
   "source": [
    "predicted_values = (predicted_values > 0.5)\n",
    "predicted_values"
   ]
  },
  {
   "cell_type": "code",
   "execution_count": 35,
   "id": "caring-render",
   "metadata": {},
   "outputs": [
    {
     "data": {
      "image/png": "[encoded data removed]",
      "text/plain": [
       "<Figure size 432x288 with 1 Axes>"
      ]
     },
     "metadata": {
      "needs_background": "light"
     },
     "output_type": "display_data"
    }
   ],
   "source": [
    "conf_mat = confusion_matrix(y_test, predicted_values)\n",
    "conf_mat_df = pd.DataFrame(conf_mat, index=[0, 1], columns=[0, 1])\n",
    "cmap = sns.cubehelix_palette(light=1, as_cmap=True)\n",
    "h_map = sns.heatmap(conf_mat, annot=True, cbar=False, fmt='d', cmap=cmap)\n",
    "h_map.invert_yaxis()\n",
    "h_map.invert_xaxis()"
   ]
  },
  {
   "cell_type": "code",
   "execution_count": 36,
   "id": "frozen-synthesis",
   "metadata": {},
   "outputs": [
    {
     "name": "stdout",
     "output_type": "stream",
     "text": [
      "              precision    recall  f1-score   support\n",
      "\n",
      "           0       0.84      0.97      0.90      1595\n",
      "           1       0.70      0.30      0.42       405\n",
      "\n",
      "    accuracy                           0.83      2000\n",
      "   macro avg       0.77      0.63      0.66      2000\n",
      "weighted avg       0.82      0.83      0.80      2000\n",
      "\n"
     ]
    }
   ],
   "source": [
    "class_report = classification_report(y_test, predicted_values)\n",
    "print(class_report)"
   ]
  },
  {
   "cell_type": "code",
   "execution_count": 37,
   "id": "beneficial-oregon",
   "metadata": {},
   "outputs": [
    {
     "data": {
      "text/plain": [
       "0.832"
      ]
     },
     "execution_count": 37,
     "metadata": {},
     "output_type": "execute_result"
    }
   ],
   "source": [
    "accuracy = accuracy_score(y_test, predicted_values)\n",
    "accuracy"
   ]
  },
  {
   "cell_type": "code",
   "execution_count": 38,
   "id": "going-housing",
   "metadata": {},
   "outputs": [
    {
     "data": {
      "text/plain": [
       "<matplotlib.legend.Legend at 0x211d91eb580>"
      ]
     },
     "execution_count": 38,
     "metadata": {},
     "output_type": "execute_result"
    },
    {
     "data": {
      "image/png": "[encoded data removed]",
      "text/plain": [
       "<Figure size 432x288 with 1 Axes>"
      ]
     },
     "metadata": {
      "needs_background": "light"
     },
     "output_type": "display_data"
    }
   ],
   "source": [
    "plt.subplot(211)\n",
    "plt.title('Accuracy')\n",
    "plt.plot(model_history.history['accuracy'], label='train')\n",
    "plt.plot(model_history.history['val_accuracy'], label='test')\n",
    "plt.legend()"
   ]
  },
  {
   "cell_type": "code",
   "execution_count": 39,
   "id": "afraid-default",
   "metadata": {},
   "outputs": [
    {
     "data": {
      "text/plain": [
       "<matplotlib.legend.Legend at 0x211da6337c0>"
      ]
     },
     "execution_count": 39,
     "metadata": {},
     "output_type": "execute_result"
    },
    {
     "data": {
      "image/png": "[encoded data removed]",
      "text/plain": [
       "<Figure size 432x288 with 1 Axes>"
      ]
     },
     "metadata": {
      "needs_background": "light"
     },
     "output_type": "display_data"
    }
   ],
   "source": [
    "plt.subplot(211)\n",
    "plt.title('Loss')\n",
    "plt.plot(model_history.history['loss'], label='train')\n",
    "plt.plot(model_history.history['val_loss'], label='test')\n",
    "plt.legend()"
   ]
  },
  {
   "cell_type": "code",
   "execution_count": 41,
   "id": "mounted-rebecca",
   "metadata": {},
   "outputs": [
    {
     "name": "stdout",
     "output_type": "stream",
     "text": [
      "Epoch 1/20\n",
      "640/640 - 1s - loss: 0.5291 - accuracy: 0.7759 - val_loss: 0.4981 - val_accuracy: 0.7969\n",
      "Epoch 2/20\n",
      "640/640 - 0s - loss: 0.4887 - accuracy: 0.7958 - val_loss: 0.4828 - val_accuracy: 0.7969\n",
      "Epoch 3/20\n",
      "640/640 - 0s - loss: 0.4735 - accuracy: 0.7958 - val_loss: 0.4711 - val_accuracy: 0.7969\n",
      "Epoch 4/20\n",
      "640/640 - 0s - loss: 0.4609 - accuracy: 0.7958 - val_loss: 0.4612 - val_accuracy: 0.7969\n",
      "Epoch 5/20\n",
      "640/640 - 0s - loss: 0.4515 - accuracy: 0.7958 - val_loss: 0.4530 - val_accuracy: 0.7969\n",
      "Epoch 6/20\n",
      "640/640 - 0s - loss: 0.4447 - accuracy: 0.7958 - val_loss: 0.4467 - val_accuracy: 0.7969\n",
      "Epoch 7/20\n",
      "640/640 - 0s - loss: 0.4388 - accuracy: 0.7958 - val_loss: 0.4418 - val_accuracy: 0.7969\n",
      "Epoch 8/20\n",
      "640/640 - 0s - loss: 0.4335 - accuracy: 0.7958 - val_loss: 0.4373 - val_accuracy: 0.7969\n",
      "Epoch 9/20\n",
      "640/640 - 1s - loss: 0.4283 - accuracy: 0.7958 - val_loss: 0.4319 - val_accuracy: 0.7969\n",
      "Epoch 10/20\n",
      "640/640 - 1s - loss: 0.4229 - accuracy: 0.7995 - val_loss: 0.4265 - val_accuracy: 0.7981\n",
      "Epoch 11/20\n",
      "640/640 - 1s - loss: 0.4175 - accuracy: 0.8020 - val_loss: 0.4226 - val_accuracy: 0.7987\n",
      "Epoch 12/20\n",
      "640/640 - 0s - loss: 0.4120 - accuracy: 0.8112 - val_loss: 0.4195 - val_accuracy: 0.8106\n",
      "Epoch 13/20\n",
      "640/640 - 1s - loss: 0.4074 - accuracy: 0.8219 - val_loss: 0.4132 - val_accuracy: 0.8181\n",
      "Epoch 14/20\n",
      "640/640 - 0s - loss: 0.4001 - accuracy: 0.8256 - val_loss: 0.4094 - val_accuracy: 0.8181\n",
      "Epoch 15/20\n",
      "640/640 - 0s - loss: 0.3949 - accuracy: 0.8311 - val_loss: 0.4031 - val_accuracy: 0.8231\n",
      "Epoch 16/20\n",
      "640/640 - 0s - loss: 0.3895 - accuracy: 0.8398 - val_loss: 0.3991 - val_accuracy: 0.8288\n",
      "Epoch 17/20\n",
      "640/640 - 0s - loss: 0.3849 - accuracy: 0.8398 - val_loss: 0.3949 - val_accuracy: 0.8331\n",
      "Epoch 18/20\n",
      "640/640 - 0s - loss: 0.3799 - accuracy: 0.8442 - val_loss: 0.3919 - val_accuracy: 0.8306\n",
      "Epoch 19/20\n",
      "640/640 - 0s - loss: 0.3762 - accuracy: 0.8467 - val_loss: 0.3893 - val_accuracy: 0.8313\n",
      "Epoch 20/20\n",
      "640/640 - 1s - loss: 0.3729 - accuracy: 0.8506 - val_loss: 0.3874 - val_accuracy: 0.8344\n"
     ]
    }
   ],
   "source": [
    "model = Sequential([\n",
    "    Dense(units=10, input_shape=(10, ), activation='relu'),\n",
    "    Dense(units=5, activation='relu'),\n",
    "    Dense(units=1, activation='sigmoid')\n",
    "])\n",
    "\n",
    "model.compile(optimizer='adam', loss='binary_crossentropy', metrics=['accuracy'])\n",
    "model_history = model.fit(x=X_train, y=y_train, validation_split=0.2, batch_size=10, epochs=20, verbose=2)"
   ]
  },
  {
   "cell_type": "code",
   "execution_count": 42,
   "id": "stuck-throat",
   "metadata": {},
   "outputs": [
    {
     "data": {
      "text/plain": [
       "0.8465"
      ]
     },
     "execution_count": 42,
     "metadata": {},
     "output_type": "execute_result"
    }
   ],
   "source": [
    "predicted_values = model.predict(X_test)\n",
    "predicted_values = (predicted_values > 0.5)\n",
    "accuracy = accuracy_score(y_test, predicted_values)\n",
    "accuracy"
   ]
  },
  {
   "cell_type": "code",
   "execution_count": 44,
   "id": "forbidden-worship",
   "metadata": {},
   "outputs": [
    {
     "name": "stdout",
     "output_type": "stream",
     "text": [
      "Epoch 1/20\n",
      "640/640 - 1s - loss: 0.4354 - accuracy: 0.7958 - val_loss: 0.4076 - val_accuracy: 0.7969\n",
      "Epoch 2/20\n",
      "640/640 - 1s - loss: 0.4091 - accuracy: 0.7958 - val_loss: 0.4065 - val_accuracy: 0.7969\n",
      "Epoch 3/20\n",
      "640/640 - 1s - loss: 0.4086 - accuracy: 0.7958 - val_loss: 0.4064 - val_accuracy: 0.7969\n",
      "Epoch 4/20\n",
      "640/640 - 1s - loss: 0.4085 - accuracy: 0.7958 - val_loss: 0.4063 - val_accuracy: 0.7969\n",
      "Epoch 5/20\n",
      "640/640 - 0s - loss: 0.4085 - accuracy: 0.7958 - val_loss: 0.4063 - val_accuracy: 0.7969\n",
      "Epoch 6/20\n",
      "640/640 - 1s - loss: 0.4085 - accuracy: 0.7958 - val_loss: 0.4063 - val_accuracy: 0.7969\n",
      "Epoch 7/20\n",
      "640/640 - 1s - loss: 0.4085 - accuracy: 0.7958 - val_loss: 0.4063 - val_accuracy: 0.7969\n",
      "Epoch 8/20\n",
      "640/640 - 1s - loss: 0.4084 - accuracy: 0.7958 - val_loss: 0.4063 - val_accuracy: 0.7969\n",
      "Epoch 9/20\n",
      "640/640 - 1s - loss: 0.4084 - accuracy: 0.7958 - val_loss: 0.4063 - val_accuracy: 0.7969\n",
      "Epoch 10/20\n",
      "640/640 - 1s - loss: 0.4084 - accuracy: 0.7958 - val_loss: 0.4063 - val_accuracy: 0.7969\n",
      "Epoch 11/20\n",
      "640/640 - 0s - loss: 0.4084 - accuracy: 0.7958 - val_loss: 0.4063 - val_accuracy: 0.7969\n",
      "Epoch 12/20\n",
      "640/640 - 1s - loss: 0.4084 - accuracy: 0.7958 - val_loss: 0.4063 - val_accuracy: 0.7969\n",
      "Epoch 13/20\n",
      "640/640 - 0s - loss: 0.4084 - accuracy: 0.7958 - val_loss: 0.4063 - val_accuracy: 0.7969\n",
      "Epoch 14/20\n",
      "640/640 - 0s - loss: 0.4084 - accuracy: 0.7958 - val_loss: 0.4063 - val_accuracy: 0.7969\n",
      "Epoch 15/20\n",
      "640/640 - 0s - loss: 0.4084 - accuracy: 0.7958 - val_loss: 0.4063 - val_accuracy: 0.7969\n",
      "Epoch 16/20\n",
      "640/640 - 1s - loss: 0.4084 - accuracy: 0.7958 - val_loss: 0.4063 - val_accuracy: 0.7969\n",
      "Epoch 17/20\n",
      "640/640 - 1s - loss: 0.4084 - accuracy: 0.7958 - val_loss: 0.4063 - val_accuracy: 0.7969\n",
      "Epoch 18/20\n",
      "640/640 - 0s - loss: 0.4084 - accuracy: 0.7958 - val_loss: 0.4063 - val_accuracy: 0.7969\n",
      "Epoch 19/20\n",
      "640/640 - 1s - loss: 0.4084 - accuracy: 0.7958 - val_loss: 0.4062 - val_accuracy: 0.7969\n",
      "Epoch 20/20\n",
      "640/640 - 1s - loss: 0.4084 - accuracy: 0.7958 - val_loss: 0.4062 - val_accuracy: 0.7969\n"
     ]
    }
   ],
   "source": [
    "model = Sequential()\n",
    "model.add(Dense(units = 10, input_shape=(10, ), activation = 'relu'))\n",
    "model.add(Dense(units = 5, activation = 'relu'))\n",
    "model.add(Dense(units = 1, activation = 'tanh'))\n",
    "\n",
    "model.compile(optimizer='adam', loss='hinge', metrics=['accuracy'])\n",
    "model_history = model.fit(x=X_train, y=y_train, validation_split=0.2, batch_size=10, epochs=20, verbose=2)"
   ]
  },
  {
   "cell_type": "code",
   "execution_count": null,
   "id": "municipal-claim",
   "metadata": {},
   "outputs": [],
   "source": []
  }
 ],
 "metadata": {
  "kernelspec": {
   "display_name": "Python 3",
   "language": "python",
   "name": "python3"
  },
  "language_info": {
   "codemirror_mode": {
    "name": "ipython",
    "version": 3
   },
   "file_extension": ".py",
   "mimetype": "text/x-python",
   "name": "python",
   "nbconvert_exporter": "python",
   "pygments_lexer": "ipython3",
   "version": "3.8.5"
  }
 },
 "nbformat": 4,
 "nbformat_minor": 5
}
